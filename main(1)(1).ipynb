{
 "cells": [
  {
   "cell_type": "markdown",
   "metadata": {},
   "source": [
    "## 1. Data 가져오기"
   ]
  },
  {
   "cell_type": "code",
   "execution_count": 421,
   "metadata": {},
   "outputs": [],
   "source": [
    "import pandas as pd\n",
    "import numpy as np\n",
    "import matplotlib.pyplot as plt\n",
    "import seaborn as sns\n",
    "import os\n",
    "import warnings\n",
    "warnings.filterwarnings('ignore')\n"
   ]
  },
  {
   "cell_type": "code",
   "execution_count": 422,
   "metadata": {},
   "outputs": [],
   "source": [
    "KP_2020 = pd.read_csv(\"C:/Users/user/Desktop/사본(73) - 활용데이터/KP2020.csv\",encoding='cp949')\n",
    "KP_2021 = pd.read_csv(\"C:/Users/user/Desktop/사본(73) - 활용데이터/KP2021.csv\",encoding='cp949')\n",
    "NPA_2020 = pd.read_csv(\"C:/Users/user/Desktop/사본(73) - 활용데이터/NPA2020.csv\",encoding='cp949')\n",
    "ASAN_CCTV = pd.read_csv(\"C:/Users/user/Desktop/충남,대전, 세종 무인교통단속카메라/asan.csv\",encoding='cp949')\n",
    "BORYEONG_CCTV = pd.read_csv(\"C:/Users/user/Desktop/충남,대전, 세종 무인교통단속카메라/boryeong.csv\",encoding='cp949')\n",
    "CHEONAN_CCTV = pd.read_csv(\"C:/Users/user/Desktop/충남,대전, 세종 무인교통단속카메라/cheonan.csv\",encoding='cp949')\n",
    "CHUNGYANG_CCTV = pd.read_csv(\"C:/Users/user/Desktop/충남,대전, 세종 무인교통단속카메라/chungyang.csv\",encoding='cp949')\n",
    "DAEJEON_CCTV = pd.read_csv(\"C:/Users/user/Desktop/충남,대전, 세종 무인교통단속카메라/daejeon.csv\",encoding='cp949')\n",
    "DANGJIN_CCTV = pd.read_csv(\"C:/Users/user/Desktop/충남,대전, 세종 무인교통단속카메라/dangjin.csv\",encoding='cp949')\n",
    "GEOMSAN_CCTV = pd.read_csv(\"C:/Users/user/Desktop/충남,대전, 세종 무인교통단속카메라/geomsan.csv\",encoding='cp949')\n",
    "SEJONG_CCTV = pd.read_csv(\"C:/Users/user/Desktop/충남,대전, 세종 무인교통단속카메라/sejong.csv\",encoding='cp949')\n",
    "SEOCHEON_CCTV = pd.read_csv(\"C:/Users/user/Desktop/충남,대전, 세종 무인교통단속카메라/seocheon.csv\",encoding='cp949')\n",
    "SEOSAN_CCTV = pd.read_csv(\"C:/Users/user/Desktop/충남,대전, 세종 무인교통단속카메라/seosan.csv\",encoding='cp949')\n",
    "TAEAN_CCTV = pd.read_csv(\"C:/Users/user/Desktop/충남,대전, 세종 무인교통단속카메라/taean.csv\",encoding='cp949')\n",
    "YESAN_CCTV = pd.read_csv(\"C:/Users/user/Desktop/충남,대전, 세종 무인교통단속카메라/yesan.csv\",encoding='cp949')"
   ]
  },
  {
   "cell_type": "markdown",
   "metadata": {},
   "source": [
    "|Column|Description|\n",
    "|:---|:---|\n",
    "|RECV_DEPT_NM|접수 부서|\n",
    "|RECV_CPLT_DM|접수 완료 일시|\n",
    "|NPA_CL|경찰청 구분(코드 번호)|\n",
    "|EVT_STAT_CD|사건 상태 코드|\n",
    "|EVT_CL_CD|사건 종별 코드|\n",
    "|RPTER_SEX|성별(남:1, 여:2, 불상:3)|\n",
    "|HPPN_PNU_ADDR|사건 발생 주소|\n",
    "|HPPN_X|주소 좌표(경도)|\n",
    "|HPPN_Y|주소 좌표(위도)|\n",
    "|SME_EVT_Y|동일 사건 여부|"
   ]
  },
  {
   "cell_type": "markdown",
   "metadata": {},
   "source": [
    "### NPA Column"
   ]
  },
  {
   "cell_type": "markdown",
   "metadata": {},
   "source": [
    "|Column|Description|\n",
    "|:---|:---|\n",
    "|RECV_CPLT_DT|접수 완료 일자|\n",
    "|RECV_CPLT_TM|접수 완료 시간|"
   ]
  },
  {
   "cell_type": "markdown",
   "metadata": {},
   "source": [
    "# 2. Data 전처리"
   ]
  },
  {
   "cell_type": "markdown",
   "metadata": {},
   "source": [
    "## 1. KP_2020"
   ]
  },
  {
   "cell_type": "code",
   "execution_count": 423,
   "metadata": {},
   "outputs": [
    {
     "data": {
      "text/html": [
       "<div>\n",
       "<style scoped>\n",
       "    .dataframe tbody tr th:only-of-type {\n",
       "        vertical-align: middle;\n",
       "    }\n",
       "\n",
       "    .dataframe tbody tr th {\n",
       "        vertical-align: top;\n",
       "    }\n",
       "\n",
       "    .dataframe thead th {\n",
       "        text-align: right;\n",
       "    }\n",
       "</style>\n",
       "<table border=\"1\" class=\"dataframe\">\n",
       "  <thead>\n",
       "    <tr style=\"text-align: right;\">\n",
       "      <th></th>\n",
       "      <th>NPA_CL</th>\n",
       "      <th>EVT_STAT_CD</th>\n",
       "      <th>EVT_CL_CD</th>\n",
       "      <th>RPTER_SEX</th>\n",
       "      <th>HPPN_X</th>\n",
       "      <th>HPPN_Y</th>\n",
       "      <th>SME_EVT_YN</th>\n",
       "    </tr>\n",
       "  </thead>\n",
       "  <tbody>\n",
       "    <tr>\n",
       "      <th>0</th>\n",
       "      <td>19</td>\n",
       "      <td>10</td>\n",
       "      <td>305</td>\n",
       "      <td>1.0</td>\n",
       "      <td>126.598345</td>\n",
       "      <td>36.341537</td>\n",
       "      <td>Y</td>\n",
       "    </tr>\n",
       "    <tr>\n",
       "      <th>1</th>\n",
       "      <td>13</td>\n",
       "      <td>10</td>\n",
       "      <td>601</td>\n",
       "      <td>3.0</td>\n",
       "      <td>127.404663</td>\n",
       "      <td>36.341685</td>\n",
       "      <td>NaN</td>\n",
       "    </tr>\n",
       "    <tr>\n",
       "      <th>2</th>\n",
       "      <td>13</td>\n",
       "      <td>10</td>\n",
       "      <td>601</td>\n",
       "      <td>1.0</td>\n",
       "      <td>127.404663</td>\n",
       "      <td>36.341685</td>\n",
       "      <td>NaN</td>\n",
       "    </tr>\n",
       "    <tr>\n",
       "      <th>3</th>\n",
       "      <td>19</td>\n",
       "      <td>10</td>\n",
       "      <td>606</td>\n",
       "      <td>3.0</td>\n",
       "      <td>126.524980</td>\n",
       "      <td>36.474390</td>\n",
       "      <td>N</td>\n",
       "    </tr>\n",
       "    <tr>\n",
       "      <th>4</th>\n",
       "      <td>19</td>\n",
       "      <td>10</td>\n",
       "      <td>401</td>\n",
       "      <td>2.0</td>\n",
       "      <td>127.137160</td>\n",
       "      <td>36.826718</td>\n",
       "      <td>NaN</td>\n",
       "    </tr>\n",
       "    <tr>\n",
       "      <th>...</th>\n",
       "      <td>...</td>\n",
       "      <td>...</td>\n",
       "      <td>...</td>\n",
       "      <td>...</td>\n",
       "      <td>...</td>\n",
       "      <td>...</td>\n",
       "      <td>...</td>\n",
       "    </tr>\n",
       "    <tr>\n",
       "      <th>77072</th>\n",
       "      <td>19</td>\n",
       "      <td>10</td>\n",
       "      <td>302</td>\n",
       "      <td>2.0</td>\n",
       "      <td>126.571002</td>\n",
       "      <td>36.387791</td>\n",
       "      <td>NaN</td>\n",
       "    </tr>\n",
       "    <tr>\n",
       "      <th>77073</th>\n",
       "      <td>19</td>\n",
       "      <td>10</td>\n",
       "      <td>501</td>\n",
       "      <td>3.0</td>\n",
       "      <td>NaN</td>\n",
       "      <td>NaN</td>\n",
       "      <td>NaN</td>\n",
       "    </tr>\n",
       "    <tr>\n",
       "      <th>77074</th>\n",
       "      <td>19</td>\n",
       "      <td>10</td>\n",
       "      <td>604</td>\n",
       "      <td>3.0</td>\n",
       "      <td>127.000391</td>\n",
       "      <td>36.788411</td>\n",
       "      <td>NaN</td>\n",
       "    </tr>\n",
       "    <tr>\n",
       "      <th>77075</th>\n",
       "      <td>13</td>\n",
       "      <td>10</td>\n",
       "      <td>302</td>\n",
       "      <td>2.0</td>\n",
       "      <td>127.373351</td>\n",
       "      <td>36.348051</td>\n",
       "      <td>Y</td>\n",
       "    </tr>\n",
       "    <tr>\n",
       "      <th>77076</th>\n",
       "      <td>13</td>\n",
       "      <td>10</td>\n",
       "      <td>601</td>\n",
       "      <td>3.0</td>\n",
       "      <td>NaN</td>\n",
       "      <td>NaN</td>\n",
       "      <td>NaN</td>\n",
       "    </tr>\n",
       "  </tbody>\n",
       "</table>\n",
       "<p>77077 rows × 7 columns</p>\n",
       "</div>"
      ],
      "text/plain": [
       "       NPA_CL  EVT_STAT_CD  EVT_CL_CD  RPTER_SEX      HPPN_X     HPPN_Y  \\\n",
       "0          19           10        305        1.0  126.598345  36.341537   \n",
       "1          13           10        601        3.0  127.404663  36.341685   \n",
       "2          13           10        601        1.0  127.404663  36.341685   \n",
       "3          19           10        606        3.0  126.524980  36.474390   \n",
       "4          19           10        401        2.0  127.137160  36.826718   \n",
       "...       ...          ...        ...        ...         ...        ...   \n",
       "77072      19           10        302        2.0  126.571002  36.387791   \n",
       "77073      19           10        501        3.0         NaN        NaN   \n",
       "77074      19           10        604        3.0  127.000391  36.788411   \n",
       "77075      13           10        302        2.0  127.373351  36.348051   \n",
       "77076      13           10        601        3.0         NaN        NaN   \n",
       "\n",
       "      SME_EVT_YN  \n",
       "0              Y  \n",
       "1            NaN  \n",
       "2            NaN  \n",
       "3              N  \n",
       "4            NaN  \n",
       "...          ...  \n",
       "77072        NaN  \n",
       "77073        NaN  \n",
       "77074        NaN  \n",
       "77075          Y  \n",
       "77076        NaN  \n",
       "\n",
       "[77077 rows x 7 columns]"
      ]
     },
     "execution_count": 423,
     "metadata": {},
     "output_type": "execute_result"
    }
   ],
   "source": [
    "### 필요없는 항목 제거 => 경찰청 이름, 시간, 사건 발생 주소\n",
    "KP_2020.drop(['RECV_DEPT_NM','RECV_CPLT_DM','HPPN_PNU_ADDR'], axis=1, inplace=True)\n",
    "KP_2020"
   ]
  },
  {
   "cell_type": "code",
   "execution_count": 424,
   "metadata": {},
   "outputs": [
    {
     "data": {
      "text/plain": [
       "NPA_CL             0\n",
       "EVT_STAT_CD        0\n",
       "EVT_CL_CD          0\n",
       "RPTER_SEX       2419\n",
       "HPPN_X         16764\n",
       "HPPN_Y         16764\n",
       "SME_EVT_YN     63635\n",
       "dtype: int64"
      ]
     },
     "execution_count": 424,
     "metadata": {},
     "output_type": "execute_result"
    }
   ],
   "source": [
    "KP_2020.isnull().sum()"
   ]
  },
  {
   "cell_type": "code",
   "execution_count": 425,
   "metadata": {},
   "outputs": [
    {
     "data": {
      "text/html": [
       "<div>\n",
       "<style scoped>\n",
       "    .dataframe tbody tr th:only-of-type {\n",
       "        vertical-align: middle;\n",
       "    }\n",
       "\n",
       "    .dataframe tbody tr th {\n",
       "        vertical-align: top;\n",
       "    }\n",
       "\n",
       "    .dataframe thead th {\n",
       "        text-align: right;\n",
       "    }\n",
       "</style>\n",
       "<table border=\"1\" class=\"dataframe\">\n",
       "  <thead>\n",
       "    <tr style=\"text-align: right;\">\n",
       "      <th></th>\n",
       "      <th>NPA_CL</th>\n",
       "      <th>EVT_STAT_CD</th>\n",
       "      <th>EVT_CL_CD</th>\n",
       "      <th>HPPN_X</th>\n",
       "      <th>HPPN_Y</th>\n",
       "    </tr>\n",
       "  </thead>\n",
       "  <tbody>\n",
       "    <tr>\n",
       "      <th>0</th>\n",
       "      <td>19</td>\n",
       "      <td>10</td>\n",
       "      <td>305</td>\n",
       "      <td>126.598345</td>\n",
       "      <td>36.341537</td>\n",
       "    </tr>\n",
       "    <tr>\n",
       "      <th>1</th>\n",
       "      <td>13</td>\n",
       "      <td>10</td>\n",
       "      <td>601</td>\n",
       "      <td>127.404663</td>\n",
       "      <td>36.341685</td>\n",
       "    </tr>\n",
       "    <tr>\n",
       "      <th>2</th>\n",
       "      <td>13</td>\n",
       "      <td>10</td>\n",
       "      <td>601</td>\n",
       "      <td>127.404663</td>\n",
       "      <td>36.341685</td>\n",
       "    </tr>\n",
       "    <tr>\n",
       "      <th>3</th>\n",
       "      <td>19</td>\n",
       "      <td>10</td>\n",
       "      <td>606</td>\n",
       "      <td>126.524980</td>\n",
       "      <td>36.474390</td>\n",
       "    </tr>\n",
       "    <tr>\n",
       "      <th>4</th>\n",
       "      <td>19</td>\n",
       "      <td>10</td>\n",
       "      <td>401</td>\n",
       "      <td>127.137160</td>\n",
       "      <td>36.826718</td>\n",
       "    </tr>\n",
       "  </tbody>\n",
       "</table>\n",
       "</div>"
      ],
      "text/plain": [
       "   NPA_CL  EVT_STAT_CD  EVT_CL_CD      HPPN_X     HPPN_Y\n",
       "0      19           10        305  126.598345  36.341537\n",
       "1      13           10        601  127.404663  36.341685\n",
       "2      13           10        601  127.404663  36.341685\n",
       "3      19           10        606  126.524980  36.474390\n",
       "4      19           10        401  127.137160  36.826718"
      ]
     },
     "execution_count": 425,
     "metadata": {},
     "output_type": "execute_result"
    }
   ],
   "source": [
    "### NULL 값 많은것도 그냥 삭제\n",
    "KP_2020.drop(['RPTER_SEX','SME_EVT_YN'], axis=1, inplace=True)\n",
    "KP_2020.head()"
   ]
  },
  {
   "cell_type": "markdown",
   "metadata": {},
   "source": []
  },
  {
   "cell_type": "markdown",
   "metadata": {},
   "source": [
    "## 2. KP_2021"
   ]
  },
  {
   "cell_type": "code",
   "execution_count": 426,
   "metadata": {},
   "outputs": [],
   "source": [
    "### 필요없는 항목 제거 => 경찰청 이름, 시간, 사건 발생 주소, 주소 좌표\n",
    "\n",
    "KP_2021.drop(['RECV_DEPT_NM','RECV_CPLT_DM','HPPN_PNU_ADDR'], axis=1, inplace=True)"
   ]
  },
  {
   "cell_type": "code",
   "execution_count": 427,
   "metadata": {},
   "outputs": [
    {
     "data": {
      "text/plain": [
       "NPA_CL               0\n",
       "EVT_STAT_CD          0\n",
       "EVT_CL_CD            0\n",
       "RPTER_SEX        23894\n",
       "HPPN_X          694401\n",
       "HPPN_Y          694401\n",
       "SME_EVT_YN     2079123\n",
       "dtype: int64"
      ]
     },
     "execution_count": 427,
     "metadata": {},
     "output_type": "execute_result"
    }
   ],
   "source": [
    "KP_2021.isnull().sum()"
   ]
  },
  {
   "cell_type": "code",
   "execution_count": 428,
   "metadata": {},
   "outputs": [
    {
     "data": {
      "text/html": [
       "<div>\n",
       "<style scoped>\n",
       "    .dataframe tbody tr th:only-of-type {\n",
       "        vertical-align: middle;\n",
       "    }\n",
       "\n",
       "    .dataframe tbody tr th {\n",
       "        vertical-align: top;\n",
       "    }\n",
       "\n",
       "    .dataframe thead th {\n",
       "        text-align: right;\n",
       "    }\n",
       "</style>\n",
       "<table border=\"1\" class=\"dataframe\">\n",
       "  <thead>\n",
       "    <tr style=\"text-align: right;\">\n",
       "      <th></th>\n",
       "      <th>NPA_CL</th>\n",
       "      <th>EVT_STAT_CD</th>\n",
       "      <th>EVT_CL_CD</th>\n",
       "      <th>HPPN_X</th>\n",
       "      <th>HPPN_Y</th>\n",
       "    </tr>\n",
       "  </thead>\n",
       "  <tbody>\n",
       "    <tr>\n",
       "      <th>0</th>\n",
       "      <td>13</td>\n",
       "      <td>10</td>\n",
       "      <td>604</td>\n",
       "      <td>127.373676</td>\n",
       "      <td>36.350975</td>\n",
       "    </tr>\n",
       "    <tr>\n",
       "      <th>1</th>\n",
       "      <td>13</td>\n",
       "      <td>10</td>\n",
       "      <td>201</td>\n",
       "      <td>127.339018</td>\n",
       "      <td>36.347420</td>\n",
       "    </tr>\n",
       "    <tr>\n",
       "      <th>2</th>\n",
       "      <td>13</td>\n",
       "      <td>10</td>\n",
       "      <td>601</td>\n",
       "      <td>127.404663</td>\n",
       "      <td>36.341685</td>\n",
       "    </tr>\n",
       "    <tr>\n",
       "      <th>3</th>\n",
       "      <td>13</td>\n",
       "      <td>10</td>\n",
       "      <td>601</td>\n",
       "      <td>127.404663</td>\n",
       "      <td>36.341685</td>\n",
       "    </tr>\n",
       "    <tr>\n",
       "      <th>4</th>\n",
       "      <td>13</td>\n",
       "      <td>10</td>\n",
       "      <td>308</td>\n",
       "      <td>127.420455</td>\n",
       "      <td>36.330413</td>\n",
       "    </tr>\n",
       "  </tbody>\n",
       "</table>\n",
       "</div>"
      ],
      "text/plain": [
       "   NPA_CL  EVT_STAT_CD  EVT_CL_CD      HPPN_X     HPPN_Y\n",
       "0      13           10        604  127.373676  36.350975\n",
       "1      13           10        201  127.339018  36.347420\n",
       "2      13           10        601  127.404663  36.341685\n",
       "3      13           10        601  127.404663  36.341685\n",
       "4      13           10        308  127.420455  36.330413"
      ]
     },
     "execution_count": 428,
     "metadata": {},
     "output_type": "execute_result"
    }
   ],
   "source": [
    "### NULL 값 많은것도 그냥 삭제\n",
    "KP_2021.drop(['RPTER_SEX','SME_EVT_YN'], axis=1, inplace=True)\n",
    "KP_2021.head()"
   ]
  },
  {
   "cell_type": "markdown",
   "metadata": {},
   "source": [
    "## 3. NPA_2020"
   ]
  },
  {
   "cell_type": "code",
   "execution_count": 429,
   "metadata": {},
   "outputs": [
    {
     "data": {
      "text/html": [
       "<div>\n",
       "<style scoped>\n",
       "    .dataframe tbody tr th:only-of-type {\n",
       "        vertical-align: middle;\n",
       "    }\n",
       "\n",
       "    .dataframe tbody tr th {\n",
       "        vertical-align: top;\n",
       "    }\n",
       "\n",
       "    .dataframe thead th {\n",
       "        text-align: right;\n",
       "    }\n",
       "</style>\n",
       "<table border=\"1\" class=\"dataframe\">\n",
       "  <thead>\n",
       "    <tr style=\"text-align: right;\">\n",
       "      <th></th>\n",
       "      <th>NPA_CL</th>\n",
       "      <th>EVT_STAT_CD</th>\n",
       "      <th>EVT_CL_CD</th>\n",
       "      <th>HPPN_X</th>\n",
       "      <th>HPPN_Y</th>\n",
       "    </tr>\n",
       "  </thead>\n",
       "  <tbody>\n",
       "    <tr>\n",
       "      <th>0</th>\n",
       "      <td>13</td>\n",
       "      <td>10</td>\n",
       "      <td>501</td>\n",
       "      <td>127.409270</td>\n",
       "      <td>36.333010</td>\n",
       "    </tr>\n",
       "    <tr>\n",
       "      <th>1</th>\n",
       "      <td>13</td>\n",
       "      <td>10</td>\n",
       "      <td>501</td>\n",
       "      <td>127.421295</td>\n",
       "      <td>36.325575</td>\n",
       "    </tr>\n",
       "    <tr>\n",
       "      <th>2</th>\n",
       "      <td>13</td>\n",
       "      <td>10</td>\n",
       "      <td>501</td>\n",
       "      <td>127.404663</td>\n",
       "      <td>36.341685</td>\n",
       "    </tr>\n",
       "    <tr>\n",
       "      <th>3</th>\n",
       "      <td>13</td>\n",
       "      <td>10</td>\n",
       "      <td>601</td>\n",
       "      <td>0.000000</td>\n",
       "      <td>0.000000</td>\n",
       "    </tr>\n",
       "    <tr>\n",
       "      <th>4</th>\n",
       "      <td>13</td>\n",
       "      <td>10</td>\n",
       "      <td>601</td>\n",
       "      <td>127.404663</td>\n",
       "      <td>36.341685</td>\n",
       "    </tr>\n",
       "    <tr>\n",
       "      <th>...</th>\n",
       "      <td>...</td>\n",
       "      <td>...</td>\n",
       "      <td>...</td>\n",
       "      <td>...</td>\n",
       "      <td>...</td>\n",
       "    </tr>\n",
       "    <tr>\n",
       "      <th>1178239</th>\n",
       "      <td>19</td>\n",
       "      <td>10</td>\n",
       "      <td>501</td>\n",
       "      <td>NaN</td>\n",
       "      <td>NaN</td>\n",
       "    </tr>\n",
       "    <tr>\n",
       "      <th>1178240</th>\n",
       "      <td>13</td>\n",
       "      <td>10</td>\n",
       "      <td>601</td>\n",
       "      <td>127.404663</td>\n",
       "      <td>36.341685</td>\n",
       "    </tr>\n",
       "    <tr>\n",
       "      <th>1178241</th>\n",
       "      <td>19</td>\n",
       "      <td>10</td>\n",
       "      <td>601</td>\n",
       "      <td>NaN</td>\n",
       "      <td>NaN</td>\n",
       "    </tr>\n",
       "    <tr>\n",
       "      <th>1178242</th>\n",
       "      <td>19</td>\n",
       "      <td>5</td>\n",
       "      <td>301</td>\n",
       "      <td>126.516040</td>\n",
       "      <td>36.305619</td>\n",
       "    </tr>\n",
       "    <tr>\n",
       "      <th>1178243</th>\n",
       "      <td>13</td>\n",
       "      <td>10</td>\n",
       "      <td>601</td>\n",
       "      <td>127.404663</td>\n",
       "      <td>36.341685</td>\n",
       "    </tr>\n",
       "  </tbody>\n",
       "</table>\n",
       "<p>1178244 rows × 5 columns</p>\n",
       "</div>"
      ],
      "text/plain": [
       "         NPA_CL  EVT_STAT_CD  EVT_CL_CD      HPPN_X     HPPN_Y\n",
       "0            13           10        501  127.409270  36.333010\n",
       "1            13           10        501  127.421295  36.325575\n",
       "2            13           10        501  127.404663  36.341685\n",
       "3            13           10        601    0.000000   0.000000\n",
       "4            13           10        601  127.404663  36.341685\n",
       "...         ...          ...        ...         ...        ...\n",
       "1178239      19           10        501         NaN        NaN\n",
       "1178240      13           10        601  127.404663  36.341685\n",
       "1178241      19           10        601         NaN        NaN\n",
       "1178242      19            5        301  126.516040  36.305619\n",
       "1178243      13           10        601  127.404663  36.341685\n",
       "\n",
       "[1178244 rows x 5 columns]"
      ]
     },
     "execution_count": 429,
     "metadata": {},
     "output_type": "execute_result"
    }
   ],
   "source": [
    "### 필요없는 항목 제거 => 사건 날짜, 접수 완료 시간, 발생 주소, 발생 좌표, 동일 사건 여부\n",
    "NPA_2020.drop(['RECV_CPLT_DT','HPPN_OLD_ADDR','SME_EVT_YN','RPTER_SEX','RECV_CPLT_TM'], axis=1, inplace=True)\n",
    "NPA_2020"
   ]
  },
  {
   "cell_type": "markdown",
   "metadata": {},
   "source": [
    "## CCTV"
   ]
  },
  {
   "cell_type": "markdown",
   "metadata": {},
   "source": [
    "#### 1. 아산"
   ]
  },
  {
   "cell_type": "code",
   "execution_count": 430,
   "metadata": {},
   "outputs": [
    {
     "data": {
      "text/html": [
       "<div>\n",
       "<style scoped>\n",
       "    .dataframe tbody tr th:only-of-type {\n",
       "        vertical-align: middle;\n",
       "    }\n",
       "\n",
       "    .dataframe tbody tr th {\n",
       "        vertical-align: top;\n",
       "    }\n",
       "\n",
       "    .dataframe thead th {\n",
       "        text-align: right;\n",
       "    }\n",
       "</style>\n",
       "<table border=\"1\" class=\"dataframe\">\n",
       "  <thead>\n",
       "    <tr style=\"text-align: right;\">\n",
       "      <th></th>\n",
       "      <th>무인교통단속카메라관리번호</th>\n",
       "      <th>시도명</th>\n",
       "      <th>시군구명</th>\n",
       "      <th>도로종류</th>\n",
       "      <th>도로노선번호</th>\n",
       "      <th>도로노선명</th>\n",
       "      <th>도로노선방향</th>\n",
       "      <th>소재지도로명주소</th>\n",
       "      <th>소재지지번주소</th>\n",
       "      <th>위도</th>\n",
       "      <th>...</th>\n",
       "      <th>설치장소</th>\n",
       "      <th>단속구분</th>\n",
       "      <th>제한속도</th>\n",
       "      <th>단속구간위치구분</th>\n",
       "      <th>과속단속구간길이</th>\n",
       "      <th>보호구역구분</th>\n",
       "      <th>설치년도</th>\n",
       "      <th>관리기관명</th>\n",
       "      <th>관리기관전화번호</th>\n",
       "      <th>데이터기준일자</th>\n",
       "    </tr>\n",
       "  </thead>\n",
       "  <tbody>\n",
       "    <tr>\n",
       "      <th>0</th>\n",
       "      <td>NEXPA_01</td>\n",
       "      <td>충청남도</td>\n",
       "      <td>아산시</td>\n",
       "      <td>일반국도</td>\n",
       "      <td>48번</td>\n",
       "      <td>실옥로</td>\n",
       "      <td>NaN</td>\n",
       "      <td>충청남도 아산시 실옥로 48</td>\n",
       "      <td>NaN</td>\n",
       "      <td>36.787433</td>\n",
       "      <td>...</td>\n",
       "      <td>천도초등학교주변</td>\n",
       "      <td>4</td>\n",
       "      <td>0</td>\n",
       "      <td>NaN</td>\n",
       "      <td>NaN</td>\n",
       "      <td>2.0</td>\n",
       "      <td>2006-09-01</td>\n",
       "      <td>아산시청 교통행정과</td>\n",
       "      <td>041-540-2953</td>\n",
       "      <td>2020-09-17</td>\n",
       "    </tr>\n",
       "    <tr>\n",
       "      <th>1</th>\n",
       "      <td>NEXPA_02</td>\n",
       "      <td>충청남도</td>\n",
       "      <td>아산시</td>\n",
       "      <td>일반국도</td>\n",
       "      <td>374번</td>\n",
       "      <td>시민로</td>\n",
       "      <td>NaN</td>\n",
       "      <td>충청남도 아산시 시민로 374</td>\n",
       "      <td>NaN</td>\n",
       "      <td>36.781864</td>\n",
       "      <td>...</td>\n",
       "      <td>온양관광호텔 사거리</td>\n",
       "      <td>4</td>\n",
       "      <td>0</td>\n",
       "      <td>NaN</td>\n",
       "      <td>NaN</td>\n",
       "      <td>NaN</td>\n",
       "      <td>2006-09-01</td>\n",
       "      <td>아산시청 교통행정과</td>\n",
       "      <td>041-540-2953</td>\n",
       "      <td>2020-09-17</td>\n",
       "    </tr>\n",
       "    <tr>\n",
       "      <th>2</th>\n",
       "      <td>NEXPA_03</td>\n",
       "      <td>충청남도</td>\n",
       "      <td>아산시</td>\n",
       "      <td>일반국도</td>\n",
       "      <td>1627번</td>\n",
       "      <td>온천대로</td>\n",
       "      <td>NaN</td>\n",
       "      <td>충청남도 아산시 온천대로 1627</td>\n",
       "      <td>NaN</td>\n",
       "      <td>36.778944</td>\n",
       "      <td>...</td>\n",
       "      <td>동신초등학교주변</td>\n",
       "      <td>4</td>\n",
       "      <td>0</td>\n",
       "      <td>NaN</td>\n",
       "      <td>NaN</td>\n",
       "      <td>2.0</td>\n",
       "      <td>2006-09-01</td>\n",
       "      <td>아산시청 교통행정과</td>\n",
       "      <td>041-540-2953</td>\n",
       "      <td>2020-09-17</td>\n",
       "    </tr>\n",
       "    <tr>\n",
       "      <th>3</th>\n",
       "      <td>NEXPA_04</td>\n",
       "      <td>충청남도</td>\n",
       "      <td>아산시</td>\n",
       "      <td>일반국도</td>\n",
       "      <td>133번</td>\n",
       "      <td>번영로</td>\n",
       "      <td>NaN</td>\n",
       "      <td>충청남도 아산시 번영로 133</td>\n",
       "      <td>NaN</td>\n",
       "      <td>36.786259</td>\n",
       "      <td>...</td>\n",
       "      <td>아고오거리주변</td>\n",
       "      <td>4</td>\n",
       "      <td>0</td>\n",
       "      <td>NaN</td>\n",
       "      <td>NaN</td>\n",
       "      <td>NaN</td>\n",
       "      <td>2006-09-01</td>\n",
       "      <td>아산시청 교통행정과</td>\n",
       "      <td>041-540-2953</td>\n",
       "      <td>2020-09-17</td>\n",
       "    </tr>\n",
       "    <tr>\n",
       "      <th>4</th>\n",
       "      <td>NEXPA_05</td>\n",
       "      <td>충청남도</td>\n",
       "      <td>아산시</td>\n",
       "      <td>일반국도</td>\n",
       "      <td>101번</td>\n",
       "      <td>번영로</td>\n",
       "      <td>NaN</td>\n",
       "      <td>충청남도 아산시 번영로 101</td>\n",
       "      <td>NaN</td>\n",
       "      <td>36.786764</td>\n",
       "      <td>...</td>\n",
       "      <td>시민로사거리주변</td>\n",
       "      <td>4</td>\n",
       "      <td>0</td>\n",
       "      <td>NaN</td>\n",
       "      <td>NaN</td>\n",
       "      <td>NaN</td>\n",
       "      <td>2006-09-01</td>\n",
       "      <td>아산시청 교통행정과</td>\n",
       "      <td>041-540-2953</td>\n",
       "      <td>2020-09-17</td>\n",
       "    </tr>\n",
       "  </tbody>\n",
       "</table>\n",
       "<p>5 rows × 21 columns</p>\n",
       "</div>"
      ],
      "text/plain": [
       "  무인교통단속카메라관리번호   시도명 시군구명  도로종류 도로노선번호 도로노선명  도로노선방향            소재지도로명주소  \\\n",
       "0      NEXPA_01  충청남도  아산시  일반국도    48번   실옥로     NaN     충청남도 아산시 실옥로 48   \n",
       "1      NEXPA_02  충청남도  아산시  일반국도   374번   시민로     NaN    충청남도 아산시 시민로 374   \n",
       "2      NEXPA_03  충청남도  아산시  일반국도  1627번  온천대로     NaN  충청남도 아산시 온천대로 1627   \n",
       "3      NEXPA_04  충청남도  아산시  일반국도   133번   번영로     NaN    충청남도 아산시 번영로 133   \n",
       "4      NEXPA_05  충청남도  아산시  일반국도   101번   번영로     NaN    충청남도 아산시 번영로 101   \n",
       "\n",
       "   소재지지번주소         위도  ...        설치장소 단속구분  제한속도  단속구간위치구분  과속단속구간길이  보호구역구분  \\\n",
       "0      NaN  36.787433  ...    천도초등학교주변    4     0       NaN       NaN     2.0   \n",
       "1      NaN  36.781864  ...  온양관광호텔 사거리    4     0       NaN       NaN     NaN   \n",
       "2      NaN  36.778944  ...    동신초등학교주변    4     0       NaN       NaN     2.0   \n",
       "3      NaN  36.786259  ...     아고오거리주변    4     0       NaN       NaN     NaN   \n",
       "4      NaN  36.786764  ...    시민로사거리주변    4     0       NaN       NaN     NaN   \n",
       "\n",
       "         설치년도       관리기관명      관리기관전화번호     데이터기준일자  \n",
       "0  2006-09-01  아산시청 교통행정과  041-540-2953  2020-09-17  \n",
       "1  2006-09-01  아산시청 교통행정과  041-540-2953  2020-09-17  \n",
       "2  2006-09-01  아산시청 교통행정과  041-540-2953  2020-09-17  \n",
       "3  2006-09-01  아산시청 교통행정과  041-540-2953  2020-09-17  \n",
       "4  2006-09-01  아산시청 교통행정과  041-540-2953  2020-09-17  \n",
       "\n",
       "[5 rows x 21 columns]"
      ]
     },
     "execution_count": 430,
     "metadata": {},
     "output_type": "execute_result"
    }
   ],
   "source": [
    "ASAN_CCTV.head()"
   ]
  },
  {
   "cell_type": "code",
   "execution_count": 431,
   "metadata": {},
   "outputs": [
    {
     "data": {
      "text/plain": [
       "Index(['무인교통단속카메라관리번호', '시도명', '시군구명', '도로종류', '도로노선번호', '도로노선명', '도로노선방향',\n",
       "       '소재지도로명주소', '소재지지번주소', '위도', '경도', '설치장소', '단속구분', '제한속도', '단속구간위치구분',\n",
       "       '과속단속구간길이', '보호구역구분', '설치년도', '관리기관명', '관리기관전화번호', '데이터기준일자'],\n",
       "      dtype='object')"
      ]
     },
     "execution_count": 431,
     "metadata": {},
     "output_type": "execute_result"
    }
   ],
   "source": [
    "ASAN_CCTV.columns"
   ]
  },
  {
   "cell_type": "code",
   "execution_count": 432,
   "metadata": {},
   "outputs": [
    {
     "data": {
      "text/html": [
       "<div>\n",
       "<style scoped>\n",
       "    .dataframe tbody tr th:only-of-type {\n",
       "        vertical-align: middle;\n",
       "    }\n",
       "\n",
       "    .dataframe tbody tr th {\n",
       "        vertical-align: top;\n",
       "    }\n",
       "\n",
       "    .dataframe thead th {\n",
       "        text-align: right;\n",
       "    }\n",
       "</style>\n",
       "<table border=\"1\" class=\"dataframe\">\n",
       "  <thead>\n",
       "    <tr style=\"text-align: right;\">\n",
       "      <th></th>\n",
       "      <th>도로노선명</th>\n",
       "      <th>위도</th>\n",
       "      <th>경도</th>\n",
       "      <th>설치장소</th>\n",
       "    </tr>\n",
       "  </thead>\n",
       "  <tbody>\n",
       "    <tr>\n",
       "      <th>0</th>\n",
       "      <td>실옥로</td>\n",
       "      <td>36.787433</td>\n",
       "      <td>126.992743</td>\n",
       "      <td>천도초등학교주변</td>\n",
       "    </tr>\n",
       "    <tr>\n",
       "      <th>1</th>\n",
       "      <td>시민로</td>\n",
       "      <td>36.781864</td>\n",
       "      <td>127.000437</td>\n",
       "      <td>온양관광호텔 사거리</td>\n",
       "    </tr>\n",
       "    <tr>\n",
       "      <th>2</th>\n",
       "      <td>온천대로</td>\n",
       "      <td>36.778944</td>\n",
       "      <td>127.018453</td>\n",
       "      <td>동신초등학교주변</td>\n",
       "    </tr>\n",
       "    <tr>\n",
       "      <th>3</th>\n",
       "      <td>번영로</td>\n",
       "      <td>36.786259</td>\n",
       "      <td>127.005606</td>\n",
       "      <td>아고오거리주변</td>\n",
       "    </tr>\n",
       "    <tr>\n",
       "      <th>4</th>\n",
       "      <td>번영로</td>\n",
       "      <td>36.786764</td>\n",
       "      <td>127.002256</td>\n",
       "      <td>시민로사거리주변</td>\n",
       "    </tr>\n",
       "  </tbody>\n",
       "</table>\n",
       "</div>"
      ],
      "text/plain": [
       "  도로노선명         위도          경도        설치장소\n",
       "0   실옥로  36.787433  126.992743    천도초등학교주변\n",
       "1   시민로  36.781864  127.000437  온양관광호텔 사거리\n",
       "2  온천대로  36.778944  127.018453    동신초등학교주변\n",
       "3   번영로  36.786259  127.005606     아고오거리주변\n",
       "4   번영로  36.786764  127.002256    시민로사거리주변"
      ]
     },
     "execution_count": 432,
     "metadata": {},
     "output_type": "execute_result"
    }
   ],
   "source": [
    "ASAN_CCTV.drop(['무인교통단속카메라관리번호','도로노선번호','도로노선방향','시도명','시군구명','도로종류','소재지도로명주소','소재지지번주소','단속구분','제한속도','단속구간위치구분','과속단속구간길이','보호구역구분','설치년도','관리기관명','관리기관전화번호','데이터기준일자'], axis=1, inplace=True)\n",
    "ASAN_CCTV.head()"
   ]
  },
  {
   "cell_type": "code",
   "execution_count": 433,
   "metadata": {},
   "outputs": [
    {
     "data": {
      "text/plain": [
       "<bound method DataFrame.value_counts of     도로노선명         위도          경도            설치장소\n",
       "0     실옥로  36.787433  126.992743        천도초등학교주변\n",
       "1     시민로  36.781864  127.000437      온양관광호텔 사거리\n",
       "2    온천대로  36.778944  127.018453        동신초등학교주변\n",
       "3     번영로  36.786259  127.005606         아고오거리주변\n",
       "4     번영로  36.786764  127.002256        시민로사거리주변\n",
       "..    ...        ...         ...             ...\n",
       "116   용화로  36.776829  127.008517  용화동 아프리카카페 사거리\n",
       "117   모산로  36.772828  127.046870   배방 태성연립 앞 사거리\n",
       "118  신정호길  36.761510  126.966909     신창 북한강쭈꾸미 앞\n",
       "119   시민로  36.785013  127.001220   온양원도심 양성평등거리1\n",
       "120   시민로  36.785433  127.000391   온양원도심 양성평등거리2\n",
       "\n",
       "[121 rows x 4 columns]>"
      ]
     },
     "execution_count": 433,
     "metadata": {},
     "output_type": "execute_result"
    }
   ],
   "source": [
    "ASAN_CCTV.value_counts"
   ]
  },
  {
   "cell_type": "code",
   "execution_count": 434,
   "metadata": {},
   "outputs": [],
   "source": [
    "ASAN_CCTV.dropna(axis='index',how='any',inplace=True)"
   ]
  },
  {
   "cell_type": "code",
   "execution_count": 435,
   "metadata": {},
   "outputs": [
    {
     "data": {
      "text/plain": [
       "도로노선명    0\n",
       "위도       0\n",
       "경도       0\n",
       "설치장소     0\n",
       "dtype: int64"
      ]
     },
     "execution_count": 435,
     "metadata": {},
     "output_type": "execute_result"
    }
   ],
   "source": [
    "ASAN_CCTV.isnull().sum()"
   ]
  },
  {
   "cell_type": "markdown",
   "metadata": {},
   "source": [
    "#### 2. 보령"
   ]
  },
  {
   "cell_type": "code",
   "execution_count": 436,
   "metadata": {},
   "outputs": [
    {
     "data": {
      "text/plain": [
       "Index(['무인교통단속카메라관리번호', '시도명', '시군구명', '도로종류', '도로노선번호', '도로노선명', '도로노선방향',\n",
       "       '소재지도로명주소', '소재지지번주소', '위도', '경도', '설치장소', '단속구분', '제한속도', '단속구간위치구분',\n",
       "       '과속단속구간길이', '보호구역구분', '설치연도', '관리기관명', '관리기관전화번호', '데이터기준일자'],\n",
       "      dtype='object')"
      ]
     },
     "execution_count": 436,
     "metadata": {},
     "output_type": "execute_result"
    }
   ],
   "source": [
    "BORYEONG_CCTV.columns"
   ]
  },
  {
   "cell_type": "code",
   "execution_count": 437,
   "metadata": {},
   "outputs": [
    {
     "data": {
      "text/html": [
       "<div>\n",
       "<style scoped>\n",
       "    .dataframe tbody tr th:only-of-type {\n",
       "        vertical-align: middle;\n",
       "    }\n",
       "\n",
       "    .dataframe tbody tr th {\n",
       "        vertical-align: top;\n",
       "    }\n",
       "\n",
       "    .dataframe thead th {\n",
       "        text-align: right;\n",
       "    }\n",
       "</style>\n",
       "<table border=\"1\" class=\"dataframe\">\n",
       "  <thead>\n",
       "    <tr style=\"text-align: right;\">\n",
       "      <th></th>\n",
       "      <th>도로노선명</th>\n",
       "      <th>위도</th>\n",
       "      <th>경도</th>\n",
       "      <th>설치장소</th>\n",
       "    </tr>\n",
       "  </thead>\n",
       "  <tbody>\n",
       "    <tr>\n",
       "      <th>0</th>\n",
       "      <td>번영로</td>\n",
       "      <td>36.351535</td>\n",
       "      <td>126.593371</td>\n",
       "      <td>사거리</td>\n",
       "    </tr>\n",
       "    <tr>\n",
       "      <th>1</th>\n",
       "      <td>중앙로</td>\n",
       "      <td>36.351064</td>\n",
       "      <td>126.594728</td>\n",
       "      <td>사거리</td>\n",
       "    </tr>\n",
       "    <tr>\n",
       "      <th>2</th>\n",
       "      <td>중앙로</td>\n",
       "      <td>36.350414</td>\n",
       "      <td>126.596749</td>\n",
       "      <td>사거리</td>\n",
       "    </tr>\n",
       "    <tr>\n",
       "      <th>3</th>\n",
       "      <td>대흥로</td>\n",
       "      <td>36.348748</td>\n",
       "      <td>126.596251</td>\n",
       "      <td>사거리</td>\n",
       "    </tr>\n",
       "    <tr>\n",
       "      <th>4</th>\n",
       "      <td>중앙로</td>\n",
       "      <td>36.348686</td>\n",
       "      <td>126.598536</td>\n",
       "      <td>일방통행종점 삼거리</td>\n",
       "    </tr>\n",
       "  </tbody>\n",
       "</table>\n",
       "</div>"
      ],
      "text/plain": [
       "  도로노선명         위도          경도        설치장소\n",
       "0   번영로  36.351535  126.593371         사거리\n",
       "1   중앙로  36.351064  126.594728         사거리\n",
       "2   중앙로  36.350414  126.596749         사거리\n",
       "3   대흥로  36.348748  126.596251         사거리\n",
       "4   중앙로  36.348686  126.598536  일방통행종점 삼거리"
      ]
     },
     "execution_count": 437,
     "metadata": {},
     "output_type": "execute_result"
    }
   ],
   "source": [
    "BORYEONG_CCTV.drop(['도로노선번호','도로노선방향','시도명','시군구명','도로종류','소재지도로명주소','소재지지번주소','단속구분','제한속도','단속구간위치구분','과속단속구간길이','보호구역구분','설치연도','관리기관명','관리기관전화번호','데이터기준일자','무인교통단속카메라관리번호'], axis=1, inplace=True)\n",
    "BORYEONG_CCTV.head()"
   ]
  },
  {
   "cell_type": "code",
   "execution_count": 438,
   "metadata": {},
   "outputs": [
    {
     "data": {
      "text/plain": [
       "도로노선명    0\n",
       "위도       0\n",
       "경도       0\n",
       "설치장소     0\n",
       "dtype: int64"
      ]
     },
     "execution_count": 438,
     "metadata": {},
     "output_type": "execute_result"
    }
   ],
   "source": [
    "BORYEONG_CCTV.isnull().sum()"
   ]
  },
  {
   "cell_type": "code",
   "execution_count": 439,
   "metadata": {},
   "outputs": [
    {
     "data": {
      "text/plain": [
       "도로노선명    0\n",
       "위도       0\n",
       "경도       0\n",
       "설치장소     0\n",
       "dtype: int64"
      ]
     },
     "execution_count": 439,
     "metadata": {},
     "output_type": "execute_result"
    }
   ],
   "source": [
    "BORYEONG_CCTV.dropna(axis='index',how='any',inplace=True)\n",
    "BORYEONG_CCTV.isnull().sum()"
   ]
  },
  {
   "cell_type": "markdown",
   "metadata": {},
   "source": [
    "#### 3. 천안"
   ]
  },
  {
   "cell_type": "code",
   "execution_count": 440,
   "metadata": {},
   "outputs": [
    {
     "data": {
      "text/html": [
       "<div>\n",
       "<style scoped>\n",
       "    .dataframe tbody tr th:only-of-type {\n",
       "        vertical-align: middle;\n",
       "    }\n",
       "\n",
       "    .dataframe tbody tr th {\n",
       "        vertical-align: top;\n",
       "    }\n",
       "\n",
       "    .dataframe thead th {\n",
       "        text-align: right;\n",
       "    }\n",
       "</style>\n",
       "<table border=\"1\" class=\"dataframe\">\n",
       "  <thead>\n",
       "    <tr style=\"text-align: right;\">\n",
       "      <th></th>\n",
       "      <th>도로노선명</th>\n",
       "      <th>위도</th>\n",
       "      <th>경도</th>\n",
       "      <th>설치장소</th>\n",
       "    </tr>\n",
       "  </thead>\n",
       "  <tbody>\n",
       "    <tr>\n",
       "      <th>0</th>\n",
       "      <td>봉정로</td>\n",
       "      <td>36.810381</td>\n",
       "      <td>127.140578</td>\n",
       "      <td>서부역 삼거리</td>\n",
       "    </tr>\n",
       "    <tr>\n",
       "      <th>1</th>\n",
       "      <td>봉정로</td>\n",
       "      <td>36.813499</td>\n",
       "      <td>127.141843</td>\n",
       "      <td>성정사거리 부근</td>\n",
       "    </tr>\n",
       "    <tr>\n",
       "      <th>2</th>\n",
       "      <td>봉정로</td>\n",
       "      <td>36.818320</td>\n",
       "      <td>127.143078</td>\n",
       "      <td>봉정사거리 부근</td>\n",
       "    </tr>\n",
       "    <tr>\n",
       "      <th>3</th>\n",
       "      <td>월봉로</td>\n",
       "      <td>36.798973</td>\n",
       "      <td>127.118461</td>\n",
       "      <td>맘마마트 부근</td>\n",
       "    </tr>\n",
       "    <tr>\n",
       "      <th>4</th>\n",
       "      <td>월봉로</td>\n",
       "      <td>36.802538</td>\n",
       "      <td>127.118051</td>\n",
       "      <td>용암마을주변</td>\n",
       "    </tr>\n",
       "  </tbody>\n",
       "</table>\n",
       "</div>"
      ],
      "text/plain": [
       "  도로노선명         위도          경도      설치장소\n",
       "0   봉정로  36.810381  127.140578   서부역 삼거리\n",
       "1   봉정로  36.813499  127.141843  성정사거리 부근\n",
       "2   봉정로  36.818320  127.143078  봉정사거리 부근\n",
       "3   월봉로  36.798973  127.118461   맘마마트 부근\n",
       "4   월봉로  36.802538  127.118051    용암마을주변"
      ]
     },
     "execution_count": 440,
     "metadata": {},
     "output_type": "execute_result"
    }
   ],
   "source": [
    "CHEONAN_CCTV.drop(['도로노선방향','도로노선번호','시도명','시군구명','도로종류','소재지도로명주소','소재지지번주소','단속구분','제한속도','단속구간위치구분','과속단속구간길이','보호구역구분','설치연도','관리기관명','관리기관전화번호','데이터기준일자','무인교통단속카메라관리번호'], axis=1, inplace=True)\n",
    "CHEONAN_CCTV.head()"
   ]
  },
  {
   "cell_type": "code",
   "execution_count": 441,
   "metadata": {},
   "outputs": [
    {
     "data": {
      "text/plain": [
       "도로노선명    0\n",
       "위도       0\n",
       "경도       0\n",
       "설치장소     0\n",
       "dtype: int64"
      ]
     },
     "execution_count": 441,
     "metadata": {},
     "output_type": "execute_result"
    }
   ],
   "source": [
    "CHEONAN_CCTV.isnull().sum()"
   ]
  },
  {
   "cell_type": "code",
   "execution_count": 442,
   "metadata": {},
   "outputs": [
    {
     "data": {
      "text/plain": [
       "도로노선명    0\n",
       "위도       0\n",
       "경도       0\n",
       "설치장소     0\n",
       "dtype: int64"
      ]
     },
     "execution_count": 442,
     "metadata": {},
     "output_type": "execute_result"
    }
   ],
   "source": [
    "CHEONAN_CCTV.dropna(axis='index',how='any',inplace=True)\n",
    "CHEONAN_CCTV.isnull().sum()"
   ]
  },
  {
   "cell_type": "markdown",
   "metadata": {},
   "source": [
    "#### 4.청양"
   ]
  },
  {
   "cell_type": "code",
   "execution_count": 443,
   "metadata": {},
   "outputs": [
    {
     "data": {
      "text/html": [
       "<div>\n",
       "<style scoped>\n",
       "    .dataframe tbody tr th:only-of-type {\n",
       "        vertical-align: middle;\n",
       "    }\n",
       "\n",
       "    .dataframe tbody tr th {\n",
       "        vertical-align: top;\n",
       "    }\n",
       "\n",
       "    .dataframe thead th {\n",
       "        text-align: right;\n",
       "    }\n",
       "</style>\n",
       "<table border=\"1\" class=\"dataframe\">\n",
       "  <thead>\n",
       "    <tr style=\"text-align: right;\">\n",
       "      <th></th>\n",
       "      <th>도로노선명</th>\n",
       "      <th>위도</th>\n",
       "      <th>경도</th>\n",
       "      <th>설치장소</th>\n",
       "    </tr>\n",
       "  </thead>\n",
       "  <tbody>\n",
       "    <tr>\n",
       "      <th>0</th>\n",
       "      <td>중앙로</td>\n",
       "      <td>36.451900</td>\n",
       "      <td>126.802982</td>\n",
       "      <td>시외버스터미널 앞</td>\n",
       "    </tr>\n",
       "    <tr>\n",
       "      <th>1</th>\n",
       "      <td>칠갑산로</td>\n",
       "      <td>36.451221</td>\n",
       "      <td>126.801630</td>\n",
       "      <td>문화체육센터 앞</td>\n",
       "    </tr>\n",
       "    <tr>\n",
       "      <th>2</th>\n",
       "      <td>중앙로</td>\n",
       "      <td>36.451017</td>\n",
       "      <td>126.803471</td>\n",
       "      <td>삼성의원 앞</td>\n",
       "    </tr>\n",
       "    <tr>\n",
       "      <th>3</th>\n",
       "      <td>중앙로</td>\n",
       "      <td>36.450600</td>\n",
       "      <td>126.802781</td>\n",
       "      <td>새마을금고 앞</td>\n",
       "    </tr>\n",
       "    <tr>\n",
       "      <th>4</th>\n",
       "      <td>칠갑산로</td>\n",
       "      <td>36.454261</td>\n",
       "      <td>126.804666</td>\n",
       "      <td>청양초 후문</td>\n",
       "    </tr>\n",
       "  </tbody>\n",
       "</table>\n",
       "</div>"
      ],
      "text/plain": [
       "  도로노선명         위도          경도       설치장소\n",
       "0   중앙로  36.451900  126.802982  시외버스터미널 앞\n",
       "1  칠갑산로  36.451221  126.801630   문화체육센터 앞\n",
       "2   중앙로  36.451017  126.803471     삼성의원 앞\n",
       "3   중앙로  36.450600  126.802781    새마을금고 앞\n",
       "4  칠갑산로  36.454261  126.804666     청양초 후문"
      ]
     },
     "execution_count": 443,
     "metadata": {},
     "output_type": "execute_result"
    }
   ],
   "source": [
    "CHUNGYANG_CCTV.drop(['도로노선방향','도로노선번호','시도명','시군구명','도로종류','소재지도로명주소','소재지지번주소','단속구분','제한속도','단속구간위치구분','과속단속구간길이','보호구역구분','설치연도','관리기관명','관리기관전화번호','데이터기준일자','무인교통단속카메라관리번호'], axis=1, inplace=True)\n",
    "CHUNGYANG_CCTV.head()"
   ]
  },
  {
   "cell_type": "code",
   "execution_count": 444,
   "metadata": {},
   "outputs": [
    {
     "data": {
      "text/plain": [
       "도로노선명    0\n",
       "위도       0\n",
       "경도       0\n",
       "설치장소     0\n",
       "dtype: int64"
      ]
     },
     "execution_count": 444,
     "metadata": {},
     "output_type": "execute_result"
    }
   ],
   "source": [
    "CHUNGYANG_CCTV.isnull().sum()"
   ]
  },
  {
   "cell_type": "markdown",
   "metadata": {},
   "source": [
    "#### 5. 대전"
   ]
  },
  {
   "cell_type": "code",
   "execution_count": 445,
   "metadata": {},
   "outputs": [
    {
     "data": {
      "text/html": [
       "<div>\n",
       "<style scoped>\n",
       "    .dataframe tbody tr th:only-of-type {\n",
       "        vertical-align: middle;\n",
       "    }\n",
       "\n",
       "    .dataframe tbody tr th {\n",
       "        vertical-align: top;\n",
       "    }\n",
       "\n",
       "    .dataframe thead th {\n",
       "        text-align: right;\n",
       "    }\n",
       "</style>\n",
       "<table border=\"1\" class=\"dataframe\">\n",
       "  <thead>\n",
       "    <tr style=\"text-align: right;\">\n",
       "      <th></th>\n",
       "      <th>무인교통단속카메라관리번호</th>\n",
       "      <th>시도명</th>\n",
       "      <th>시군구명</th>\n",
       "      <th>도로종류</th>\n",
       "      <th>도로노선번호</th>\n",
       "      <th>도로노선명</th>\n",
       "      <th>도로노선방향</th>\n",
       "      <th>소재지도로명주소</th>\n",
       "      <th>소재지지번주소</th>\n",
       "      <th>위도</th>\n",
       "      <th>...</th>\n",
       "      <th>설치장소</th>\n",
       "      <th>단속구분</th>\n",
       "      <th>제한속도</th>\n",
       "      <th>단속구간위치구분</th>\n",
       "      <th>과속단속구간길이</th>\n",
       "      <th>보호구역구분</th>\n",
       "      <th>설치연도</th>\n",
       "      <th>관리기관명</th>\n",
       "      <th>관리기관전화번호</th>\n",
       "      <th>데이터기준일자</th>\n",
       "    </tr>\n",
       "  </thead>\n",
       "  <tbody>\n",
       "    <tr>\n",
       "      <th>0</th>\n",
       "      <td>F5705</td>\n",
       "      <td>대전광역시</td>\n",
       "      <td>유성구</td>\n",
       "      <td>시도</td>\n",
       "      <td>NaN</td>\n",
       "      <td>한밭대로</td>\n",
       "      <td>2</td>\n",
       "      <td>NaN</td>\n",
       "      <td>대전광역시 유성구 장대동 339</td>\n",
       "      <td>36.364138</td>\n",
       "      <td>...</td>\n",
       "      <td>장대네거리</td>\n",
       "      <td>2</td>\n",
       "      <td>50</td>\n",
       "      <td>NaN</td>\n",
       "      <td>NaN</td>\n",
       "      <td>NaN</td>\n",
       "      <td>2010.0</td>\n",
       "      <td>대전광역시</td>\n",
       "      <td>042-120</td>\n",
       "      <td>2022-12-15</td>\n",
       "    </tr>\n",
       "    <tr>\n",
       "      <th>1</th>\n",
       "      <td>F5706</td>\n",
       "      <td>대전광역시</td>\n",
       "      <td>서구</td>\n",
       "      <td>시도</td>\n",
       "      <td>NaN</td>\n",
       "      <td>대덕대로</td>\n",
       "      <td>2</td>\n",
       "      <td>NaN</td>\n",
       "      <td>대전광역시 서구 둔산동 1535</td>\n",
       "      <td>36.348777</td>\n",
       "      <td>...</td>\n",
       "      <td>큰마을네거리</td>\n",
       "      <td>2</td>\n",
       "      <td>50</td>\n",
       "      <td>NaN</td>\n",
       "      <td>NaN</td>\n",
       "      <td>NaN</td>\n",
       "      <td>2010.0</td>\n",
       "      <td>대전광역시</td>\n",
       "      <td>042-120</td>\n",
       "      <td>2022-12-15</td>\n",
       "    </tr>\n",
       "    <tr>\n",
       "      <th>2</th>\n",
       "      <td>F5707</td>\n",
       "      <td>대전광역시</td>\n",
       "      <td>서구</td>\n",
       "      <td>시도</td>\n",
       "      <td>NaN</td>\n",
       "      <td>동서대로</td>\n",
       "      <td>2</td>\n",
       "      <td>NaN</td>\n",
       "      <td>대전광역시 서구 도안동 1512</td>\n",
       "      <td>36.332055</td>\n",
       "      <td>...</td>\n",
       "      <td>하나은행 도안지점 앞 네거리</td>\n",
       "      <td>2</td>\n",
       "      <td>50</td>\n",
       "      <td>NaN</td>\n",
       "      <td>NaN</td>\n",
       "      <td>NaN</td>\n",
       "      <td>2010.0</td>\n",
       "      <td>대전광역시</td>\n",
       "      <td>042-120</td>\n",
       "      <td>2022-12-15</td>\n",
       "    </tr>\n",
       "    <tr>\n",
       "      <th>3</th>\n",
       "      <td>F6307</td>\n",
       "      <td>대전광역시</td>\n",
       "      <td>서구</td>\n",
       "      <td>시도</td>\n",
       "      <td>NaN</td>\n",
       "      <td>계백로</td>\n",
       "      <td>1</td>\n",
       "      <td>NaN</td>\n",
       "      <td>대전광역시 서구 정림동 293-4</td>\n",
       "      <td>36.307683</td>\n",
       "      <td>...</td>\n",
       "      <td>정림삼거리</td>\n",
       "      <td>2</td>\n",
       "      <td>60</td>\n",
       "      <td>NaN</td>\n",
       "      <td>NaN</td>\n",
       "      <td>NaN</td>\n",
       "      <td>2011.0</td>\n",
       "      <td>대전광역시</td>\n",
       "      <td>042-120</td>\n",
       "      <td>2022-12-15</td>\n",
       "    </tr>\n",
       "    <tr>\n",
       "      <th>4</th>\n",
       "      <td>F6308</td>\n",
       "      <td>대전광역시</td>\n",
       "      <td>서구</td>\n",
       "      <td>시도</td>\n",
       "      <td>NaN</td>\n",
       "      <td>도안동로</td>\n",
       "      <td>2</td>\n",
       "      <td>NaN</td>\n",
       "      <td>대전광역시 서구 도안동 1472</td>\n",
       "      <td>36.312888</td>\n",
       "      <td>...</td>\n",
       "      <td>용소삼거리</td>\n",
       "      <td>2</td>\n",
       "      <td>50</td>\n",
       "      <td>NaN</td>\n",
       "      <td>NaN</td>\n",
       "      <td>NaN</td>\n",
       "      <td>2011.0</td>\n",
       "      <td>대전광역시</td>\n",
       "      <td>042-120</td>\n",
       "      <td>2022-12-15</td>\n",
       "    </tr>\n",
       "  </tbody>\n",
       "</table>\n",
       "<p>5 rows × 21 columns</p>\n",
       "</div>"
      ],
      "text/plain": [
       "  무인교통단속카메라관리번호    시도명 시군구명 도로종류  도로노선번호 도로노선명  도로노선방향  소재지도로명주소  \\\n",
       "0         F5705  대전광역시  유성구   시도     NaN  한밭대로       2       NaN   \n",
       "1         F5706  대전광역시   서구   시도     NaN  대덕대로       2       NaN   \n",
       "2         F5707  대전광역시   서구   시도     NaN  동서대로       2       NaN   \n",
       "3         F6307  대전광역시   서구   시도     NaN   계백로       1       NaN   \n",
       "4         F6308  대전광역시   서구   시도     NaN  도안동로       2       NaN   \n",
       "\n",
       "              소재지지번주소         위도  ...             설치장소 단속구분  제한속도  단속구간위치구분  \\\n",
       "0   대전광역시 유성구 장대동 339  36.364138  ...            장대네거리    2    50       NaN   \n",
       "1   대전광역시 서구 둔산동 1535  36.348777  ...           큰마을네거리    2    50       NaN   \n",
       "2   대전광역시 서구 도안동 1512  36.332055  ...  하나은행 도안지점 앞 네거리    2    50       NaN   \n",
       "3  대전광역시 서구 정림동 293-4  36.307683  ...            정림삼거리    2    60       NaN   \n",
       "4   대전광역시 서구 도안동 1472  36.312888  ...            용소삼거리    2    50       NaN   \n",
       "\n",
       "   과속단속구간길이  보호구역구분    설치연도  관리기관명 관리기관전화번호     데이터기준일자  \n",
       "0       NaN     NaN  2010.0  대전광역시  042-120  2022-12-15  \n",
       "1       NaN     NaN  2010.0  대전광역시  042-120  2022-12-15  \n",
       "2       NaN     NaN  2010.0  대전광역시  042-120  2022-12-15  \n",
       "3       NaN     NaN  2011.0  대전광역시  042-120  2022-12-15  \n",
       "4       NaN     NaN  2011.0  대전광역시  042-120  2022-12-15  \n",
       "\n",
       "[5 rows x 21 columns]"
      ]
     },
     "execution_count": 445,
     "metadata": {},
     "output_type": "execute_result"
    }
   ],
   "source": [
    "DAEJEON_CCTV.head()"
   ]
  },
  {
   "cell_type": "code",
   "execution_count": 446,
   "metadata": {},
   "outputs": [
    {
     "data": {
      "text/plain": [
       "Index(['무인교통단속카메라관리번호', '시도명', '시군구명', '도로종류', '도로노선번호', '도로노선명', '도로노선방향',\n",
       "       '소재지도로명주소', '소재지지번주소', '위도', '경도', '설치장소', '단속구분', '제한속도', '단속구간위치구분',\n",
       "       '과속단속구간길이', '보호구역구분', '설치연도', '관리기관명', '관리기관전화번호', '데이터기준일자'],\n",
       "      dtype='object')"
      ]
     },
     "execution_count": 446,
     "metadata": {},
     "output_type": "execute_result"
    }
   ],
   "source": [
    "DAEJEON_CCTV.columns"
   ]
  },
  {
   "cell_type": "code",
   "execution_count": 447,
   "metadata": {},
   "outputs": [
    {
     "data": {
      "text/html": [
       "<div>\n",
       "<style scoped>\n",
       "    .dataframe tbody tr th:only-of-type {\n",
       "        vertical-align: middle;\n",
       "    }\n",
       "\n",
       "    .dataframe tbody tr th {\n",
       "        vertical-align: top;\n",
       "    }\n",
       "\n",
       "    .dataframe thead th {\n",
       "        text-align: right;\n",
       "    }\n",
       "</style>\n",
       "<table border=\"1\" class=\"dataframe\">\n",
       "  <thead>\n",
       "    <tr style=\"text-align: right;\">\n",
       "      <th></th>\n",
       "      <th>도로노선명</th>\n",
       "      <th>위도</th>\n",
       "      <th>경도</th>\n",
       "      <th>설치장소</th>\n",
       "    </tr>\n",
       "  </thead>\n",
       "  <tbody>\n",
       "    <tr>\n",
       "      <th>0</th>\n",
       "      <td>한밭대로</td>\n",
       "      <td>36.364138</td>\n",
       "      <td>127.338138</td>\n",
       "      <td>장대네거리</td>\n",
       "    </tr>\n",
       "    <tr>\n",
       "      <th>1</th>\n",
       "      <td>대덕대로</td>\n",
       "      <td>36.348777</td>\n",
       "      <td>127.376944</td>\n",
       "      <td>큰마을네거리</td>\n",
       "    </tr>\n",
       "    <tr>\n",
       "      <th>2</th>\n",
       "      <td>동서대로</td>\n",
       "      <td>36.332055</td>\n",
       "      <td>127.341083</td>\n",
       "      <td>하나은행 도안지점 앞 네거리</td>\n",
       "    </tr>\n",
       "    <tr>\n",
       "      <th>3</th>\n",
       "      <td>계백로</td>\n",
       "      <td>36.307683</td>\n",
       "      <td>127.364342</td>\n",
       "      <td>정림삼거리</td>\n",
       "    </tr>\n",
       "    <tr>\n",
       "      <th>4</th>\n",
       "      <td>도안동로</td>\n",
       "      <td>36.312888</td>\n",
       "      <td>127.350083</td>\n",
       "      <td>용소삼거리</td>\n",
       "    </tr>\n",
       "  </tbody>\n",
       "</table>\n",
       "</div>"
      ],
      "text/plain": [
       "  도로노선명         위도          경도             설치장소\n",
       "0  한밭대로  36.364138  127.338138            장대네거리\n",
       "1  대덕대로  36.348777  127.376944           큰마을네거리\n",
       "2  동서대로  36.332055  127.341083  하나은행 도안지점 앞 네거리\n",
       "3   계백로  36.307683  127.364342            정림삼거리\n",
       "4  도안동로  36.312888  127.350083            용소삼거리"
      ]
     },
     "execution_count": 447,
     "metadata": {},
     "output_type": "execute_result"
    }
   ],
   "source": [
    "DAEJEON_CCTV.drop(['도로노선방향','도로노선번호','시도명','시군구명','도로종류','소재지도로명주소','소재지지번주소','단속구분','제한속도','단속구간위치구분','과속단속구간길이','보호구역구분','설치연도','관리기관명','관리기관전화번호','데이터기준일자','무인교통단속카메라관리번호'], axis=1, inplace=True)\n",
    "DAEJEON_CCTV.head()"
   ]
  },
  {
   "cell_type": "code",
   "execution_count": 448,
   "metadata": {},
   "outputs": [],
   "source": [
    "DAEJEON_CCTV.dropna(axis='index',how='any',inplace=True)"
   ]
  },
  {
   "cell_type": "code",
   "execution_count": 449,
   "metadata": {},
   "outputs": [
    {
     "data": {
      "text/plain": [
       "도로노선명    0\n",
       "위도       0\n",
       "경도       0\n",
       "설치장소     0\n",
       "dtype: int64"
      ]
     },
     "execution_count": 449,
     "metadata": {},
     "output_type": "execute_result"
    }
   ],
   "source": [
    "DAEJEON_CCTV.isnull().sum()"
   ]
  },
  {
   "cell_type": "markdown",
   "metadata": {},
   "source": [
    "#### 6. 당진"
   ]
  },
  {
   "cell_type": "code",
   "execution_count": 450,
   "metadata": {},
   "outputs": [
    {
     "data": {
      "text/html": [
       "<div>\n",
       "<style scoped>\n",
       "    .dataframe tbody tr th:only-of-type {\n",
       "        vertical-align: middle;\n",
       "    }\n",
       "\n",
       "    .dataframe tbody tr th {\n",
       "        vertical-align: top;\n",
       "    }\n",
       "\n",
       "    .dataframe thead th {\n",
       "        text-align: right;\n",
       "    }\n",
       "</style>\n",
       "<table border=\"1\" class=\"dataframe\">\n",
       "  <thead>\n",
       "    <tr style=\"text-align: right;\">\n",
       "      <th></th>\n",
       "      <th>도로노선명</th>\n",
       "      <th>위도</th>\n",
       "      <th>경도</th>\n",
       "      <th>설치장소</th>\n",
       "    </tr>\n",
       "  </thead>\n",
       "  <tbody>\n",
       "    <tr>\n",
       "      <th>0</th>\n",
       "      <td>남산공원길</td>\n",
       "      <td>36.891894</td>\n",
       "      <td>126.631523</td>\n",
       "      <td>당진초등학교(당진시 읍내동 167-8)</td>\n",
       "    </tr>\n",
       "    <tr>\n",
       "      <th>1</th>\n",
       "      <td>밤절로</td>\n",
       "      <td>NaN</td>\n",
       "      <td>NaN</td>\n",
       "      <td>계성초등학교(당진시 읍내동 735-11)</td>\n",
       "    </tr>\n",
       "    <tr>\n",
       "      <th>2</th>\n",
       "      <td>대호만로</td>\n",
       "      <td>NaN</td>\n",
       "      <td>NaN</td>\n",
       "      <td>탑동초등학교(당진시 채운동 456-1)</td>\n",
       "    </tr>\n",
       "    <tr>\n",
       "      <th>3</th>\n",
       "      <td>대덕1로</td>\n",
       "      <td>NaN</td>\n",
       "      <td>NaN</td>\n",
       "      <td>대덕초등학교(당진시 대덕동 1919)</td>\n",
       "    </tr>\n",
       "    <tr>\n",
       "      <th>4</th>\n",
       "      <td>대덕1로</td>\n",
       "      <td>NaN</td>\n",
       "      <td>NaN</td>\n",
       "      <td>대덕초등학교(당진시 대덕동 1919)</td>\n",
       "    </tr>\n",
       "  </tbody>\n",
       "</table>\n",
       "</div>"
      ],
      "text/plain": [
       "   도로노선명         위도          경도                    설치장소\n",
       "0  남산공원길  36.891894  126.631523   당진초등학교(당진시 읍내동 167-8)\n",
       "1    밤절로        NaN         NaN  계성초등학교(당진시 읍내동 735-11)\n",
       "2   대호만로        NaN         NaN   탑동초등학교(당진시 채운동 456-1)\n",
       "3   대덕1로        NaN         NaN    대덕초등학교(당진시 대덕동 1919)\n",
       "4   대덕1로        NaN         NaN    대덕초등학교(당진시 대덕동 1919)"
      ]
     },
     "execution_count": 450,
     "metadata": {},
     "output_type": "execute_result"
    }
   ],
   "source": [
    "DANGJIN_CCTV.drop(['도로노선방향','도로노선번호','시도명','시군구명','도로종류','소재지도로명주소','소재지지번주소','단속구분','제한속도','단속구간위치구분','과속단속구간길이','보호구역구분','설치연도','관리기관명','관리기관전화번호','데이터기준일자','무인교통단속카메라관리번호'], axis=1, inplace=True)\n",
    "DANGJIN_CCTV.head()"
   ]
  },
  {
   "cell_type": "code",
   "execution_count": 451,
   "metadata": {},
   "outputs": [
    {
     "data": {
      "text/plain": [
       "도로노선명     0\n",
       "위도       10\n",
       "경도       10\n",
       "설치장소      0\n",
       "dtype: int64"
      ]
     },
     "execution_count": 451,
     "metadata": {},
     "output_type": "execute_result"
    }
   ],
   "source": [
    "DANGJIN_CCTV.isnull().sum()"
   ]
  },
  {
   "cell_type": "code",
   "execution_count": 452,
   "metadata": {},
   "outputs": [
    {
     "data": {
      "text/plain": [
       "도로노선명    0\n",
       "위도       0\n",
       "경도       0\n",
       "설치장소     0\n",
       "dtype: int64"
      ]
     },
     "execution_count": 452,
     "metadata": {},
     "output_type": "execute_result"
    }
   ],
   "source": [
    "DANGJIN_CCTV.dropna(axis='index',how='any',inplace=True)\n",
    "DANGJIN_CCTV.isnull().sum()"
   ]
  },
  {
   "cell_type": "markdown",
   "metadata": {},
   "source": [
    "#### 7. 금산"
   ]
  },
  {
   "cell_type": "code",
   "execution_count": 453,
   "metadata": {},
   "outputs": [
    {
     "data": {
      "text/html": [
       "<div>\n",
       "<style scoped>\n",
       "    .dataframe tbody tr th:only-of-type {\n",
       "        vertical-align: middle;\n",
       "    }\n",
       "\n",
       "    .dataframe tbody tr th {\n",
       "        vertical-align: top;\n",
       "    }\n",
       "\n",
       "    .dataframe thead th {\n",
       "        text-align: right;\n",
       "    }\n",
       "</style>\n",
       "<table border=\"1\" class=\"dataframe\">\n",
       "  <thead>\n",
       "    <tr style=\"text-align: right;\">\n",
       "      <th></th>\n",
       "      <th>도로노선명</th>\n",
       "      <th>위도</th>\n",
       "      <th>경도</th>\n",
       "      <th>설치장소</th>\n",
       "    </tr>\n",
       "  </thead>\n",
       "  <tbody>\n",
       "    <tr>\n",
       "      <th>0</th>\n",
       "      <td>비범로</td>\n",
       "      <td>36.104751</td>\n",
       "      <td>127.491272</td>\n",
       "      <td>중부시장 옆</td>\n",
       "    </tr>\n",
       "    <tr>\n",
       "      <th>1</th>\n",
       "      <td>인삼로</td>\n",
       "      <td>36.102834</td>\n",
       "      <td>127.490645</td>\n",
       "      <td>군농협중앙회 4가</td>\n",
       "    </tr>\n",
       "    <tr>\n",
       "      <th>2</th>\n",
       "      <td>비호산로</td>\n",
       "      <td>36.109932</td>\n",
       "      <td>127.489056</td>\n",
       "      <td>주공1차아파트 입구 앞</td>\n",
       "    </tr>\n",
       "    <tr>\n",
       "      <th>3</th>\n",
       "      <td>인삼로</td>\n",
       "      <td>36.103116</td>\n",
       "      <td>127.488573</td>\n",
       "      <td>금산우체국 4가</td>\n",
       "    </tr>\n",
       "    <tr>\n",
       "      <th>4</th>\n",
       "      <td>비호로</td>\n",
       "      <td>36.107215</td>\n",
       "      <td>127.489674</td>\n",
       "      <td>금산행정복지센터 4가</td>\n",
       "    </tr>\n",
       "  </tbody>\n",
       "</table>\n",
       "</div>"
      ],
      "text/plain": [
       "  도로노선명         위도          경도          설치장소\n",
       "0   비범로  36.104751  127.491272        중부시장 옆\n",
       "1   인삼로  36.102834  127.490645     군농협중앙회 4가\n",
       "2  비호산로  36.109932  127.489056  주공1차아파트 입구 앞\n",
       "3   인삼로  36.103116  127.488573      금산우체국 4가\n",
       "4   비호로  36.107215  127.489674   금산행정복지센터 4가"
      ]
     },
     "execution_count": 453,
     "metadata": {},
     "output_type": "execute_result"
    }
   ],
   "source": [
    "GEOMSAN_CCTV.drop(['도로노선방향','도로노선번호','시도명','시군구명','도로종류','소재지도로명주소','소재지지번주소','단속구분','제한속도','단속구간위치구분','과속단속구간길이','보호구역구분','설치연도','관리기관명','관리기관전화번호','데이터기준일자','무인교통단속카메라관리번호'], axis=1, inplace=True)\n",
    "GEOMSAN_CCTV.head()"
   ]
  },
  {
   "cell_type": "code",
   "execution_count": 454,
   "metadata": {},
   "outputs": [
    {
     "data": {
      "text/plain": [
       "도로노선명    0\n",
       "위도       0\n",
       "경도       0\n",
       "설치장소     0\n",
       "dtype: int64"
      ]
     },
     "execution_count": 454,
     "metadata": {},
     "output_type": "execute_result"
    }
   ],
   "source": [
    "GEOMSAN_CCTV.isnull().sum()"
   ]
  },
  {
   "cell_type": "markdown",
   "metadata": {},
   "source": [
    "#### 8. 세종"
   ]
  },
  {
   "cell_type": "code",
   "execution_count": 455,
   "metadata": {},
   "outputs": [
    {
     "data": {
      "text/html": [
       "<div>\n",
       "<style scoped>\n",
       "    .dataframe tbody tr th:only-of-type {\n",
       "        vertical-align: middle;\n",
       "    }\n",
       "\n",
       "    .dataframe tbody tr th {\n",
       "        vertical-align: top;\n",
       "    }\n",
       "\n",
       "    .dataframe thead th {\n",
       "        text-align: right;\n",
       "    }\n",
       "</style>\n",
       "<table border=\"1\" class=\"dataframe\">\n",
       "  <thead>\n",
       "    <tr style=\"text-align: right;\">\n",
       "      <th></th>\n",
       "      <th>무인교통단속카메라관리번호</th>\n",
       "      <th>시도명</th>\n",
       "      <th>시군구명</th>\n",
       "      <th>도로종류</th>\n",
       "      <th>도로노선번호</th>\n",
       "      <th>도로노선명</th>\n",
       "      <th>도로노선방향</th>\n",
       "      <th>소재지도로명주소</th>\n",
       "      <th>소재지지번주소</th>\n",
       "      <th>위도</th>\n",
       "      <th>경도</th>\n",
       "      <th>설치장소</th>\n",
       "      <th>단속구분</th>\n",
       "      <th>제한속도</th>\n",
       "      <th>설치연도</th>\n",
       "      <th>관리기관명</th>\n",
       "      <th>관리기관전화번호</th>\n",
       "      <th>데이터기준일자</th>\n",
       "    </tr>\n",
       "  </thead>\n",
       "  <tbody>\n",
       "    <tr>\n",
       "      <th>0</th>\n",
       "      <td>F7219</td>\n",
       "      <td>세종특별자치시</td>\n",
       "      <td>없음</td>\n",
       "      <td>일반국도</td>\n",
       "      <td>1.0</td>\n",
       "      <td>세종로</td>\n",
       "      <td>2</td>\n",
       "      <td>NaN</td>\n",
       "      <td>세종특별자치시 소정면 대곡리 322-2</td>\n",
       "      <td>36.728495</td>\n",
       "      <td>127.165088</td>\n",
       "      <td>세종특별자치시 소정면 세종로 4679, (은산제2주유소 앞)</td>\n",
       "      <td>1</td>\n",
       "      <td>80</td>\n",
       "      <td>2013</td>\n",
       "      <td>세종특별자치시경찰청</td>\n",
       "      <td>044-559-2151</td>\n",
       "      <td>2022-05-20</td>\n",
       "    </tr>\n",
       "    <tr>\n",
       "      <th>1</th>\n",
       "      <td>F7460</td>\n",
       "      <td>세종특별자치시</td>\n",
       "      <td>없음</td>\n",
       "      <td>지방도</td>\n",
       "      <td>327.0</td>\n",
       "      <td>의당전의로</td>\n",
       "      <td>1</td>\n",
       "      <td>NaN</td>\n",
       "      <td>세종특별자치시 장군면 송학리 113-4</td>\n",
       "      <td>36.527810</td>\n",
       "      <td>127.184503</td>\n",
       "      <td>세종특별자치시 장군면 의당전의로 송학1리 마을입구 공주방향</td>\n",
       "      <td>1</td>\n",
       "      <td>60</td>\n",
       "      <td>2014</td>\n",
       "      <td>세종특별자치시경찰청</td>\n",
       "      <td>044-559-2151</td>\n",
       "      <td>2022-05-20</td>\n",
       "    </tr>\n",
       "    <tr>\n",
       "      <th>2</th>\n",
       "      <td>F7461</td>\n",
       "      <td>세종특별자치시</td>\n",
       "      <td>없음</td>\n",
       "      <td>지방도</td>\n",
       "      <td>327.0</td>\n",
       "      <td>의당전의로</td>\n",
       "      <td>1</td>\n",
       "      <td>NaN</td>\n",
       "      <td>세종특별자치시 장군면 송학리 113-4</td>\n",
       "      <td>36.527810</td>\n",
       "      <td>127.184503</td>\n",
       "      <td>세종특별자치시 장군면 의당전의로 송학1리 마을입구 세종방향</td>\n",
       "      <td>1</td>\n",
       "      <td>60</td>\n",
       "      <td>2014</td>\n",
       "      <td>세종특별자치시경찰청</td>\n",
       "      <td>044-559-2151</td>\n",
       "      <td>2022-05-20</td>\n",
       "    </tr>\n",
       "    <tr>\n",
       "      <th>3</th>\n",
       "      <td>F7641</td>\n",
       "      <td>세종특별자치시</td>\n",
       "      <td>없음</td>\n",
       "      <td>일반국도</td>\n",
       "      <td>1.0</td>\n",
       "      <td>세종로</td>\n",
       "      <td>1</td>\n",
       "      <td>NaN</td>\n",
       "      <td>세종특별자치시 조치원읍 침산리 34-5</td>\n",
       "      <td>36.603117</td>\n",
       "      <td>127.289840</td>\n",
       "      <td>세종특별자치시 조치원읍 세종로 욱일사거리(신봉초교 앞) (대전→천안)</td>\n",
       "      <td>2</td>\n",
       "      <td>50</td>\n",
       "      <td>2014</td>\n",
       "      <td>세종특별자치시경찰청</td>\n",
       "      <td>044-559-2151</td>\n",
       "      <td>2022-05-20</td>\n",
       "    </tr>\n",
       "    <tr>\n",
       "      <th>4</th>\n",
       "      <td>F7642</td>\n",
       "      <td>세종특별자치시</td>\n",
       "      <td>없음</td>\n",
       "      <td>일반국도</td>\n",
       "      <td>1.0</td>\n",
       "      <td>세종로</td>\n",
       "      <td>1</td>\n",
       "      <td>NaN</td>\n",
       "      <td>세종특별자치시 소정면 운당리 32-5</td>\n",
       "      <td>36.697907</td>\n",
       "      <td>127.152629</td>\n",
       "      <td>세종특별자치시 소정면 세종로 무궁화@앞(천안 방향)</td>\n",
       "      <td>2</td>\n",
       "      <td>80</td>\n",
       "      <td>2014</td>\n",
       "      <td>세종특별자치시경찰청</td>\n",
       "      <td>044-559-2151</td>\n",
       "      <td>2022-05-20</td>\n",
       "    </tr>\n",
       "  </tbody>\n",
       "</table>\n",
       "</div>"
      ],
      "text/plain": [
       "  무인교통단속카메라관리번호      시도명 시군구명  도로종류  도로노선번호  도로노선명  도로노선방향 소재지도로명주소  \\\n",
       "0         F7219  세종특별자치시   없음  일반국도     1.0    세종로       2      NaN   \n",
       "1         F7460  세종특별자치시   없음   지방도   327.0  의당전의로       1      NaN   \n",
       "2         F7461  세종특별자치시   없음   지방도   327.0  의당전의로       1      NaN   \n",
       "3         F7641  세종특별자치시   없음  일반국도     1.0    세종로       1      NaN   \n",
       "4         F7642  세종특별자치시   없음  일반국도     1.0    세종로       1      NaN   \n",
       "\n",
       "                 소재지지번주소         위도          경도  \\\n",
       "0  세종특별자치시 소정면 대곡리 322-2  36.728495  127.165088   \n",
       "1  세종특별자치시 장군면 송학리 113-4  36.527810  127.184503   \n",
       "2  세종특별자치시 장군면 송학리 113-4  36.527810  127.184503   \n",
       "3  세종특별자치시 조치원읍 침산리 34-5  36.603117  127.289840   \n",
       "4   세종특별자치시 소정면 운당리 32-5  36.697907  127.152629   \n",
       "\n",
       "                                     설치장소  단속구분  제한속도  설치연도       관리기관명  \\\n",
       "0       세종특별자치시 소정면 세종로 4679, (은산제2주유소 앞)     1    80  2013  세종특별자치시경찰청   \n",
       "1        세종특별자치시 장군면 의당전의로 송학1리 마을입구 공주방향     1    60  2014  세종특별자치시경찰청   \n",
       "2        세종특별자치시 장군면 의당전의로 송학1리 마을입구 세종방향     1    60  2014  세종특별자치시경찰청   \n",
       "3  세종특별자치시 조치원읍 세종로 욱일사거리(신봉초교 앞) (대전→천안)     2    50  2014  세종특별자치시경찰청   \n",
       "4            세종특별자치시 소정면 세종로 무궁화@앞(천안 방향)     2    80  2014  세종특별자치시경찰청   \n",
       "\n",
       "       관리기관전화번호     데이터기준일자  \n",
       "0  044-559-2151  2022-05-20  \n",
       "1  044-559-2151  2022-05-20  \n",
       "2  044-559-2151  2022-05-20  \n",
       "3  044-559-2151  2022-05-20  \n",
       "4  044-559-2151  2022-05-20  "
      ]
     },
     "execution_count": 455,
     "metadata": {},
     "output_type": "execute_result"
    }
   ],
   "source": [
    "SEJONG_CCTV.head()"
   ]
  },
  {
   "cell_type": "code",
   "execution_count": 456,
   "metadata": {},
   "outputs": [
    {
     "data": {
      "text/plain": [
       "Index(['무인교통단속카메라관리번호', '시도명', '시군구명', '도로종류', '도로노선번호', '도로노선명', '도로노선방향',\n",
       "       '소재지도로명주소', '소재지지번주소', '위도', '경도', '설치장소', '단속구분', '제한속도', '설치연도',\n",
       "       '관리기관명', '관리기관전화번호', '데이터기준일자'],\n",
       "      dtype='object')"
      ]
     },
     "execution_count": 456,
     "metadata": {},
     "output_type": "execute_result"
    }
   ],
   "source": [
    "SEJONG_CCTV.columns"
   ]
  },
  {
   "cell_type": "code",
   "execution_count": 457,
   "metadata": {},
   "outputs": [
    {
     "data": {
      "text/html": [
       "<div>\n",
       "<style scoped>\n",
       "    .dataframe tbody tr th:only-of-type {\n",
       "        vertical-align: middle;\n",
       "    }\n",
       "\n",
       "    .dataframe tbody tr th {\n",
       "        vertical-align: top;\n",
       "    }\n",
       "\n",
       "    .dataframe thead th {\n",
       "        text-align: right;\n",
       "    }\n",
       "</style>\n",
       "<table border=\"1\" class=\"dataframe\">\n",
       "  <thead>\n",
       "    <tr style=\"text-align: right;\">\n",
       "      <th></th>\n",
       "      <th>도로노선명</th>\n",
       "      <th>위도</th>\n",
       "      <th>경도</th>\n",
       "      <th>설치장소</th>\n",
       "    </tr>\n",
       "  </thead>\n",
       "  <tbody>\n",
       "    <tr>\n",
       "      <th>0</th>\n",
       "      <td>세종로</td>\n",
       "      <td>36.728495</td>\n",
       "      <td>127.165088</td>\n",
       "      <td>세종특별자치시 소정면 세종로 4679, (은산제2주유소 앞)</td>\n",
       "    </tr>\n",
       "    <tr>\n",
       "      <th>1</th>\n",
       "      <td>의당전의로</td>\n",
       "      <td>36.527810</td>\n",
       "      <td>127.184503</td>\n",
       "      <td>세종특별자치시 장군면 의당전의로 송학1리 마을입구 공주방향</td>\n",
       "    </tr>\n",
       "    <tr>\n",
       "      <th>2</th>\n",
       "      <td>의당전의로</td>\n",
       "      <td>36.527810</td>\n",
       "      <td>127.184503</td>\n",
       "      <td>세종특별자치시 장군면 의당전의로 송학1리 마을입구 세종방향</td>\n",
       "    </tr>\n",
       "    <tr>\n",
       "      <th>3</th>\n",
       "      <td>세종로</td>\n",
       "      <td>36.603117</td>\n",
       "      <td>127.289840</td>\n",
       "      <td>세종특별자치시 조치원읍 세종로 욱일사거리(신봉초교 앞) (대전→천안)</td>\n",
       "    </tr>\n",
       "    <tr>\n",
       "      <th>4</th>\n",
       "      <td>세종로</td>\n",
       "      <td>36.697907</td>\n",
       "      <td>127.152629</td>\n",
       "      <td>세종특별자치시 소정면 세종로 무궁화@앞(천안 방향)</td>\n",
       "    </tr>\n",
       "  </tbody>\n",
       "</table>\n",
       "</div>"
      ],
      "text/plain": [
       "   도로노선명         위도          경도                                    설치장소\n",
       "0    세종로  36.728495  127.165088       세종특별자치시 소정면 세종로 4679, (은산제2주유소 앞)\n",
       "1  의당전의로  36.527810  127.184503        세종특별자치시 장군면 의당전의로 송학1리 마을입구 공주방향\n",
       "2  의당전의로  36.527810  127.184503        세종특별자치시 장군면 의당전의로 송학1리 마을입구 세종방향\n",
       "3    세종로  36.603117  127.289840  세종특별자치시 조치원읍 세종로 욱일사거리(신봉초교 앞) (대전→천안)\n",
       "4    세종로  36.697907  127.152629            세종특별자치시 소정면 세종로 무궁화@앞(천안 방향)"
      ]
     },
     "execution_count": 457,
     "metadata": {},
     "output_type": "execute_result"
    }
   ],
   "source": [
    "SEJONG_CCTV.drop(['무인교통단속카메라관리번호', '시도명', '시군구명', '도로종류', '도로노선번호', '도로노선방향',\n",
    "       '소재지도로명주소', '소재지지번주소', '단속구분', '제한속도', '설치연도',\n",
    "       '관리기관명', '관리기관전화번호', '데이터기준일자'], axis=1, inplace=True)\n",
    "SEJONG_CCTV.head()"
   ]
  },
  {
   "cell_type": "code",
   "execution_count": 458,
   "metadata": {},
   "outputs": [
    {
     "data": {
      "text/plain": [
       "도로노선명    0\n",
       "위도       0\n",
       "경도       0\n",
       "설치장소     0\n",
       "dtype: int64"
      ]
     },
     "execution_count": 458,
     "metadata": {},
     "output_type": "execute_result"
    }
   ],
   "source": [
    "SEJONG_CCTV.isnull().sum()"
   ]
  },
  {
   "cell_type": "markdown",
   "metadata": {},
   "source": [
    "#### 9. 서천"
   ]
  },
  {
   "cell_type": "code",
   "execution_count": 459,
   "metadata": {},
   "outputs": [
    {
     "data": {
      "text/html": [
       "<div>\n",
       "<style scoped>\n",
       "    .dataframe tbody tr th:only-of-type {\n",
       "        vertical-align: middle;\n",
       "    }\n",
       "\n",
       "    .dataframe tbody tr th {\n",
       "        vertical-align: top;\n",
       "    }\n",
       "\n",
       "    .dataframe thead th {\n",
       "        text-align: right;\n",
       "    }\n",
       "</style>\n",
       "<table border=\"1\" class=\"dataframe\">\n",
       "  <thead>\n",
       "    <tr style=\"text-align: right;\">\n",
       "      <th></th>\n",
       "      <th>도로노선명</th>\n",
       "      <th>위도</th>\n",
       "      <th>경도</th>\n",
       "      <th>설치장소</th>\n",
       "    </tr>\n",
       "  </thead>\n",
       "  <tbody>\n",
       "    <tr>\n",
       "      <th>0</th>\n",
       "      <td>중로</td>\n",
       "      <td>36.078422</td>\n",
       "      <td>126.691358</td>\n",
       "      <td>서천군청 입구</td>\n",
       "    </tr>\n",
       "    <tr>\n",
       "      <th>1</th>\n",
       "      <td>중로</td>\n",
       "      <td>36.077096</td>\n",
       "      <td>126.690699</td>\n",
       "      <td>군청사거리</td>\n",
       "    </tr>\n",
       "    <tr>\n",
       "      <th>2</th>\n",
       "      <td>중로</td>\n",
       "      <td>36.076513</td>\n",
       "      <td>126.693599</td>\n",
       "      <td>서천중학교입구</td>\n",
       "    </tr>\n",
       "    <tr>\n",
       "      <th>3</th>\n",
       "      <td>중로</td>\n",
       "      <td>36.077547</td>\n",
       "      <td>126.689105</td>\n",
       "      <td>서천초등학교 입구</td>\n",
       "    </tr>\n",
       "    <tr>\n",
       "      <th>4</th>\n",
       "      <td>중로</td>\n",
       "      <td>36.079068</td>\n",
       "      <td>126.686136</td>\n",
       "      <td>다사랑입구</td>\n",
       "    </tr>\n",
       "  </tbody>\n",
       "</table>\n",
       "</div>"
      ],
      "text/plain": [
       "  도로노선명         위도          경도       설치장소\n",
       "0    중로  36.078422  126.691358    서천군청 입구\n",
       "1    중로  36.077096  126.690699      군청사거리\n",
       "2    중로  36.076513  126.693599    서천중학교입구\n",
       "3    중로  36.077547  126.689105  서천초등학교 입구\n",
       "4    중로  36.079068  126.686136      다사랑입구"
      ]
     },
     "execution_count": 459,
     "metadata": {},
     "output_type": "execute_result"
    }
   ],
   "source": [
    "SEOCHEON_CCTV.drop(['도로노선방향','도로노선번호','시도명','시군구명','도로종류','소재지도로명주소','소재지지번주소','단속구분','제한속도','단속구간위치구분','과속단속구간길이','보호구역구분','설치연도','관리기관명','관리기관전화번호','데이터기준일자','무인교통단속카메라관리번호'], axis=1, inplace=True)\n",
    "SEOCHEON_CCTV.head()"
   ]
  },
  {
   "cell_type": "code",
   "execution_count": 460,
   "metadata": {},
   "outputs": [
    {
     "data": {
      "text/plain": [
       "도로노선명    0\n",
       "위도       0\n",
       "경도       0\n",
       "설치장소     0\n",
       "dtype: int64"
      ]
     },
     "execution_count": 460,
     "metadata": {},
     "output_type": "execute_result"
    }
   ],
   "source": [
    "SEOCHEON_CCTV.isnull().sum()"
   ]
  },
  {
   "cell_type": "markdown",
   "metadata": {},
   "source": [
    "#### 10. 서산"
   ]
  },
  {
   "cell_type": "code",
   "execution_count": 461,
   "metadata": {},
   "outputs": [
    {
     "data": {
      "text/html": [
       "<div>\n",
       "<style scoped>\n",
       "    .dataframe tbody tr th:only-of-type {\n",
       "        vertical-align: middle;\n",
       "    }\n",
       "\n",
       "    .dataframe tbody tr th {\n",
       "        vertical-align: top;\n",
       "    }\n",
       "\n",
       "    .dataframe thead th {\n",
       "        text-align: right;\n",
       "    }\n",
       "</style>\n",
       "<table border=\"1\" class=\"dataframe\">\n",
       "  <thead>\n",
       "    <tr style=\"text-align: right;\">\n",
       "      <th></th>\n",
       "      <th>도로노선명</th>\n",
       "      <th>위도</th>\n",
       "      <th>경도</th>\n",
       "      <th>설치장소</th>\n",
       "    </tr>\n",
       "  </thead>\n",
       "  <tbody>\n",
       "    <tr>\n",
       "      <th>0</th>\n",
       "      <td>서해로</td>\n",
       "      <td>36.770225</td>\n",
       "      <td>126.434310</td>\n",
       "      <td>서해로 법원삼거리</td>\n",
       "    </tr>\n",
       "    <tr>\n",
       "      <th>1</th>\n",
       "      <td>잠홍2길</td>\n",
       "      <td>36.788711</td>\n",
       "      <td>126.485470</td>\n",
       "      <td>잠홍2길 21 잠홍 장례식장 앞 사거리</td>\n",
       "    </tr>\n",
       "    <tr>\n",
       "      <th>2</th>\n",
       "      <td>서해로</td>\n",
       "      <td>36.785559</td>\n",
       "      <td>126.475696</td>\n",
       "      <td>서해로 애향삼거리</td>\n",
       "    </tr>\n",
       "    <tr>\n",
       "      <th>3</th>\n",
       "      <td>충의로</td>\n",
       "      <td>36.877264</td>\n",
       "      <td>126.439599</td>\n",
       "      <td>지곡면 충의로 화천교차로 (화천슈퍼 앞) 대산방향</td>\n",
       "    </tr>\n",
       "    <tr>\n",
       "      <th>4</th>\n",
       "      <td>양열로</td>\n",
       "      <td>36.761317</td>\n",
       "      <td>126.453227</td>\n",
       "      <td>석남동 양열로 석지사거리 태안방향</td>\n",
       "    </tr>\n",
       "  </tbody>\n",
       "</table>\n",
       "</div>"
      ],
      "text/plain": [
       "  도로노선명         위도          경도                         설치장소\n",
       "0   서해로  36.770225  126.434310                    서해로 법원삼거리\n",
       "1  잠홍2길  36.788711  126.485470        잠홍2길 21 잠홍 장례식장 앞 사거리\n",
       "2   서해로  36.785559  126.475696                    서해로 애향삼거리\n",
       "3   충의로  36.877264  126.439599  지곡면 충의로 화천교차로 (화천슈퍼 앞) 대산방향\n",
       "4   양열로  36.761317  126.453227           석남동 양열로 석지사거리 태안방향"
      ]
     },
     "execution_count": 461,
     "metadata": {},
     "output_type": "execute_result"
    }
   ],
   "source": [
    "SEOSAN_CCTV.drop(['도로노선방향','도로노선번호','시도명','시군구명','도로종류','소재지도로명주소','소재지지번주소','단속구분','제한속도','단속구간위치구분','과속단속구간길이','보호구역구분','설치연도','관리기관명','관리기관전화번호','데이터기준일자','무인교통단속카메라관리번호'], axis=1, inplace=True)\n",
    "SEOSAN_CCTV.head()"
   ]
  },
  {
   "cell_type": "code",
   "execution_count": 462,
   "metadata": {},
   "outputs": [
    {
     "data": {
      "text/plain": [
       "도로노선명    0\n",
       "위도       0\n",
       "경도       0\n",
       "설치장소     0\n",
       "dtype: int64"
      ]
     },
     "execution_count": 462,
     "metadata": {},
     "output_type": "execute_result"
    }
   ],
   "source": [
    "SEOSAN_CCTV.isnull().sum()"
   ]
  },
  {
   "cell_type": "markdown",
   "metadata": {},
   "source": [
    "#### 11. 태안"
   ]
  },
  {
   "cell_type": "code",
   "execution_count": 463,
   "metadata": {},
   "outputs": [
    {
     "data": {
      "text/html": [
       "<div>\n",
       "<style scoped>\n",
       "    .dataframe tbody tr th:only-of-type {\n",
       "        vertical-align: middle;\n",
       "    }\n",
       "\n",
       "    .dataframe tbody tr th {\n",
       "        vertical-align: top;\n",
       "    }\n",
       "\n",
       "    .dataframe thead th {\n",
       "        text-align: right;\n",
       "    }\n",
       "</style>\n",
       "<table border=\"1\" class=\"dataframe\">\n",
       "  <thead>\n",
       "    <tr style=\"text-align: right;\">\n",
       "      <th></th>\n",
       "      <th>도로노선명</th>\n",
       "      <th>위도</th>\n",
       "      <th>경도</th>\n",
       "      <th>설치장소</th>\n",
       "    </tr>\n",
       "  </thead>\n",
       "  <tbody>\n",
       "    <tr>\n",
       "      <th>0</th>\n",
       "      <td>중앙로</td>\n",
       "      <td>36.754050</td>\n",
       "      <td>126.296765</td>\n",
       "      <td>중앙로</td>\n",
       "    </tr>\n",
       "    <tr>\n",
       "      <th>1</th>\n",
       "      <td>중앙로</td>\n",
       "      <td>36.753216</td>\n",
       "      <td>126.298963</td>\n",
       "      <td>중앙로</td>\n",
       "    </tr>\n",
       "    <tr>\n",
       "      <th>2</th>\n",
       "      <td>중앙로</td>\n",
       "      <td>36.748852</td>\n",
       "      <td>126.296810</td>\n",
       "      <td>중앙로</td>\n",
       "    </tr>\n",
       "    <tr>\n",
       "      <th>3</th>\n",
       "      <td>중앙로</td>\n",
       "      <td>36.754363</td>\n",
       "      <td>126.294761</td>\n",
       "      <td>중앙로</td>\n",
       "    </tr>\n",
       "    <tr>\n",
       "      <th>4</th>\n",
       "      <td>중앙로</td>\n",
       "      <td>36.754057</td>\n",
       "      <td>126.297036</td>\n",
       "      <td>중앙로</td>\n",
       "    </tr>\n",
       "  </tbody>\n",
       "</table>\n",
       "</div>"
      ],
      "text/plain": [
       "  도로노선명         위도          경도 설치장소\n",
       "0   중앙로  36.754050  126.296765  중앙로\n",
       "1   중앙로  36.753216  126.298963  중앙로\n",
       "2   중앙로  36.748852  126.296810  중앙로\n",
       "3   중앙로  36.754363  126.294761  중앙로\n",
       "4   중앙로  36.754057  126.297036  중앙로"
      ]
     },
     "execution_count": 463,
     "metadata": {},
     "output_type": "execute_result"
    }
   ],
   "source": [
    "TAEAN_CCTV.drop(['도로노선방향','도로노선번호','시도명','시군구명','도로종류','소재지도로명주소','소재지지번주소','단속구분','제한속도','단속구간위치구분','과속단속구간길이','보호구역구분','설치연도','관리기관명','관리기관전화번호','데이터기준일자','무인교통단속카메라관리번호'], axis=1, inplace=True)\n",
    "TAEAN_CCTV.head()"
   ]
  },
  {
   "cell_type": "code",
   "execution_count": 464,
   "metadata": {},
   "outputs": [
    {
     "data": {
      "text/plain": [
       "도로노선명    0\n",
       "위도       0\n",
       "경도       0\n",
       "설치장소     0\n",
       "dtype: int64"
      ]
     },
     "execution_count": 464,
     "metadata": {},
     "output_type": "execute_result"
    }
   ],
   "source": [
    "TAEAN_CCTV.isnull().sum()"
   ]
  },
  {
   "cell_type": "markdown",
   "metadata": {},
   "source": [
    "#### 12. 예산"
   ]
  },
  {
   "cell_type": "code",
   "execution_count": 465,
   "metadata": {},
   "outputs": [
    {
     "data": {
      "text/html": [
       "<div>\n",
       "<style scoped>\n",
       "    .dataframe tbody tr th:only-of-type {\n",
       "        vertical-align: middle;\n",
       "    }\n",
       "\n",
       "    .dataframe tbody tr th {\n",
       "        vertical-align: top;\n",
       "    }\n",
       "\n",
       "    .dataframe thead th {\n",
       "        text-align: right;\n",
       "    }\n",
       "</style>\n",
       "<table border=\"1\" class=\"dataframe\">\n",
       "  <thead>\n",
       "    <tr style=\"text-align: right;\">\n",
       "      <th></th>\n",
       "      <th>도로노선명</th>\n",
       "      <th>위도</th>\n",
       "      <th>경도</th>\n",
       "      <th>설치장소</th>\n",
       "    </tr>\n",
       "  </thead>\n",
       "  <tbody>\n",
       "    <tr>\n",
       "      <th>0</th>\n",
       "      <td>봉운로</td>\n",
       "      <td>36.705838</td>\n",
       "      <td>126.669772</td>\n",
       "      <td>덕산초교</td>\n",
       "    </tr>\n",
       "    <tr>\n",
       "      <th>1</th>\n",
       "      <td>역전로</td>\n",
       "      <td>36.682523</td>\n",
       "      <td>126.829277</td>\n",
       "      <td>주교사거리</td>\n",
       "    </tr>\n",
       "    <tr>\n",
       "      <th>2</th>\n",
       "      <td>금오대로</td>\n",
       "      <td>36.693884</td>\n",
       "      <td>126.831997</td>\n",
       "      <td>종합버스터미널</td>\n",
       "    </tr>\n",
       "    <tr>\n",
       "      <th>3</th>\n",
       "      <td>임성로</td>\n",
       "      <td>36.679840</td>\n",
       "      <td>126.849771</td>\n",
       "      <td>삼선당약국</td>\n",
       "    </tr>\n",
       "    <tr>\n",
       "      <th>4</th>\n",
       "      <td>임성로</td>\n",
       "      <td>36.678431</td>\n",
       "      <td>126.849570</td>\n",
       "      <td>광덕주단</td>\n",
       "    </tr>\n",
       "  </tbody>\n",
       "</table>\n",
       "</div>"
      ],
      "text/plain": [
       "  도로노선명         위도          경도     설치장소\n",
       "0   봉운로  36.705838  126.669772     덕산초교\n",
       "1   역전로  36.682523  126.829277    주교사거리\n",
       "2  금오대로  36.693884  126.831997  종합버스터미널\n",
       "3   임성로  36.679840  126.849771    삼선당약국\n",
       "4   임성로  36.678431  126.849570     광덕주단"
      ]
     },
     "execution_count": 465,
     "metadata": {},
     "output_type": "execute_result"
    }
   ],
   "source": [
    "YESAN_CCTV.drop(['도로노선방향','도로노선번호','시도명','시군구명','도로종류','소재지도로명주소','소재지지번주소','단속구분','제한속도','단속구간위치구분','과속단속구간길이','보호구역구분','설치연도','관리기관명','관리기관전화번호','데이터기준일자','무인교통단속카메라관리번호'], axis=1, inplace=True)\n",
    "YESAN_CCTV.head()"
   ]
  },
  {
   "cell_type": "code",
   "execution_count": 466,
   "metadata": {},
   "outputs": [
    {
     "data": {
      "text/plain": [
       "도로노선명    0\n",
       "위도       0\n",
       "경도       0\n",
       "설치장소     0\n",
       "dtype: int64"
      ]
     },
     "execution_count": 466,
     "metadata": {},
     "output_type": "execute_result"
    }
   ],
   "source": [
    "YESAN_CCTV.isnull().sum()"
   ]
  },
  {
   "cell_type": "markdown",
   "metadata": {},
   "source": [
    "#### column 통일"
   ]
  },
  {
   "cell_type": "code",
   "execution_count": 467,
   "metadata": {},
   "outputs": [
    {
     "data": {
      "text/plain": [
       "Index(['NPA_CL', 'EVT_STAT_CD', 'EVT_CL_CD', 'HPPN_X', 'HPPN_Y'], dtype='object')"
      ]
     },
     "execution_count": 467,
     "metadata": {},
     "output_type": "execute_result"
    }
   ],
   "source": [
    "KP_2020.columns"
   ]
  },
  {
   "cell_type": "code",
   "execution_count": 468,
   "metadata": {},
   "outputs": [
    {
     "data": {
      "text/plain": [
       "Index(['NPA_CL', 'EVT_STAT_CD', 'EVT_CL_CD', 'HPPN_X', 'HPPN_Y'], dtype='object')"
      ]
     },
     "execution_count": 468,
     "metadata": {},
     "output_type": "execute_result"
    }
   ],
   "source": [
    "KP_2021.columns"
   ]
  },
  {
   "cell_type": "code",
   "execution_count": 469,
   "metadata": {},
   "outputs": [
    {
     "data": {
      "text/plain": [
       "Index(['NPA_CL', 'EVT_STAT_CD', 'EVT_CL_CD', 'HPPN_X', 'HPPN_Y'], dtype='object')"
      ]
     },
     "execution_count": 469,
     "metadata": {},
     "output_type": "execute_result"
    }
   ],
   "source": [
    "NPA_2020.columns"
   ]
  },
  {
   "cell_type": "markdown",
   "metadata": {},
   "source": []
  },
  {
   "cell_type": "markdown",
   "metadata": {},
   "source": [
    "### 3. 데이터 병합"
   ]
  },
  {
   "cell_type": "code",
   "execution_count": 470,
   "metadata": {},
   "outputs": [],
   "source": [
    "# 원본데이터가 바뀌는것을 미연에 방지하기위해 다른 데이터에 복사 후 진행\n",
    "k_2020 = KP_2020.copy()\n",
    "k_2021 = KP_2021.copy()\n",
    "n_2020 = NPA_2020.copy()\n",
    "\n",
    "# 교통사고건만 추출 후 변수에 저장 \n",
    "k_2020 = k_2020[k_2020['EVT_CL_CD']==401]\n",
    "k_2021 = k_2021[k_2021['EVT_CL_CD']==401]\n",
    "n_2020 = n_2020[n_2020['EVT_CL_CD']==401]"
   ]
  },
  {
   "cell_type": "code",
   "execution_count": 471,
   "metadata": {},
   "outputs": [
    {
     "name": "stdout",
     "output_type": "stream",
     "text": [
      "k_2020 csv 파일 교통사고 건 수 =  6207\n",
      "k_2021 csv 파일 교통사고 건 수 =  164582\n",
      "n_2020 csv 파일 교통사고 건 수 =  93659\n",
      "\n",
      "전체 교통사고 건 수  =  264448\n"
     ]
    }
   ],
   "source": [
    "print('k_2020 csv 파일 교통사고 건 수 = ', len(k_2020))\n",
    "print('k_2021 csv 파일 교통사고 건 수 = ', len(k_2021))\n",
    "print('n_2020 csv 파일 교통사고 건 수 = ', len(n_2020))\n",
    "print('\\n전체 교통사고 건 수  = ', len(k_2020)+len(k_2021)+len(n_2020))"
   ]
  },
  {
   "cell_type": "markdown",
   "metadata": {},
   "source": [
    "### CCTV 병합"
   ]
  },
  {
   "cell_type": "markdown",
   "metadata": {},
   "source": [
    "#### 중복값 제거"
   ]
  },
  {
   "cell_type": "code",
   "execution_count": 472,
   "metadata": {},
   "outputs": [],
   "source": [
    "#전체\n",
    "CCTV = pd.concat([ASAN_CCTV,BORYEONG_CCTV,CHEONAN_CCTV,CHUNGYANG_CCTV,DAEJEON_CCTV,DANGJIN_CCTV,GEOMSAN_CCTV,SEJONG_CCTV, \n",
    "                 SEOCHEON_CCTV,SEOSAN_CCTV,TAEAN_CCTV,YESAN_CCTV  ])\n",
    "#충남\n",
    "CH_CCTV = pd.concat([ASAN_CCTV,BORYEONG_CCTV,CHEONAN_CCTV,CHUNGYANG_CCTV,DANGJIN_CCTV,GEOMSAN_CCTV,\n",
    "                 SEOCHEON_CCTV,SEOSAN_CCTV,TAEAN_CCTV,YESAN_CCTV  ])\n",
    "#대전\n",
    "DJ_CCTV = pd.concat([DAEJEON_CCTV])\n",
    "#세종\n",
    "SJ_CCTV = pd.concat([SEJONG_CCTV])"
   ]
  },
  {
   "cell_type": "code",
   "execution_count": 473,
   "metadata": {},
   "outputs": [
    {
     "name": "stdout",
     "output_type": "stream",
     "text": [
      "중복값 제거 후 전체 교통사고 건수 :  191655\n"
     ]
    }
   ],
   "source": [
    "All = pd.concat([k_2020,k_2021,n_2020])\n",
    "All = All.drop_duplicates()\n",
    "print('중복값 제거 후 전체 교통사고 건수 : ', len(All))"
   ]
  },
  {
   "cell_type": "code",
   "execution_count": 474,
   "metadata": {},
   "outputs": [
    {
     "data": {
      "text/plain": [
       "NPA_CL         0\n",
       "EVT_STAT_CD    0\n",
       "EVT_CL_CD      0\n",
       "HPPN_X         0\n",
       "HPPN_Y         0\n",
       "dtype: int64"
      ]
     },
     "execution_count": 474,
     "metadata": {},
     "output_type": "execute_result"
    }
   ],
   "source": [
    "All = All.fillna({'HPPN_X':All['HPPN_X'].mean()})\n",
    "All = All.fillna({'HPPN_Y':All['HPPN_Y'].mean()})\n",
    "All.isnull().sum()"
   ]
  },
  {
   "cell_type": "markdown",
   "metadata": {},
   "source": [
    "|Column|서단(경도)|동단(경도)|북단(위도)|남단(위도)|\n",
    "|:---|:------|:------|:------|:------|\n",
    "|대전|127.14|127.33|36.30|36.10|\n",
    "|세종|127.1|127.23|36.43|36.24|\n",
    "|충남|125.3221|127.3831|37.0344|35.5830|"
   ]
  },
  {
   "cell_type": "markdown",
   "metadata": {},
   "source": [
    "## 충남 대전 세종지역 추출 "
   ]
  },
  {
   "cell_type": "code",
   "execution_count": 475,
   "metadata": {},
   "outputs": [
    {
     "name": "stdout",
     "output_type": "stream",
     "text": [
      "모든 청 관리 교통사고 건수 :  191655\n",
      "대전청 관리 교통사고 건수 :  68413\n",
      "충남청 관리 교통사고 건수 :  114161\n",
      "세종청 관리 교통사고 건수 :  7463\n"
     ]
    }
   ],
   "source": [
    "#대전\n",
    "DJPC = All[All['NPA_CL']== 13]\n",
    "\n",
    "#충남\n",
    "CHPC = All[All['NPA_CL']== 19]\n",
    "\n",
    "#세종\n",
    "SJPC = All[All['NPA_CL']== 31]\n",
    "\n",
    "print('모든 청 관리 교통사고 건수 : ', len(All))\n",
    "print('대전청 관리 교통사고 건수 : ', len(DJPC))\n",
    "print('충남청 관리 교통사고 건수 : ', len(CHPC))\n",
    "print('세종청 관리 교통사고 건수 : ', len(SJPC))"
   ]
  },
  {
   "cell_type": "markdown",
   "metadata": {},
   "source": [
    "#### 지역 추출 변환 함수"
   ]
  },
  {
   "cell_type": "code",
   "execution_count": 476,
   "metadata": {},
   "outputs": [],
   "source": [
    "# 원하고자 하는 지역 외의 데이터 삭제 및 뽑기\n",
    "# 변환데이터, 원본데이터, 동단경도, 서단경도, 남단위도, 북단위도\n",
    "\n",
    "# 대전, 세종에 해당 \n",
    "def translocation(TransData, Data,  Eastlongtitude, Westlongtitude,  Southlatitude, Northlatitude):\n",
    "\n",
    "     #동단 삭제 \n",
    "    TransData = Data.drop(Data[(Data['HPPN_X']>Eastlongtitude)].index)\n",
    "    \n",
    "    #서단 삭제\n",
    "    TransData = TransData.drop(TransData[(TransData['HPPN_X']<Westlongtitude)].index)\n",
    "    \n",
    "    #남단 삭제 \n",
    "    TransData = TransData.drop(TransData[(TransData['HPPN_Y']<Southlatitude)].index)\n",
    "    \n",
    "    #북단 삭제 \n",
    "    TransData =TransData.drop(TransData[(TransData['HPPN_Y']>Northlatitude)].index)\n",
    "    \n",
    "    return TransData\n",
    "\n",
    "# 원하고자 하는 지역 만 뽑기(충남의 경우만 해당)\n",
    "\n",
    "def translocation_CH(TransData, Data, Eastlongtitude, Westlongtitude, Southlatitude, Northlatitude):\n",
    "    \n",
    "    TransData = Data.drop(Data[(Data.HPPN_X < Eastlongtitude) & (Data.HPPN_X > Westlongtitude) &\n",
    "                              (Data.HPPN_Y > Southlatitude) & (Data.HPPN_Y < Northlatitude)\n",
    "                              ].index)\n",
    "    return TransData\n",
    "\n",
    "def duplicated_location(Data):\n",
    "    print('중복 처리 전 교통사고 건수: ', len(Data))\n",
    "    Data[Data.duplicated(['HPPN_X','HPPN_Y'])==True]\n",
    "    Data = Data.drop_duplicates(['HPPN_X','HPPN_Y'])\n",
    "    print('중복 처리 후 교통사고 건수 : ', len(Data))\n",
    "    \n",
    "    return Data"
   ]
  },
  {
   "cell_type": "markdown",
   "metadata": {},
   "source": [
    "### 충남"
   ]
  },
  {
   "cell_type": "code",
   "execution_count": 477,
   "metadata": {},
   "outputs": [
    {
     "name": "stdout",
     "output_type": "stream",
     "text": [
      "충남지역에서 대전지역에 해당하는 데이터 제거 후 개수 :  115403\n",
      "충남지역에서 세종지역에 해당하는 데이터 제거 후 개수 :  105032\n"
     ]
    }
   ],
   "source": [
    "# 충남 - 대전 \n",
    "Chungnam = pd.DataFrame()\n",
    "\n",
    "Chungnam = translocation_CH(Chungnam, All, 127.55529876331815, 127.25007536223731, 36.186117749974656, 36.49779017085958 )\n",
    "print('충남지역에서 대전지역에 해당하는 데이터 제거 후 개수 : ', len(Chungnam))\n",
    "\n",
    "# 충남 - 세종   127.23, 127.1, 36.24, 36.43)\n",
    "Chungnam = translocation_CH(Chungnam, Chungnam, 127.40746822278025, 127.12869800443497, 36.41194803285692, 36.70492)\n",
    "print('충남지역에서 세종지역에 해당하는 데이터 제거 후 개수 : ', len(Chungnam))\n",
    "\n",
    "Chungnam = translocation(Chungnam,Chungnam, 127.62692947603428,126.13148910811715,35.98803519542761,37.056951491204124 )"
   ]
  },
  {
   "cell_type": "code",
   "execution_count": 478,
   "metadata": {},
   "outputs": [
    {
     "name": "stdout",
     "output_type": "stream",
     "text": [
      "중복 처리 전 교통사고 건수:  103893\n",
      "중복 처리 후 교통사고 건수 :  103129\n"
     ]
    }
   ],
   "source": [
    "Chungnam = duplicated_location(Chungnam)"
   ]
  },
  {
   "cell_type": "markdown",
   "metadata": {},
   "source": [
    "### 대전"
   ]
  },
  {
   "cell_type": "code",
   "execution_count": 479,
   "metadata": {},
   "outputs": [
    {
     "name": "stdout",
     "output_type": "stream",
     "text": [
      "대전지역 교통사고 건수 :  72981\n"
     ]
    }
   ],
   "source": [
    "DAEJEON = pd.DataFrame()\n",
    "DAEJEON = translocation(DAEJEON, All, 127.55529876331815, 127.25007536223731, 36.186117749974656, 36.49779017085958)\n",
    "print('대전지역 교통사고 건수 : ', len(DAEJEON))"
   ]
  },
  {
   "cell_type": "code",
   "execution_count": 480,
   "metadata": {},
   "outputs": [
    {
     "name": "stdout",
     "output_type": "stream",
     "text": [
      "중복 처리 전 교통사고 건수:  72981\n",
      "중복 처리 후 교통사고 건수 :  70712\n"
     ]
    }
   ],
   "source": [
    "DAEJEON = duplicated_location(DAEJEON)"
   ]
  },
  {
   "cell_type": "markdown",
   "metadata": {},
   "source": [
    "### 세종"
   ]
  },
  {
   "cell_type": "code",
   "execution_count": 481,
   "metadata": {},
   "outputs": [
    {
     "name": "stdout",
     "output_type": "stream",
     "text": [
      "세종지역 교통사고 건수 :  15588\n"
     ]
    }
   ],
   "source": [
    "SEJONG = pd.DataFrame()\n",
    "SEJONG = translocation(SEJONG, All, 127.40746822278025, 127.12869800443497, 36.41194803285692, 36.70492)\n",
    "print('세종지역 교통사고 건수 : ', len(SEJONG))"
   ]
  },
  {
   "cell_type": "code",
   "execution_count": 482,
   "metadata": {},
   "outputs": [
    {
     "name": "stdout",
     "output_type": "stream",
     "text": [
      "중복 처리 전 교통사고 건수:  15588\n",
      "중복 처리 후 교통사고 건수 :  14854\n"
     ]
    }
   ],
   "source": [
    "SEJONG = duplicated_location(SEJONG)"
   ]
  },
  {
   "cell_type": "markdown",
   "metadata": {},
   "source": [
    "### 충남, 대전, 세종 병합 = 전체교통사고확인"
   ]
  },
  {
   "cell_type": "code",
   "execution_count": 483,
   "metadata": {},
   "outputs": [
    {
     "name": "stdout",
     "output_type": "stream",
     "text": [
      "중복 처리 전 전체 교통사고 건수:  188695\n"
     ]
    },
    {
     "data": {
      "text/html": [
       "<div>\n",
       "<style scoped>\n",
       "    .dataframe tbody tr th:only-of-type {\n",
       "        vertical-align: middle;\n",
       "    }\n",
       "\n",
       "    .dataframe tbody tr th {\n",
       "        vertical-align: top;\n",
       "    }\n",
       "\n",
       "    .dataframe thead th {\n",
       "        text-align: right;\n",
       "    }\n",
       "</style>\n",
       "<table border=\"1\" class=\"dataframe\">\n",
       "  <thead>\n",
       "    <tr style=\"text-align: right;\">\n",
       "      <th></th>\n",
       "      <th>NPA_CL</th>\n",
       "      <th>EVT_STAT_CD</th>\n",
       "      <th>EVT_CL_CD</th>\n",
       "      <th>HPPN_X</th>\n",
       "      <th>HPPN_Y</th>\n",
       "    </tr>\n",
       "  </thead>\n",
       "  <tbody>\n",
       "    <tr>\n",
       "      <th>426</th>\n",
       "      <td>13</td>\n",
       "      <td>10</td>\n",
       "      <td>401</td>\n",
       "      <td>127.386404</td>\n",
       "      <td>36.435266</td>\n",
       "    </tr>\n",
       "    <tr>\n",
       "      <th>1387</th>\n",
       "      <td>31</td>\n",
       "      <td>10</td>\n",
       "      <td>401</td>\n",
       "      <td>127.293270</td>\n",
       "      <td>36.482200</td>\n",
       "    </tr>\n",
       "    <tr>\n",
       "      <th>1943</th>\n",
       "      <td>31</td>\n",
       "      <td>10</td>\n",
       "      <td>401</td>\n",
       "      <td>127.262514</td>\n",
       "      <td>36.480017</td>\n",
       "    </tr>\n",
       "    <tr>\n",
       "      <th>2124</th>\n",
       "      <td>31</td>\n",
       "      <td>10</td>\n",
       "      <td>401</td>\n",
       "      <td>127.262247</td>\n",
       "      <td>36.479612</td>\n",
       "    </tr>\n",
       "    <tr>\n",
       "      <th>3541</th>\n",
       "      <td>31</td>\n",
       "      <td>10</td>\n",
       "      <td>401</td>\n",
       "      <td>127.268839</td>\n",
       "      <td>36.468472</td>\n",
       "    </tr>\n",
       "    <tr>\n",
       "      <th>...</th>\n",
       "      <td>...</td>\n",
       "      <td>...</td>\n",
       "      <td>...</td>\n",
       "      <td>...</td>\n",
       "      <td>...</td>\n",
       "    </tr>\n",
       "    <tr>\n",
       "      <th>1172176</th>\n",
       "      <td>19</td>\n",
       "      <td>10</td>\n",
       "      <td>401</td>\n",
       "      <td>127.258070</td>\n",
       "      <td>36.489040</td>\n",
       "    </tr>\n",
       "    <tr>\n",
       "      <th>1172705</th>\n",
       "      <td>13</td>\n",
       "      <td>10</td>\n",
       "      <td>401</td>\n",
       "      <td>127.404595</td>\n",
       "      <td>36.445130</td>\n",
       "    </tr>\n",
       "    <tr>\n",
       "      <th>1172823</th>\n",
       "      <td>19</td>\n",
       "      <td>10</td>\n",
       "      <td>401</td>\n",
       "      <td>127.290190</td>\n",
       "      <td>36.479180</td>\n",
       "    </tr>\n",
       "    <tr>\n",
       "      <th>1173190</th>\n",
       "      <td>19</td>\n",
       "      <td>10</td>\n",
       "      <td>401</td>\n",
       "      <td>127.296364</td>\n",
       "      <td>36.475845</td>\n",
       "    </tr>\n",
       "    <tr>\n",
       "      <th>1177827</th>\n",
       "      <td>13</td>\n",
       "      <td>10</td>\n",
       "      <td>401</td>\n",
       "      <td>127.394790</td>\n",
       "      <td>36.438470</td>\n",
       "    </tr>\n",
       "  </tbody>\n",
       "</table>\n",
       "<p>5291 rows × 5 columns</p>\n",
       "</div>"
      ],
      "text/plain": [
       "         NPA_CL  EVT_STAT_CD  EVT_CL_CD      HPPN_X     HPPN_Y\n",
       "426          13           10        401  127.386404  36.435266\n",
       "1387         31           10        401  127.293270  36.482200\n",
       "1943         31           10        401  127.262514  36.480017\n",
       "2124         31           10        401  127.262247  36.479612\n",
       "3541         31           10        401  127.268839  36.468472\n",
       "...         ...          ...        ...         ...        ...\n",
       "1172176      19           10        401  127.258070  36.489040\n",
       "1172705      13           10        401  127.404595  36.445130\n",
       "1172823      19           10        401  127.290190  36.479180\n",
       "1173190      19           10        401  127.296364  36.475845\n",
       "1177827      13           10        401  127.394790  36.438470\n",
       "\n",
       "[5291 rows x 5 columns]"
      ]
     },
     "execution_count": 483,
     "metadata": {},
     "output_type": "execute_result"
    }
   ],
   "source": [
    "# 병합\n",
    "CDS= pd.concat([SEJONG,DAEJEON,Chungnam])\n",
    "print('중복 처리 전 전체 교통사고 건수: ', len(CDS))\n",
    "\n",
    "# 중복 값, 개수 확인\n",
    "CDS[CDS.duplicated(['HPPN_X','HPPN_Y'])==True]"
   ]
  },
  {
   "cell_type": "code",
   "execution_count": 484,
   "metadata": {},
   "outputs": [
    {
     "name": "stdout",
     "output_type": "stream",
     "text": [
      "중복 처리 전 교통사고 건수:  188695\n",
      "중복 처리 후 교통사고 건수 :  183404\n"
     ]
    }
   ],
   "source": [
    "# 중복 값 제거, (HPPN_X와 HPPN_Y둘다 같아야 제거)\n",
    "CDS = duplicated_location(CDS)"
   ]
  },
  {
   "cell_type": "code",
   "execution_count": 485,
   "metadata": {},
   "outputs": [
    {
     "data": {
      "text/plain": [
       "NPA_CL         0\n",
       "EVT_STAT_CD    0\n",
       "EVT_CL_CD      0\n",
       "HPPN_X         0\n",
       "HPPN_Y         0\n",
       "dtype: int64"
      ]
     },
     "execution_count": 485,
     "metadata": {},
     "output_type": "execute_result"
    }
   ],
   "source": [
    "CDS.isnull().sum()"
   ]
  },
  {
   "cell_type": "markdown",
   "metadata": {},
   "source": [
    "### 충남, 대전, 세종 지역에서 각 청이 관리하는 사건만 추출"
   ]
  },
  {
   "cell_type": "code",
   "execution_count": 486,
   "metadata": {},
   "outputs": [
    {
     "name": "stdout",
     "output_type": "stream",
     "text": [
      "대전청 교통사고 관리 건 수  65623\n",
      "세종청 교통사고 관리 건 수  7155\n",
      "충남청 교통사고 관리 건 수  102638\n"
     ]
    }
   ],
   "source": [
    "DJPC = DAEJEON[DAEJEON['NPA_CL']== 13]\n",
    "SJPC = SEJONG[SEJONG['NPA_CL']== 31]\n",
    "CHPC = Chungnam[Chungnam['NPA_CL']== 19]\n",
    "\n",
    "print('대전청 교통사고 관리 건 수 ', len(DJPC))\n",
    "print('세종청 교통사고 관리 건 수 ', len(SJPC))\n",
    "print('충남청 교통사고 관리 건 수 ', len(CHPC))"
   ]
  },
  {
   "cell_type": "markdown",
   "metadata": {},
   "source": [
    "### 2020년 데이터"
   ]
  },
  {
   "cell_type": "code",
   "execution_count": 487,
   "metadata": {},
   "outputs": [
    {
     "data": {
      "text/plain": [
       "99866"
      ]
     },
     "execution_count": 487,
     "metadata": {},
     "output_type": "execute_result"
    }
   ],
   "source": [
    "TA_2020 = pd.concat([k_2020, n_2020])\n",
    "len(TA_2020)"
   ]
  },
  {
   "cell_type": "code",
   "execution_count": 488,
   "metadata": {},
   "outputs": [
    {
     "name": "stdout",
     "output_type": "stream",
     "text": [
      "중복 처리 전 교통사고 건수:  99866\n",
      "중복 처리 후 교통사고 건수 :  72985\n"
     ]
    }
   ],
   "source": [
    "TA_2020 = duplicated_location(TA_2020)"
   ]
  },
  {
   "cell_type": "code",
   "execution_count": 489,
   "metadata": {},
   "outputs": [
    {
     "data": {
      "text/plain": [
       "NPA_CL         0\n",
       "EVT_STAT_CD    0\n",
       "EVT_CL_CD      0\n",
       "HPPN_X         0\n",
       "HPPN_Y         0\n",
       "dtype: int64"
      ]
     },
     "execution_count": 489,
     "metadata": {},
     "output_type": "execute_result"
    }
   ],
   "source": [
    "TA_2020 = TA_2020.fillna({'HPPN_X':TA_2020['HPPN_X'].mean()})\n",
    "TA_2020 = TA_2020.fillna({'HPPN_Y':TA_2020['HPPN_Y'].mean()})\n",
    "TA_2020.isnull().sum()"
   ]
  },
  {
   "cell_type": "markdown",
   "metadata": {},
   "source": [
    "#### 2020년 충남"
   ]
  },
  {
   "cell_type": "code",
   "execution_count": 490,
   "metadata": {},
   "outputs": [
    {
     "name": "stdout",
     "output_type": "stream",
     "text": [
      "2020년 충남지역에서 대전지역에 해당하는 데이터 제거 후 개수 :  44878\n",
      "2020년 충남지역에서 세종지역에 해당하는 데이터 제거 후 개수 :  41189\n",
      "2020년 충남지역에서 교통사고 건수 :  40888\n"
     ]
    }
   ],
   "source": [
    "# 충남 - 대전 \n",
    "CH_2020 = pd.DataFrame()\n",
    "CH_2020 = translocation_CH(CH_2020, TA_2020, 127.55529876331815, 127.25007536223731, 36.186117749974656, 36.49779017085958 )\n",
    "print('2020년 충남지역에서 대전지역에 해당하는 데이터 제거 후 개수 : ', len(CH_2020))\n",
    "\n",
    "# 충남 - 세종   127.23, 127.1, 36.24, 36.43)\n",
    "CH_2020 = translocation_CH(CH_2020, CH_2020, 127.40746822278025, 127.12869800443497, 36.41194803285692, 36.70492)\n",
    "print('2020년 충남지역에서 세종지역에 해당하는 데이터 제거 후 개수 : ', len(CH_2020))\n",
    "\n",
    "CH_2020 = translocation(CH_2020,CH_2020, 127.62692947603428,126.13148910811715,35.98803519542761,37.056951491204124 )\n",
    "print('2020년 충남지역에서 교통사고 건수 : ', len(CH_2020))"
   ]
  },
  {
   "cell_type": "markdown",
   "metadata": {},
   "source": [
    "#### 2020년 대전"
   ]
  },
  {
   "cell_type": "code",
   "execution_count": 491,
   "metadata": {},
   "outputs": [
    {
     "name": "stdout",
     "output_type": "stream",
     "text": [
      "2020년 충남지역에서 교통사고 건수 :  27743\n"
     ]
    }
   ],
   "source": [
    "DJ_2020 = pd.DataFrame()\n",
    "DJ_2020 = translocation(DJ_2020, TA_2020, 127.55529876331815, 127.25007536223731, 36.186117749974656, 36.49779017085958)\n",
    "print('2020년 충남지역에서 교통사고 건수 : ', len(DJ_2020))"
   ]
  },
  {
   "cell_type": "markdown",
   "metadata": {},
   "source": [
    "#### 2020년 세종"
   ]
  },
  {
   "cell_type": "code",
   "execution_count": 492,
   "metadata": {},
   "outputs": [
    {
     "name": "stdout",
     "output_type": "stream",
     "text": [
      "2020년 충남지역에서 교통사고 건수 :  5650\n"
     ]
    }
   ],
   "source": [
    "SJ_2020 = pd.DataFrame()\n",
    "SJ_2020 = translocation(SJ_2020, TA_2020, 127.40746822278025, 127.12869800443497, 36.41194803285692, 36.70492)\n",
    "print('2020년 충남지역에서 교통사고 건수 : ', len(SJ_2020))"
   ]
  },
  {
   "cell_type": "markdown",
   "metadata": {},
   "source": [
    "### 2020년 충남, 대전, 세종 교통사고 건수 합"
   ]
  },
  {
   "cell_type": "code",
   "execution_count": 493,
   "metadata": {},
   "outputs": [
    {
     "data": {
      "text/plain": [
       "72985"
      ]
     },
     "execution_count": 493,
     "metadata": {},
     "output_type": "execute_result"
    }
   ],
   "source": [
    "TA_2020_total = pd.concat([CH_2020, DJ_2020, SJ_2020])\n",
    "len(TA_2020)"
   ]
  },
  {
   "cell_type": "code",
   "execution_count": 494,
   "metadata": {},
   "outputs": [
    {
     "name": "stdout",
     "output_type": "stream",
     "text": [
      "중복 처리 전 교통사고 건수:  74281\n",
      "중복 처리 후 교통사고 건수 :  72280\n"
     ]
    }
   ],
   "source": [
    "TA_2020_total = duplicated_location(TA_2020_total)"
   ]
  },
  {
   "cell_type": "markdown",
   "metadata": {},
   "source": [
    "### 2020년 각 경찰청 별로 관리한 교통사고 건수"
   ]
  },
  {
   "cell_type": "code",
   "execution_count": 495,
   "metadata": {},
   "outputs": [
    {
     "name": "stdout",
     "output_type": "stream",
     "text": [
      "대전청 교통사고 관리 건 수  25896\n",
      "세종청 교통사고 관리 건 수  262\n",
      "충남청 교통사고 관리 건 수  40802\n"
     ]
    }
   ],
   "source": [
    "DJPC_2020 = DJ_2020[DJ_2020['NPA_CL']== 13]\n",
    "SJPC_2020 = SJ_2020[SJ_2020['NPA_CL']== 31]\n",
    "CHPC_2020 = CH_2020[CH_2020['NPA_CL']== 19]\n",
    "\n",
    "print('대전청 교통사고 관리 건 수 ', len(DJPC_2020))\n",
    "print('세종청 교통사고 관리 건 수 ', len(SJPC_2020))\n",
    "print('충남청 교통사고 관리 건 수 ', len(CHPC_2020))"
   ]
  },
  {
   "cell_type": "markdown",
   "metadata": {},
   "source": [
    "### 2021년 데이터"
   ]
  },
  {
   "cell_type": "code",
   "execution_count": 496,
   "metadata": {},
   "outputs": [
    {
     "data": {
      "text/plain": [
       "164582"
      ]
     },
     "execution_count": 496,
     "metadata": {},
     "output_type": "execute_result"
    }
   ],
   "source": [
    "len(k_2021)"
   ]
  },
  {
   "cell_type": "code",
   "execution_count": 497,
   "metadata": {},
   "outputs": [
    {
     "name": "stdout",
     "output_type": "stream",
     "text": [
      "중복 처리 전 교통사고 건수:  164582\n",
      "중복 처리 후 교통사고 건수 :  124871\n"
     ]
    }
   ],
   "source": [
    "k_2021 = duplicated_location(k_2021)"
   ]
  },
  {
   "cell_type": "code",
   "execution_count": 498,
   "metadata": {},
   "outputs": [
    {
     "data": {
      "text/plain": [
       "NPA_CL         0\n",
       "EVT_STAT_CD    0\n",
       "EVT_CL_CD      0\n",
       "HPPN_X         0\n",
       "HPPN_Y         0\n",
       "dtype: int64"
      ]
     },
     "execution_count": 498,
     "metadata": {},
     "output_type": "execute_result"
    }
   ],
   "source": [
    "k_2021 = k_2021.fillna({'HPPN_X':k_2021['HPPN_X'].mean()})\n",
    "k_2021 = k_2021.fillna({'HPPN_Y':k_2021['HPPN_Y'].mean()})\n",
    "k_2021.isnull().sum()"
   ]
  },
  {
   "cell_type": "markdown",
   "metadata": {},
   "source": [
    "#### 2021년 충남 교통사고"
   ]
  },
  {
   "cell_type": "code",
   "execution_count": 499,
   "metadata": {},
   "outputs": [
    {
     "name": "stdout",
     "output_type": "stream",
     "text": [
      "2021년 충남지역에서 대전지역에 해당하는 데이터 제거 후 개수 :  75595\n",
      "2021년 충남지역에서 세종지역에 해당하는 데이터 제거 후 개수 :  69007\n",
      "2021년 충남지역에서 교통사고 건수 :  68511\n"
     ]
    }
   ],
   "source": [
    "# 충남 - 대전 \n",
    "CH_2021 = pd.DataFrame()\n",
    "CH_2021 = translocation_CH(CH_2021, k_2021, 127.55529876331815, 127.25007536223731, 36.186117749974656, 36.49779017085958 )\n",
    "print('2021년 충남지역에서 대전지역에 해당하는 데이터 제거 후 개수 : ', len(CH_2021))\n",
    "\n",
    "# 충남 - 세종   127.23, 127.1, 36.24, 36.43)\n",
    "CH_2021 = translocation_CH(CH_2021, CH_2021, 127.40746822278025, 127.12869800443497, 36.41194803285692, 36.70492)\n",
    "print('2021년 충남지역에서 세종지역에 해당하는 데이터 제거 후 개수 : ', len(CH_2021))\n",
    "\n",
    "CH_2021 = translocation(CH_2021,CH_2021, 127.62692947603428,126.13148910811715,35.98803519542761,37.056951491204124 )\n",
    "print('2021년 충남지역에서 교통사고 건수 : ', len(CH_2021))"
   ]
  },
  {
   "cell_type": "markdown",
   "metadata": {},
   "source": [
    "#### 2021년 대전 교통사고"
   ]
  },
  {
   "cell_type": "code",
   "execution_count": 500,
   "metadata": {},
   "outputs": [
    {
     "name": "stdout",
     "output_type": "stream",
     "text": [
      "2021년 대전지역에서 교통사고 건수 :  49276\n"
     ]
    }
   ],
   "source": [
    "DJ_2021 = pd.DataFrame()\n",
    "DJ_2021 = translocation(DJ_2021, k_2021, 127.55529876331815, 127.25007536223731, 36.186117749974656, 36.49779017085958)\n",
    "print('2021년 대전지역에서 교통사고 건수 : ', len(DJ_2021))"
   ]
  },
  {
   "cell_type": "markdown",
   "metadata": {},
   "source": [
    "#### 2021년 세종 교통사고"
   ]
  },
  {
   "cell_type": "code",
   "execution_count": 501,
   "metadata": {},
   "outputs": [
    {
     "name": "stdout",
     "output_type": "stream",
     "text": [
      "2021년 세종지역에서 교통사고 건수 :  10321\n"
     ]
    }
   ],
   "source": [
    "SJ_2021 = pd.DataFrame()\n",
    "SJ_2021 = translocation(SJ_2021, k_2021, 127.40746822278025, 127.12869800443497, 36.41194803285692, 36.70492)\n",
    "print('2021년 세종지역에서 교통사고 건수 : ', len(SJ_2021))"
   ]
  },
  {
   "cell_type": "markdown",
   "metadata": {},
   "source": [
    "### 2021년 충남, 대전, 세종 교통사고 합"
   ]
  },
  {
   "cell_type": "code",
   "execution_count": 503,
   "metadata": {},
   "outputs": [
    {
     "data": {
      "text/plain": [
       "128108"
      ]
     },
     "execution_count": 503,
     "metadata": {},
     "output_type": "execute_result"
    }
   ],
   "source": [
    "TA_2021 = pd.concat([CH_2021, DJ_2021, SJ_2021])\n",
    "len(TA_2021)"
   ]
  },
  {
   "cell_type": "code",
   "execution_count": 504,
   "metadata": {},
   "outputs": [
    {
     "name": "stdout",
     "output_type": "stream",
     "text": [
      "중복 처리 전 교통사고 건수:  128108\n",
      "중복 처리 후 교통사고 건수 :  124375\n"
     ]
    }
   ],
   "source": [
    "TA_2021 = duplicated_location(TA_2021)"
   ]
  },
  {
   "cell_type": "markdown",
   "metadata": {},
   "source": [
    "### 2021년 각 경찰청 별로 관리한 교통사고 건수"
   ]
  },
  {
   "cell_type": "code",
   "execution_count": 505,
   "metadata": {},
   "outputs": [
    {
     "name": "stdout",
     "output_type": "stream",
     "text": [
      "대전청 교통사고 관리 건 수  45776\n",
      "세종청 교통사고 관리 건 수  7090\n",
      "충남청 교통사고 관리 건 수  68095\n"
     ]
    }
   ],
   "source": [
    "DJPC_2021 = DJ_2021[DJ_2021['NPA_CL']== 13]\n",
    "SJPC_2021 = SJ_2021[SJ_2021['NPA_CL']== 31]\n",
    "CHPC_2021 = CH_2021[CH_2021['NPA_CL']== 19]\n",
    "\n",
    "print('대전청 교통사고 관리 건 수 ', len(DJPC_2021))\n",
    "print('세종청 교통사고 관리 건 수 ', len(SJPC_2021))\n",
    "print('충남청 교통사고 관리 건 수 ', len(CHPC_2021))"
   ]
  },
  {
   "cell_type": "markdown",
   "metadata": {},
   "source": [
    "### EDA"
   ]
  },
  {
   "cell_type": "markdown",
   "metadata": {},
   "source": [
    "##### 13 = 대전청\n",
    "##### 19 = 충남청\n",
    "##### 31 = 세종"
   ]
  },
  {
   "cell_type": "code",
   "execution_count": 511,
   "metadata": {},
   "outputs": [],
   "source": [
    "sample = CDS.head(10)"
   ]
  },
  {
   "cell_type": "code",
   "execution_count": 512,
   "metadata": {},
   "outputs": [],
   "source": [
    "cctv = CCTV"
   ]
  },
  {
   "cell_type": "markdown",
   "metadata": {},
   "source": [
    "import folium as f\n",
    "\n",
    "Daejeon = f.Map(location=[36.5847,126.8999],\n",
    "    tiles='OpenStreetMap',\n",
    "    zoom_start=10\n",
    ")\n",
    "Daejeon"
   ]
  },
  {
   "cell_type": "markdown",
   "metadata": {},
   "source": [
    "# 관할 경찰청과 사건상태 변환 함수\n",
    "name = ['없음', '접수중', '접수', '초기지령', '지령', '도착', '네비종결', '종결요청', '지령취소', '타청이첩', '종결요청']\n",
    "\n",
    "def TransName(sample):\n",
    "    for i in range(len(sample)):\n",
    "        if(sample.iloc[i]['EVT_STAT_CD']==1):\n",
    "            return name[1]\n",
    "        elif (sample.iloc[i]['EVT_STAT_CD']==2):\n",
    "            return name[2]\n",
    "        elif (sample.iloc[i]['EVT_STAT_CD']==3):\n",
    "            return name[3]\n",
    "        elif (sample.iloc[i]['EVT_STAT_CD']==4):\n",
    "            return name[4]\n",
    "        elif (sample.iloc[i]['EVT_STAT_CD']==5):\n",
    "            return name[5]\n",
    "        elif (sample.iloc[i]['EVT_STAT_CD']==6):\n",
    "            return name[6]\n",
    "        elif (sample.iloc[i]['EVT_STAT_CD']==7):\n",
    "            return name[7]\n",
    "        elif (sample.iloc[i]['EVT_STAT_CD']==8):\n",
    "            return name[8]\n",
    "        elif (sample.iloc[i]['EVT_STAT_CD']==9):\n",
    "            return name[9]\n",
    "        elif (sample.iloc[i]['EVT_STAT_CD']==10):\n",
    "            return name[10]\n",
    "        else :\n",
    "            print('해당없음')\n",
    "\n",
    "def TransPolice(sample):\n",
    "    for i in range(len(sample)):\n",
    "        if(sample.iloc[i]['NPA_CL']==1):\n",
    "            return '본청'\n",
    "        elif (sample.iloc[i]['NPA_CL']==8):\n",
    "            return '서울청'\n",
    "        elif (sample.iloc[i]['NPA_CL']==9):\n",
    "            return '부산청'\n",
    "        elif (sample.iloc[i]['NPA_CL']==10):\n",
    "            return '대구청'\n",
    "        elif (sample.iloc[i]['NPA_CL']==11):\n",
    "            return '인천청'\n",
    "        elif (sample.iloc[i]['NPA_CL']==12):\n",
    "            return '광주청'\n",
    "        elif (sample.iloc[i]['NPA_CL']==13):\n",
    "            return '대전청'\n",
    "        elif (sample.iloc[i]['NPA_CL']==14):\n",
    "            return '울산청'\n",
    "        elif (sample.iloc[i]['NPA_CL']==15):\n",
    "            return '경기남부청'\n",
    "        elif (sample.iloc[i]['NPA_CL']==16):\n",
    "            return '경기북부청'\n",
    "        elif (sample.iloc[i]['NPA_CL']==17):\n",
    "            return '강원청'\n",
    "        elif (sample.iloc[i]['NPA_CL']==18):\n",
    "            return '충북청'\n",
    "        elif (sample.iloc[i]['NPA_CL']==19):\n",
    "            return '충남청'\n",
    "        elif (sample.iloc[i]['NPA_CL']==20):\n",
    "            return '전북청'\n",
    "        elif (sample.iloc[i]['NPA_CL']==21):\n",
    "            return '전남청'\n",
    "        elif (sample.iloc[i]['NPA_CL']==22):\n",
    "            return '경북청'\n",
    "        elif (sample.iloc[i]['NPA_CL']==23):\n",
    "            return '경남청'\n",
    "        elif (sample.iloc[i]['NPA_CL']==24):\n",
    "            return '제주청'\n",
    "        elif (sample.iloc[i]['NPA_CL']==31):\n",
    "            return '세종청'\n",
    "        else :\n",
    "            print('해당없음')"
   ]
  },
  {
   "cell_type": "markdown",
   "metadata": {},
   "source": [
    "for i in range(len(sample)):\n",
    "    marker_Daejeon = f.Marker([sample.iloc[i]['HPPN_Y'],sample.iloc[i]['HPPN_X']],\n",
    "    #popup=sample.iloc[i]['EVT_STAT_CD'],\n",
    "    popup = \"{0}, {1}\".format(TransName(sample),TransPolice(sample)),\n",
    "    icon = f.Icon(color='blue',icon='star'))\n",
    "\n",
    "    marker_Daejeon.add_to(Daejeon)\n",
    "Daejeon"
   ]
  },
  {
   "cell_type": "markdown",
   "metadata": {},
   "source": [
    "https://m.blog.naver.com/rackhunson/222401975250"
   ]
  },
  {
   "cell_type": "markdown",
   "metadata": {},
   "source": [
    "## 충남, 대전, 세종 교통사고 발생 위치 (로딩 완전 김)"
   ]
  },
  {
   "cell_type": "code",
   "execution_count": 516,
   "metadata": {},
   "outputs": [],
   "source": [
    "from folium import Marker\n",
    "from folium.plugins import MarkerCluster\n"
   ]
  },
  {
   "cell_type": "markdown",
   "metadata": {},
   "source": [
    "\n",
    "# Draw a basemap\n",
    "m = f.Map(location=[36.65881035745041,126.67278633997991], tiles='openstreetmap', zoom_start=11)\n",
    "\n",
    "# Add  points to the map\n",
    "mc = MarkerCluster()\n",
    "for _, row in CDS.iterrows():\n",
    "    mc.add_child(    \n",
    "        Marker(location = [row['HPPN_Y'], row['HPPN_X']],\n",
    "        popup= \"{0}, {1}\".format(TransName(CDS),TransPolice(CDS)),\n",
    "    )\n",
    "    )\n",
    "    \n",
    "m.add_child(mc)\n",
    "m.add_child(f.LatLngPopup()) # 클릭시 위도, 경도 출력\n",
    "\n",
    "# Display the map\n",
    "m"
   ]
  },
  {
   "cell_type": "markdown",
   "metadata": {},
   "source": []
  },
  {
   "cell_type": "markdown",
   "metadata": {},
   "source": [
    "## 지역별 교통사고 발생위치"
   ]
  },
  {
   "cell_type": "markdown",
   "metadata": {},
   "source": [
    "### 충남지역 교통사고"
   ]
  },
  {
   "cell_type": "markdown",
   "metadata": {},
   "source": [
    "m = f.Map(location=[36.5847,126.8999], tiles='openstreetmap', zoom_start=11)\n",
    "\n",
    "# Add  points to the map\n",
    "mc = MarkerCluster()\n",
    "for _, row in Chungnam.iterrows():\n",
    "    mc.add_child(    \n",
    "        Marker(location = [row['HPPN_Y'], row['HPPN_X']],\n",
    "        popup= \"{0}, {1}\".format(TransName(Chungnam),TransPolice(Chungnam)),\n",
    "        )\n",
    "    )\n",
    "    \n",
    "m.add_child(mc)\n",
    "m.add_child(f.LatLngPopup()) # 클릭시 위도, 경도 출력\n",
    "\n",
    "# Display the map\n",
    "m"
   ]
  },
  {
   "cell_type": "markdown",
   "metadata": {},
   "source": [
    "### 대전지역 교통사고"
   ]
  },
  {
   "cell_type": "markdown",
   "metadata": {},
   "source": [
    "m = f.Map(location=[36.3504119,127.3845475], tiles='openstreetmap', zoom_start=11)\n",
    "\n",
    "# Add  points to the map\n",
    "mc = MarkerCluster()\n",
    "for _, row in DAEJEON.iterrows():\n",
    "    mc.add_child(    \n",
    "        Marker(location = [row['HPPN_Y'], row['HPPN_X']],\n",
    "        popup= \"{0}, {1}\".format(TransName(DAEJEON),TransPolice(DAEJEON)),\n",
    "        )\n",
    "    )\n",
    "    \n",
    "m.add_child(mc)\n",
    "m.add_child(f.LatLngPopup()) # 클릭시 위도, 경도 출력\n",
    "\n",
    "# Display the map\n",
    "m"
   ]
  },
  {
   "cell_type": "markdown",
   "metadata": {},
   "source": [
    "### 세종지역 교통사고"
   ]
  },
  {
   "cell_type": "markdown",
   "metadata": {},
   "source": [
    "m = f.Map(location=[36.48,127.29], tiles='openstreetmap', zoom_start=11)\n",
    "\n",
    "# Add  points to the map\n",
    "mc = MarkerCluster()\n",
    "for _, row in SEJONG.iterrows():\n",
    "    mc.add_child(    \n",
    "        Marker(location = [row['HPPN_Y'], row['HPPN_X']],\n",
    "        popup= \"{0}, {1}\".format(TransName(SEJONG),TransPolice(SEJONG)),\n",
    "        )\n",
    "    )\n",
    "    \n",
    "m.add_child(mc)\n",
    "m.add_child(f.LatLngPopup()) # 클릭시 위도, 경도 출력\n",
    "\n",
    "# Display the map\n",
    "m"
   ]
  },
  {
   "cell_type": "markdown",
   "metadata": {},
   "source": [
    "## 연도별 충남, 대전, 세종 교통사고 발생 위치"
   ]
  },
  {
   "cell_type": "markdown",
   "metadata": {},
   "source": [
    "### 2020년 충남 교통사고 발생 위치"
   ]
  },
  {
   "cell_type": "markdown",
   "metadata": {},
   "source": [
    "m = f.Map(location=[36.5847,126.8999], tiles='openstreetmap', zoom_start=11)\n",
    "\n",
    "# Add  points to the map\n",
    "mc = MarkerCluster()\n",
    "for _, row in CH_2020.iterrows():\n",
    "    mc.add_child(    \n",
    "        Marker(location = [row['HPPN_Y'], row['HPPN_X']],\n",
    "        popup= \"{0}, {1}\".format(TransName(CH_2020),TransPolice(CH_2020)),\n",
    "        )\n",
    "    )\n",
    "    \n",
    "m.add_child(mc)\n",
    "m.add_child(f.LatLngPopup()) # 클릭시 위도, 경도 출력\n",
    "\n",
    "# Display the map\n",
    "m"
   ]
  },
  {
   "cell_type": "markdown",
   "metadata": {},
   "source": [
    "### 2020년 대전 교통사고 발생 위치"
   ]
  },
  {
   "cell_type": "markdown",
   "metadata": {},
   "source": [
    "m = f.Map(location=[36.3504119,127.3845475], tiles='openstreetmap', zoom_start=11)\n",
    "\n",
    "# Add  points to the map\n",
    "mc = MarkerCluster()\n",
    "for _, row in DJ_2020.iterrows():\n",
    "    mc.add_child(    \n",
    "        Marker(location = [row['HPPN_Y'], row['HPPN_X']],\n",
    "        popup= \"{0}, {1}\".format(TransName(DJ_2020),TransPolice(DJ_2020)),\n",
    "        )\n",
    "    )\n",
    "    \n",
    "m.add_child(mc)\n",
    "m.add_child(f.LatLngPopup()) # 클릭시 위도, 경도 출력\n",
    "\n",
    "# Display the map\n",
    "m"
   ]
  },
  {
   "cell_type": "markdown",
   "metadata": {},
   "source": [
    "### 2020년 세종 교통사고 발생 위치"
   ]
  },
  {
   "cell_type": "markdown",
   "metadata": {},
   "source": [
    "m = f.Map(location=[36.48,127.29], tiles='openstreetmap', zoom_start=11)\n",
    "\n",
    "# Add  points to the map\n",
    "mc = MarkerCluster()\n",
    "for _, row in SJ_2020.iterrows():\n",
    "    mc.add_child(    \n",
    "        Marker(location = [row['HPPN_Y'], row['HPPN_X']],\n",
    "        popup= \"{0}, {1}\".format(TransName(SJ_2020),TransPolice(SJ_2020)),\n",
    "        )\n",
    "    )\n",
    "    \n",
    "m.add_child(mc)\n",
    "m.add_child(f.LatLngPopup()) # 클릭시 위도, 경도 출력\n",
    "\n",
    "# Display the map\n",
    "m"
   ]
  },
  {
   "cell_type": "markdown",
   "metadata": {},
   "source": [
    "### 2021년 충남 교통사고 발생 위치"
   ]
  },
  {
   "cell_type": "markdown",
   "metadata": {},
   "source": [
    "m = f.Map(location=[36.5847,126.8999], tiles='openstreetmap', zoom_start=11)\n",
    "\n",
    "# Add  points to the map\n",
    "mc = MarkerCluster()\n",
    "for _, row in CH_2021.iterrows():\n",
    "    mc.add_child(    \n",
    "        Marker(location = [row['HPPN_Y'], row['HPPN_X']],\n",
    "        popup= \"{0}, {1}\".format(TransName(CH_2021),TransPolice(CH_2021)),\n",
    "        )\n",
    "    )\n",
    "    \n",
    "m.add_child(mc)\n",
    "m.add_child(f.LatLngPopup()) # 클릭시 위도, 경도 출력\n",
    "\n",
    "# Display the map\n",
    "m"
   ]
  },
  {
   "cell_type": "markdown",
   "metadata": {},
   "source": [
    "### 2021년 대전 교통사고 발생 위치"
   ]
  },
  {
   "cell_type": "markdown",
   "metadata": {},
   "source": [
    "m = f.Map(location=[36.3504119,127.3845475], tiles='openstreetmap', zoom_start=11)\n",
    "\n",
    "# Add  points to the map\n",
    "mc = MarkerCluster()\n",
    "for _, row in DJ_2021.iterrows():\n",
    "    mc.add_child(    \n",
    "        Marker(location = [row['HPPN_Y'], row['HPPN_X']],\n",
    "        popup= \"{0}, {1}\".format(TransName(DJ_2021),TransPolice(DJ_2021)),\n",
    "        )\n",
    "    )\n",
    "    \n",
    "m.add_child(mc)\n",
    "m.add_child(f.LatLngPopup()) # 클릭시 위도, 경도 출력\n",
    "\n",
    "# Display the map\n",
    "m"
   ]
  },
  {
   "cell_type": "markdown",
   "metadata": {},
   "source": [
    "### 2021년 세종 교통사고 발생 위치"
   ]
  },
  {
   "cell_type": "markdown",
   "metadata": {},
   "source": [
    "m = f.Map(location=[36.48,127.29], tiles='openstreetmap', zoom_start=11)\n",
    "\n",
    "# Add  points to the map\n",
    "mc = MarkerCluster()\n",
    "for _, row in SJ_2021.iterrows():\n",
    "    mc.add_child(    \n",
    "        Marker(location = [row['HPPN_Y'], row['HPPN_X']],\n",
    "        popup= \"{0}, {1}\".format(TransName(SJ_2021),TransPolice(SJ_2021)),\n",
    "        )\n",
    "    )\n",
    "    \n",
    "m.add_child(mc)\n",
    "m.add_child(f.LatLngPopup()) # 클릭시 위도, 경도 출력\n",
    "\n",
    "# Display the map\n",
    "m"
   ]
  },
  {
   "cell_type": "markdown",
   "metadata": {},
   "source": [
    "## 각 청에서 관리하는 교통사고 사건"
   ]
  },
  {
   "cell_type": "markdown",
   "metadata": {},
   "source": [
    "### 대전청에서 관리한 교통사고 사건"
   ]
  },
  {
   "cell_type": "markdown",
   "metadata": {},
   "source": [
    "m = f.Map(location=[36.3504119,127.3845475], tiles='openstreetmap', zoom_start=11)\n",
    "\n",
    "# Add  points to the map\n",
    "mc = MarkerCluster()\n",
    "for _, row in DJPC.iterrows():\n",
    "    mc.add_child(    \n",
    "        Marker(location = [row['HPPN_Y'], row['HPPN_X']],\n",
    "        popup= \"{0}, {1}\".format(TransName(DJPC),TransPolice(DJPC)),\n",
    "        )\n",
    "    )\n",
    "    \n",
    "m.add_child(mc)\n",
    "m.add_child(f.LatLngPopup()) # 클릭시 위도, 경도 출력\n",
    "\n",
    "# Display the map\n",
    "m"
   ]
  },
  {
   "cell_type": "markdown",
   "metadata": {},
   "source": [
    "### 세종청에서 관리한 교통사고 사건"
   ]
  },
  {
   "cell_type": "markdown",
   "metadata": {},
   "source": [
    "m = f.Map(location=[36.48,127.29], tiles='openstreetmap', zoom_start=11)\n",
    "\n",
    "# Add  points to the map\n",
    "mc = MarkerCluster()\n",
    "for _, row in SJPC.iterrows():\n",
    "    mc.add_child(    \n",
    "        Marker(location = [row['HPPN_Y'], row['HPPN_X']],\n",
    "              popup= \"{0}, {1}\".format(TransName(SJPC),TransPolice(SJPC)),\n",
    "              )\n",
    "    )\n",
    "    \n",
    "m.add_child(mc)\n",
    "m.add_child(f.LatLngPopup()) # 클릭시 위도, 경도 출력\n",
    "\n",
    "# Display the map\n",
    "m"
   ]
  },
  {
   "cell_type": "markdown",
   "metadata": {},
   "source": [
    "### 충남청에서 관리한 교통사고 사건"
   ]
  },
  {
   "cell_type": "markdown",
   "metadata": {},
   "source": [
    "m = f.Map(location=[36.65881035745041,126.67278633997991], tiles='openstreetmap', zoom_start=11)\n",
    "\n",
    "# Add  points to the map\n",
    "mc = MarkerCluster()\n",
    "for _, row in CHPC.iterrows():\n",
    "    mc.add_child(    \n",
    "        Marker(location = [row['HPPN_Y'], row['HPPN_X']],\n",
    "              popup= \"{0}, {1}\".format(TransName(CHPC),TransPolice(CHPC)),\n",
    "              )\n",
    "    )\n",
    "    \n",
    "m.add_child(mc)\n",
    "m.add_child(f.LatLngPopup()) # 클릭시 위도, 경도 출력\n",
    "\n",
    "\n",
    "\n",
    "# Display the map\n",
    "m"
   ]
  },
  {
   "cell_type": "markdown",
   "metadata": {},
   "source": [
    "## CCTV"
   ]
  },
  {
   "cell_type": "markdown",
   "metadata": {},
   "source": [
    "### 맵 초기화"
   ]
  },
  {
   "cell_type": "markdown",
   "metadata": {},
   "source": [
    "cctv_map = f.Map(location=[36.5847,126.8999],\n",
    "    tiles='OpenStreetMap',\n",
    "    zoom_start=10\n",
    ")\n"
   ]
  },
  {
   "cell_type": "markdown",
   "metadata": {},
   "source": [
    "### 충남 cctv"
   ]
  },
  {
   "cell_type": "markdown",
   "metadata": {},
   "source": [
    "cctv_map = f.Map(location=[36.5847,126.8999],\n",
    "    tiles='OpenStreetMap',\n",
    "    zoom_start=10\n",
    ")\n",
    "\n",
    "for i in range(len(CH_CCTV)):\n",
    "    marker_cctv = f.Marker([CH_CCTV.iloc[i]['위도'],CH_CCTV.iloc[i]['경도']],\n",
    "    popup = \"{0}, {1}\".format(CH_CCTV.iloc[i]['도로노선명'],CH_CCTV.iloc[i]['설치장소']),\n",
    "    icon = f.Icon(color='red',icon='star'))\n",
    "\n",
    "    marker_cctv.add_to(cctv_map)\n",
    "cctv_map"
   ]
  },
  {
   "cell_type": "markdown",
   "metadata": {},
   "source": [
    "### 대전 cctv"
   ]
  },
  {
   "cell_type": "markdown",
   "metadata": {},
   "source": [
    "cctv_map = f.Map(location=[36.5847,126.8999],\n",
    "    tiles='OpenStreetMap',\n",
    "    zoom_start=10\n",
    ")\n",
    "\n",
    "\n",
    "for i in range(len(DJ_CCTV)):\n",
    "    marker_cctv = f.Marker([DJ_CCTV.iloc[i]['위도'],DJ_CCTV.iloc[i]['경도']],\n",
    "    #popup=sample.iloc[i]['EVT_STAT_CD'],\n",
    "    popup = \"{0}, {1}\".format(DJ_CCTV.iloc[i]['도로노선명'],DJ_CCTV.iloc[i]['설치장소']),\n",
    "    icon = f.Icon(color='red',icon='star'))\n",
    "\n",
    "    marker_cctv.add_to(cctv_map)\n",
    "cctv_map"
   ]
  },
  {
   "cell_type": "markdown",
   "metadata": {},
   "source": [
    "### 세종 CCTV"
   ]
  },
  {
   "cell_type": "markdown",
   "metadata": {},
   "source": [
    "cctv_map = f.Map(location=[36.5847,126.8999],\n",
    "    tiles='OpenStreetMap',\n",
    "    zoom_start=10\n",
    ")\n",
    "\n",
    "\n",
    "for i in range(len(SJ_CCTV)):\n",
    "    marker_cctv = f.Marker([SJ_CCTV.iloc[i]['위도'],SJ_CCTV.iloc[i]['경도']],\n",
    "    popup = \"{0}, {1}\".format(SJ_CCTV.iloc[i]['도로노선명'],SJ_CCTV.iloc[i]['설치장소']),\n",
    "    icon = f.Icon(color='red',icon='star'))\n",
    "\n",
    "    marker_cctv.add_to(cctv_map)\n",
    "cctv_map"
   ]
  }
 ],
 "metadata": {
  "kernelspec": {
   "display_name": "Python 3 (ipykernel)",
   "language": "python",
   "name": "python3"
  },
  "language_info": {
   "codemirror_mode": {
    "name": "ipython",
    "version": 3
   },
   "file_extension": ".py",
   "mimetype": "text/x-python",
   "name": "python",
   "nbconvert_exporter": "python",
   "pygments_lexer": "ipython3",
   "version": "3.9.13"
  },
  "vscode": {
   "interpreter": {
    "hash": "de785b5fb224d24975b02fa6d5a4eb196741122ef3064302f94970be82b8e9bc"
   }
  }
 },
 "nbformat": 4,
 "nbformat_minor": 2
}

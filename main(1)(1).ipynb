{
 "cells": [
  {
   "cell_type": "markdown",
   "metadata": {},
   "source": [
    "## 1. Data 가져오기"
   ]
  },
  {
   "cell_type": "code",
   "execution_count": 4,
   "metadata": {},
   "outputs": [],
   "source": [
    "import pandas as pd\n",
    "import numpy as np\n",
    "import matplotlib.pyplot as plt\n",
    "import seaborn as sns\n",
    "import os\n",
    "import warnings\n",
    "warnings.filterwarnings('ignore')\n"
   ]
  },
  {
   "cell_type": "code",
   "execution_count": 5,
   "metadata": {},
   "outputs": [],
   "source": [
    "KP_2020 = pd.read_csv('C:/Users/jihun/data/KP2020.csv',encoding='cp949')\n",
    "KP_2021 = pd.read_csv('C:/Users/jihun/data/KP2021.csv',encoding='cp949')\n",
    "NPA_2020 = pd.read_csv('C:/Users/jihun/data/NPA2020.csv',encoding='cp949')"
   ]
  },
  {
   "cell_type": "markdown",
   "metadata": {},
   "source": [
    "|Column|Description|\n",
    "|:---|:---|\n",
    "|RECV_DEPT_NM|접수 부서|\n",
    "|RECV_CPLT_DM|접수 완료 일시|\n",
    "|NPA_CL|경찰청 구분(코드 번호)|\n",
    "|EVT_STAT_CD|사건 상태 코드|\n",
    "|EVT_CL_CD|사건 종별 코드|\n",
    "|RPTER_SEX|성별(남:1, 여:2, 불상:3)|\n",
    "|HPPN_PNU_ADDR|사건 발생 주소|\n",
    "|HPPN_X|주소 좌표(경도)|\n",
    "|HPPN_Y|주소 좌표(위도)|\n",
    "|SME_EVT_Y|동일 사건 여부|"
   ]
  },
  {
   "cell_type": "markdown",
   "metadata": {},
   "source": [
    "### NPA Column"
   ]
  },
  {
   "cell_type": "markdown",
   "metadata": {},
   "source": [
    "|Column|Description|\n",
    "|:---|:---|\n",
    "|RECV_CPLT_DT|접수 완료 일자|\n",
    "|RECV_CPLT_TM|접수 완료 시간|"
   ]
  },
  {
   "cell_type": "markdown",
   "metadata": {},
   "source": [
    "## 2. Data 전처리"
   ]
  },
  {
   "cell_type": "markdown",
   "metadata": {},
   "source": [
    "#### 1. KP_2020"
   ]
  },
  {
   "cell_type": "code",
   "execution_count": 7,
   "metadata": {},
   "outputs": [
    {
     "data": {
      "text/html": [
       "<div>\n",
       "<style scoped>\n",
       "    .dataframe tbody tr th:only-of-type {\n",
       "        vertical-align: middle;\n",
       "    }\n",
       "\n",
       "    .dataframe tbody tr th {\n",
       "        vertical-align: top;\n",
       "    }\n",
       "\n",
       "    .dataframe thead th {\n",
       "        text-align: right;\n",
       "    }\n",
       "</style>\n",
       "<table border=\"1\" class=\"dataframe\">\n",
       "  <thead>\n",
       "    <tr style=\"text-align: right;\">\n",
       "      <th></th>\n",
       "      <th>NPA_CL</th>\n",
       "      <th>EVT_STAT_CD</th>\n",
       "      <th>EVT_CL_CD</th>\n",
       "      <th>RPTER_SEX</th>\n",
       "      <th>HPPN_X</th>\n",
       "      <th>HPPN_Y</th>\n",
       "      <th>SME_EVT_YN</th>\n",
       "    </tr>\n",
       "  </thead>\n",
       "  <tbody>\n",
       "    <tr>\n",
       "      <th>0</th>\n",
       "      <td>19</td>\n",
       "      <td>10</td>\n",
       "      <td>305</td>\n",
       "      <td>1.0</td>\n",
       "      <td>126.598345</td>\n",
       "      <td>36.341537</td>\n",
       "      <td>Y</td>\n",
       "    </tr>\n",
       "    <tr>\n",
       "      <th>1</th>\n",
       "      <td>13</td>\n",
       "      <td>10</td>\n",
       "      <td>601</td>\n",
       "      <td>3.0</td>\n",
       "      <td>127.404663</td>\n",
       "      <td>36.341685</td>\n",
       "      <td>NaN</td>\n",
       "    </tr>\n",
       "    <tr>\n",
       "      <th>2</th>\n",
       "      <td>13</td>\n",
       "      <td>10</td>\n",
       "      <td>601</td>\n",
       "      <td>1.0</td>\n",
       "      <td>127.404663</td>\n",
       "      <td>36.341685</td>\n",
       "      <td>NaN</td>\n",
       "    </tr>\n",
       "    <tr>\n",
       "      <th>3</th>\n",
       "      <td>19</td>\n",
       "      <td>10</td>\n",
       "      <td>606</td>\n",
       "      <td>3.0</td>\n",
       "      <td>126.524980</td>\n",
       "      <td>36.474390</td>\n",
       "      <td>N</td>\n",
       "    </tr>\n",
       "    <tr>\n",
       "      <th>4</th>\n",
       "      <td>19</td>\n",
       "      <td>10</td>\n",
       "      <td>401</td>\n",
       "      <td>2.0</td>\n",
       "      <td>127.137160</td>\n",
       "      <td>36.826718</td>\n",
       "      <td>NaN</td>\n",
       "    </tr>\n",
       "    <tr>\n",
       "      <th>...</th>\n",
       "      <td>...</td>\n",
       "      <td>...</td>\n",
       "      <td>...</td>\n",
       "      <td>...</td>\n",
       "      <td>...</td>\n",
       "      <td>...</td>\n",
       "      <td>...</td>\n",
       "    </tr>\n",
       "    <tr>\n",
       "      <th>77072</th>\n",
       "      <td>19</td>\n",
       "      <td>10</td>\n",
       "      <td>302</td>\n",
       "      <td>2.0</td>\n",
       "      <td>126.571002</td>\n",
       "      <td>36.387791</td>\n",
       "      <td>NaN</td>\n",
       "    </tr>\n",
       "    <tr>\n",
       "      <th>77073</th>\n",
       "      <td>19</td>\n",
       "      <td>10</td>\n",
       "      <td>501</td>\n",
       "      <td>3.0</td>\n",
       "      <td>NaN</td>\n",
       "      <td>NaN</td>\n",
       "      <td>NaN</td>\n",
       "    </tr>\n",
       "    <tr>\n",
       "      <th>77074</th>\n",
       "      <td>19</td>\n",
       "      <td>10</td>\n",
       "      <td>604</td>\n",
       "      <td>3.0</td>\n",
       "      <td>127.000391</td>\n",
       "      <td>36.788411</td>\n",
       "      <td>NaN</td>\n",
       "    </tr>\n",
       "    <tr>\n",
       "      <th>77075</th>\n",
       "      <td>13</td>\n",
       "      <td>10</td>\n",
       "      <td>302</td>\n",
       "      <td>2.0</td>\n",
       "      <td>127.373351</td>\n",
       "      <td>36.348051</td>\n",
       "      <td>Y</td>\n",
       "    </tr>\n",
       "    <tr>\n",
       "      <th>77076</th>\n",
       "      <td>13</td>\n",
       "      <td>10</td>\n",
       "      <td>601</td>\n",
       "      <td>3.0</td>\n",
       "      <td>NaN</td>\n",
       "      <td>NaN</td>\n",
       "      <td>NaN</td>\n",
       "    </tr>\n",
       "  </tbody>\n",
       "</table>\n",
       "<p>77077 rows × 7 columns</p>\n",
       "</div>"
      ],
      "text/plain": [
       "       NPA_CL  EVT_STAT_CD  EVT_CL_CD  RPTER_SEX      HPPN_X     HPPN_Y  \\\n",
       "0          19           10        305        1.0  126.598345  36.341537   \n",
       "1          13           10        601        3.0  127.404663  36.341685   \n",
       "2          13           10        601        1.0  127.404663  36.341685   \n",
       "3          19           10        606        3.0  126.524980  36.474390   \n",
       "4          19           10        401        2.0  127.137160  36.826718   \n",
       "...       ...          ...        ...        ...         ...        ...   \n",
       "77072      19           10        302        2.0  126.571002  36.387791   \n",
       "77073      19           10        501        3.0         NaN        NaN   \n",
       "77074      19           10        604        3.0  127.000391  36.788411   \n",
       "77075      13           10        302        2.0  127.373351  36.348051   \n",
       "77076      13           10        601        3.0         NaN        NaN   \n",
       "\n",
       "      SME_EVT_YN  \n",
       "0              Y  \n",
       "1            NaN  \n",
       "2            NaN  \n",
       "3              N  \n",
       "4            NaN  \n",
       "...          ...  \n",
       "77072        NaN  \n",
       "77073        NaN  \n",
       "77074        NaN  \n",
       "77075          Y  \n",
       "77076        NaN  \n",
       "\n",
       "[77077 rows x 7 columns]"
      ]
     },
     "execution_count": 7,
     "metadata": {},
     "output_type": "execute_result"
    }
   ],
   "source": [
    "### 필요없는 항목 제거 => 경찰청 이름, 시간, 사건 발생 주소\n",
    "KP_2020.drop(['RECV_DEPT_NM','RECV_CPLT_DM','HPPN_PNU_ADDR'], axis=1, inplace=True)\n",
    "KP_2020"
   ]
  },
  {
   "cell_type": "code",
   "execution_count": 10,
   "metadata": {},
   "outputs": [
    {
     "data": {
      "text/plain": [
       "NPA_CL             0\n",
       "EVT_STAT_CD        0\n",
       "EVT_CL_CD          0\n",
       "RPTER_SEX       2419\n",
       "HPPN_X         16764\n",
       "HPPN_Y         16764\n",
       "SME_EVT_YN     63635\n",
       "dtype: int64"
      ]
     },
     "execution_count": 10,
     "metadata": {},
     "output_type": "execute_result"
    }
   ],
   "source": [
    "KP_2020.isnull().sum()"
   ]
  },
  {
   "cell_type": "code",
   "execution_count": 11,
   "metadata": {},
   "outputs": [
    {
     "data": {
      "text/html": [
       "<div>\n",
       "<style scoped>\n",
       "    .dataframe tbody tr th:only-of-type {\n",
       "        vertical-align: middle;\n",
       "    }\n",
       "\n",
       "    .dataframe tbody tr th {\n",
       "        vertical-align: top;\n",
       "    }\n",
       "\n",
       "    .dataframe thead th {\n",
       "        text-align: right;\n",
       "    }\n",
       "</style>\n",
       "<table border=\"1\" class=\"dataframe\">\n",
       "  <thead>\n",
       "    <tr style=\"text-align: right;\">\n",
       "      <th></th>\n",
       "      <th>NPA_CL</th>\n",
       "      <th>EVT_STAT_CD</th>\n",
       "      <th>EVT_CL_CD</th>\n",
       "      <th>HPPN_X</th>\n",
       "      <th>HPPN_Y</th>\n",
       "    </tr>\n",
       "  </thead>\n",
       "  <tbody>\n",
       "    <tr>\n",
       "      <th>0</th>\n",
       "      <td>19</td>\n",
       "      <td>10</td>\n",
       "      <td>305</td>\n",
       "      <td>126.598345</td>\n",
       "      <td>36.341537</td>\n",
       "    </tr>\n",
       "    <tr>\n",
       "      <th>1</th>\n",
       "      <td>13</td>\n",
       "      <td>10</td>\n",
       "      <td>601</td>\n",
       "      <td>127.404663</td>\n",
       "      <td>36.341685</td>\n",
       "    </tr>\n",
       "    <tr>\n",
       "      <th>2</th>\n",
       "      <td>13</td>\n",
       "      <td>10</td>\n",
       "      <td>601</td>\n",
       "      <td>127.404663</td>\n",
       "      <td>36.341685</td>\n",
       "    </tr>\n",
       "    <tr>\n",
       "      <th>3</th>\n",
       "      <td>19</td>\n",
       "      <td>10</td>\n",
       "      <td>606</td>\n",
       "      <td>126.524980</td>\n",
       "      <td>36.474390</td>\n",
       "    </tr>\n",
       "    <tr>\n",
       "      <th>4</th>\n",
       "      <td>19</td>\n",
       "      <td>10</td>\n",
       "      <td>401</td>\n",
       "      <td>127.137160</td>\n",
       "      <td>36.826718</td>\n",
       "    </tr>\n",
       "  </tbody>\n",
       "</table>\n",
       "</div>"
      ],
      "text/plain": [
       "   NPA_CL  EVT_STAT_CD  EVT_CL_CD      HPPN_X     HPPN_Y\n",
       "0      19           10        305  126.598345  36.341537\n",
       "1      13           10        601  127.404663  36.341685\n",
       "2      13           10        601  127.404663  36.341685\n",
       "3      19           10        606  126.524980  36.474390\n",
       "4      19           10        401  127.137160  36.826718"
      ]
     },
     "execution_count": 11,
     "metadata": {},
     "output_type": "execute_result"
    }
   ],
   "source": [
    "### NULL 값 많은것도 그냥 삭제\n",
    "KP_2020.drop(['RPTER_SEX','SME_EVT_YN'], axis=1, inplace=True)\n",
    "KP_2020.head()"
   ]
  },
  {
   "cell_type": "markdown",
   "metadata": {},
   "source": [
    "#### 2. KP_2021"
   ]
  },
  {
   "cell_type": "code",
   "execution_count": 13,
   "metadata": {},
   "outputs": [],
   "source": [
    "### 필요없는 항목 제거 => 경찰청 이름, 시간, 사건 발생 주소, 주소 좌표\n",
    "\n",
    "KP_2021.drop(['RECV_DEPT_NM','RECV_CPLT_DM','HPPN_PNU_ADDR'], axis=1, inplace=True)"
   ]
  },
  {
   "cell_type": "code",
   "execution_count": 16,
   "metadata": {},
   "outputs": [
    {
     "data": {
      "text/plain": [
       "NPA_CL               0\n",
       "EVT_STAT_CD          0\n",
       "EVT_CL_CD            0\n",
       "RPTER_SEX        23894\n",
       "HPPN_X          694401\n",
       "HPPN_Y          694401\n",
       "SME_EVT_YN     2079123\n",
       "dtype: int64"
      ]
     },
     "execution_count": 16,
     "metadata": {},
     "output_type": "execute_result"
    }
   ],
   "source": [
    "KP_2021.isnull().sum()"
   ]
  },
  {
   "cell_type": "code",
   "execution_count": 17,
   "metadata": {},
   "outputs": [
    {
     "data": {
      "text/html": [
       "<div>\n",
       "<style scoped>\n",
       "    .dataframe tbody tr th:only-of-type {\n",
       "        vertical-align: middle;\n",
       "    }\n",
       "\n",
       "    .dataframe tbody tr th {\n",
       "        vertical-align: top;\n",
       "    }\n",
       "\n",
       "    .dataframe thead th {\n",
       "        text-align: right;\n",
       "    }\n",
       "</style>\n",
       "<table border=\"1\" class=\"dataframe\">\n",
       "  <thead>\n",
       "    <tr style=\"text-align: right;\">\n",
       "      <th></th>\n",
       "      <th>NPA_CL</th>\n",
       "      <th>EVT_STAT_CD</th>\n",
       "      <th>EVT_CL_CD</th>\n",
       "      <th>HPPN_X</th>\n",
       "      <th>HPPN_Y</th>\n",
       "    </tr>\n",
       "  </thead>\n",
       "  <tbody>\n",
       "    <tr>\n",
       "      <th>0</th>\n",
       "      <td>13</td>\n",
       "      <td>10</td>\n",
       "      <td>604</td>\n",
       "      <td>127.373676</td>\n",
       "      <td>36.350975</td>\n",
       "    </tr>\n",
       "    <tr>\n",
       "      <th>1</th>\n",
       "      <td>13</td>\n",
       "      <td>10</td>\n",
       "      <td>201</td>\n",
       "      <td>127.339018</td>\n",
       "      <td>36.347420</td>\n",
       "    </tr>\n",
       "    <tr>\n",
       "      <th>2</th>\n",
       "      <td>13</td>\n",
       "      <td>10</td>\n",
       "      <td>601</td>\n",
       "      <td>127.404663</td>\n",
       "      <td>36.341685</td>\n",
       "    </tr>\n",
       "    <tr>\n",
       "      <th>3</th>\n",
       "      <td>13</td>\n",
       "      <td>10</td>\n",
       "      <td>601</td>\n",
       "      <td>127.404663</td>\n",
       "      <td>36.341685</td>\n",
       "    </tr>\n",
       "    <tr>\n",
       "      <th>4</th>\n",
       "      <td>13</td>\n",
       "      <td>10</td>\n",
       "      <td>308</td>\n",
       "      <td>127.420455</td>\n",
       "      <td>36.330413</td>\n",
       "    </tr>\n",
       "  </tbody>\n",
       "</table>\n",
       "</div>"
      ],
      "text/plain": [
       "   NPA_CL  EVT_STAT_CD  EVT_CL_CD      HPPN_X     HPPN_Y\n",
       "0      13           10        604  127.373676  36.350975\n",
       "1      13           10        201  127.339018  36.347420\n",
       "2      13           10        601  127.404663  36.341685\n",
       "3      13           10        601  127.404663  36.341685\n",
       "4      13           10        308  127.420455  36.330413"
      ]
     },
     "execution_count": 17,
     "metadata": {},
     "output_type": "execute_result"
    }
   ],
   "source": [
    "### NULL 값 많은것도 그냥 삭제\n",
    "KP_2021.drop(['RPTER_SEX','SME_EVT_YN'], axis=1, inplace=True)\n",
    "KP_2021.head()"
   ]
  },
  {
   "cell_type": "markdown",
   "metadata": {},
   "source": [
    "#### 3. NPA_2020"
   ]
  },
  {
   "cell_type": "code",
   "execution_count": 19,
   "metadata": {},
   "outputs": [
    {
     "data": {
      "text/html": [
       "<div>\n",
       "<style scoped>\n",
       "    .dataframe tbody tr th:only-of-type {\n",
       "        vertical-align: middle;\n",
       "    }\n",
       "\n",
       "    .dataframe tbody tr th {\n",
       "        vertical-align: top;\n",
       "    }\n",
       "\n",
       "    .dataframe thead th {\n",
       "        text-align: right;\n",
       "    }\n",
       "</style>\n",
       "<table border=\"1\" class=\"dataframe\">\n",
       "  <thead>\n",
       "    <tr style=\"text-align: right;\">\n",
       "      <th></th>\n",
       "      <th>NPA_CL</th>\n",
       "      <th>EVT_STAT_CD</th>\n",
       "      <th>EVT_CL_CD</th>\n",
       "      <th>HPPN_X</th>\n",
       "      <th>HPPN_Y</th>\n",
       "    </tr>\n",
       "  </thead>\n",
       "  <tbody>\n",
       "    <tr>\n",
       "      <th>0</th>\n",
       "      <td>13</td>\n",
       "      <td>10</td>\n",
       "      <td>501</td>\n",
       "      <td>127.409270</td>\n",
       "      <td>36.333010</td>\n",
       "    </tr>\n",
       "    <tr>\n",
       "      <th>1</th>\n",
       "      <td>13</td>\n",
       "      <td>10</td>\n",
       "      <td>501</td>\n",
       "      <td>127.421295</td>\n",
       "      <td>36.325575</td>\n",
       "    </tr>\n",
       "    <tr>\n",
       "      <th>2</th>\n",
       "      <td>13</td>\n",
       "      <td>10</td>\n",
       "      <td>501</td>\n",
       "      <td>127.404663</td>\n",
       "      <td>36.341685</td>\n",
       "    </tr>\n",
       "    <tr>\n",
       "      <th>3</th>\n",
       "      <td>13</td>\n",
       "      <td>10</td>\n",
       "      <td>601</td>\n",
       "      <td>0.000000</td>\n",
       "      <td>0.000000</td>\n",
       "    </tr>\n",
       "    <tr>\n",
       "      <th>4</th>\n",
       "      <td>13</td>\n",
       "      <td>10</td>\n",
       "      <td>601</td>\n",
       "      <td>127.404663</td>\n",
       "      <td>36.341685</td>\n",
       "    </tr>\n",
       "    <tr>\n",
       "      <th>...</th>\n",
       "      <td>...</td>\n",
       "      <td>...</td>\n",
       "      <td>...</td>\n",
       "      <td>...</td>\n",
       "      <td>...</td>\n",
       "    </tr>\n",
       "    <tr>\n",
       "      <th>1178239</th>\n",
       "      <td>19</td>\n",
       "      <td>10</td>\n",
       "      <td>501</td>\n",
       "      <td>NaN</td>\n",
       "      <td>NaN</td>\n",
       "    </tr>\n",
       "    <tr>\n",
       "      <th>1178240</th>\n",
       "      <td>13</td>\n",
       "      <td>10</td>\n",
       "      <td>601</td>\n",
       "      <td>127.404663</td>\n",
       "      <td>36.341685</td>\n",
       "    </tr>\n",
       "    <tr>\n",
       "      <th>1178241</th>\n",
       "      <td>19</td>\n",
       "      <td>10</td>\n",
       "      <td>601</td>\n",
       "      <td>NaN</td>\n",
       "      <td>NaN</td>\n",
       "    </tr>\n",
       "    <tr>\n",
       "      <th>1178242</th>\n",
       "      <td>19</td>\n",
       "      <td>5</td>\n",
       "      <td>301</td>\n",
       "      <td>126.516040</td>\n",
       "      <td>36.305619</td>\n",
       "    </tr>\n",
       "    <tr>\n",
       "      <th>1178243</th>\n",
       "      <td>13</td>\n",
       "      <td>10</td>\n",
       "      <td>601</td>\n",
       "      <td>127.404663</td>\n",
       "      <td>36.341685</td>\n",
       "    </tr>\n",
       "  </tbody>\n",
       "</table>\n",
       "<p>1178244 rows × 5 columns</p>\n",
       "</div>"
      ],
      "text/plain": [
       "         NPA_CL  EVT_STAT_CD  EVT_CL_CD      HPPN_X     HPPN_Y\n",
       "0            13           10        501  127.409270  36.333010\n",
       "1            13           10        501  127.421295  36.325575\n",
       "2            13           10        501  127.404663  36.341685\n",
       "3            13           10        601    0.000000   0.000000\n",
       "4            13           10        601  127.404663  36.341685\n",
       "...         ...          ...        ...         ...        ...\n",
       "1178239      19           10        501         NaN        NaN\n",
       "1178240      13           10        601  127.404663  36.341685\n",
       "1178241      19           10        601         NaN        NaN\n",
       "1178242      19            5        301  126.516040  36.305619\n",
       "1178243      13           10        601  127.404663  36.341685\n",
       "\n",
       "[1178244 rows x 5 columns]"
      ]
     },
     "execution_count": 19,
     "metadata": {},
     "output_type": "execute_result"
    }
   ],
   "source": [
    "### 필요없는 항목 제거 => 사건 날짜, 접수 완료 시간, 발생 주소, 발생 좌표, 동일 사건 여부\n",
    "NPA_2020.drop(['RECV_CPLT_DT','HPPN_OLD_ADDR','SME_EVT_YN','RPTER_SEX','RECV_CPLT_TM'], axis=1, inplace=True)\n",
    "NPA_2020"
   ]
  },
  {
   "cell_type": "markdown",
   "metadata": {},
   "source": [
    "#### column 통일"
   ]
  },
  {
   "cell_type": "code",
   "execution_count": 22,
   "metadata": {},
   "outputs": [
    {
     "data": {
      "text/plain": [
       "Index(['NPA_CL', 'EVT_STAT_CD', 'EVT_CL_CD', 'HPPN_X', 'HPPN_Y'], dtype='object')"
      ]
     },
     "execution_count": 22,
     "metadata": {},
     "output_type": "execute_result"
    }
   ],
   "source": [
    "KP_2020.columns"
   ]
  },
  {
   "cell_type": "code",
   "execution_count": 23,
   "metadata": {},
   "outputs": [
    {
     "data": {
      "text/plain": [
       "Index(['NPA_CL', 'EVT_STAT_CD', 'EVT_CL_CD', 'HPPN_X', 'HPPN_Y'], dtype='object')"
      ]
     },
     "execution_count": 23,
     "metadata": {},
     "output_type": "execute_result"
    }
   ],
   "source": [
    "KP_2021.columns"
   ]
  },
  {
   "cell_type": "code",
   "execution_count": 24,
   "metadata": {},
   "outputs": [
    {
     "data": {
      "text/plain": [
       "Index(['NPA_CL', 'EVT_STAT_CD', 'EVT_CL_CD', 'HPPN_X', 'HPPN_Y'], dtype='object')"
      ]
     },
     "execution_count": 24,
     "metadata": {},
     "output_type": "execute_result"
    }
   ],
   "source": [
    "NPA_2020.columns"
   ]
  },
  {
   "cell_type": "markdown",
   "metadata": {},
   "source": [
    "### 3. 데이터 병합"
   ]
  },
  {
   "cell_type": "code",
   "execution_count": 25,
   "metadata": {},
   "outputs": [],
   "source": [
    "# 원본데이터가 바뀌는것을 미연에 방지하기위해 다른 데이터에 복사 후 진행\n",
    "k_2020 = KP_2020.copy()\n",
    "k_2021 = KP_2021.copy()\n",
    "n_2020 = NPA_2020.copy()\n",
    "\n",
    "# 교통사고건만 추출 후 변수에 저장 \n",
    "k_2020 = k_2020[k_2020['EVT_CL_CD']==401]\n",
    "k_2021 = k_2021[k_2021['EVT_CL_CD']==401]\n",
    "n_2020 = n_2020[n_2020['EVT_CL_CD']==401]"
   ]
  },
  {
   "cell_type": "code",
   "execution_count": 26,
   "metadata": {},
   "outputs": [
    {
     "name": "stdout",
     "output_type": "stream",
     "text": [
      "k_2020 csv 파일 교통사고 건 수 =  6207\n",
      "k_2021 csv 파일 교통사고 건 수 =  164582\n",
      "n_2020 csv 파일 교통사고 건 수 =  93659\n",
      "\n",
      "전체 교통사고 건 수  =  264448\n"
     ]
    }
   ],
   "source": [
    "print('k_2020 csv 파일 교통사고 건 수 = ', len(k_2020))\n",
    "print('k_2021 csv 파일 교통사고 건 수 = ', len(k_2021))\n",
    "print('n_2020 csv 파일 교통사고 건 수 = ', len(n_2020))\n",
    "print('\\n전체 교통사고 건 수  = ', len(k_2020)+len(k_2021)+len(n_2020))"
   ]
  },
  {
   "cell_type": "code",
   "execution_count": 30,
   "metadata": {},
   "outputs": [],
   "source": [
    "ALL_KP_NPA = pd.concat([k_2020,k_2021,n_2020])"
   ]
  },
  {
   "cell_type": "markdown",
   "metadata": {},
   "source": [
    "#### 중복값 제거"
   ]
  },
  {
   "cell_type": "code",
   "execution_count": 32,
   "metadata": {},
   "outputs": [
    {
     "name": "stdout",
     "output_type": "stream",
     "text": [
      "중복값 제거 후 전체 교통사고 건수 :  191655\n"
     ]
    }
   ],
   "source": [
    "All = ALL_KP_NPA\n",
    "All = ALL_KP_NPA.drop_duplicates()\n",
    "print('중복값 제거 후 전체 교통사고 건수 : ', len(All))"
   ]
  },
  {
   "cell_type": "code",
   "execution_count": 35,
   "metadata": {},
   "outputs": [
    {
     "data": {
      "text/plain": [
       "NPA_CL         0\n",
       "EVT_STAT_CD    0\n",
       "EVT_CL_CD      0\n",
       "HPPN_X         0\n",
       "HPPN_Y         0\n",
       "dtype: int64"
      ]
     },
     "execution_count": 35,
     "metadata": {},
     "output_type": "execute_result"
    }
   ],
   "source": [
    "All = All.fillna({'HPPN_X':All['HPPN_X'].mean()})\n",
    "All = All.fillna({'HPPN_Y':All['HPPN_Y'].mean()})\n",
    "All.isnull().sum()"
   ]
  },
  {
   "cell_type": "markdown",
   "metadata": {},
   "source": [
    "|Column|서단(경도)|동단(경도)|북단(위도)|남단(위도)|\n",
    "|:---|:------|:------|:------|:------|\n",
    "|대전|127.14|127.33|36.30|36.10|\n",
    "|세종|127.1|127.23|36.43|36.24|\n",
    "|충남|125.3221|127.3831|37.0344|35.5830|"
   ]
  },
  {
   "cell_type": "markdown",
   "metadata": {},
   "source": [
    "### 충남"
   ]
  },
  {
   "cell_type": "code",
   "execution_count": 38,
   "metadata": {},
   "outputs": [],
   "source": [
    "Chungnam = All"
   ]
  },
  {
   "cell_type": "code",
   "execution_count": 39,
   "metadata": {},
   "outputs": [],
   "source": [
    "#서단보다 더 경도가 낮은 데이터\n",
    "#     (All[(All['HPPN_X']<125.3221)])\n",
    "#동단보다 더 경도가 높은 데이터\n",
    "#     All[All['HPPN_X']>127.3831]\n",
    "#남단보다 위도가 더 낮은 데이터\n",
    "#     All[(All['HPPN_Y']<35.5830)]\n",
    "#북단보다 위도가 더 높은 데이터\n",
    "#     All[(All['HPPN_Y']>37.0344)]\n",
    "\n",
    "# 서단 관련 삭제\n",
    "Chungnam = Chungnam.drop(Chungnam[(Chungnam['HPPN_X']<125.3221)].index)\n",
    "\n",
    "#동단 삭제 \n",
    "Chungnam = Chungnam.drop(Chungnam[(Chungnam['HPPN_X']>127.59)].index)\n",
    "\n",
    "#남단 삭제 \n",
    "Chungnam = Chungnam.drop(Chungnam[(Chungnam['HPPN_Y']<35.5830)].index)\n",
    "\n",
    "#북단 삭제 \n",
    "Chungnam =Chungnam.drop(Chungnam[(Chungnam['HPPN_Y']>37.0344)].index)\n",
    "\n",
    "print('충남지역 교통사고 건수 : ', len(Chungnam))"
   ]
  },
  {
   "cell_type": "markdown",
   "metadata": {},
   "source": [
    "### 대전"
   ]
  },
  {
   "cell_type": "code",
   "execution_count": 41,
   "metadata": {},
   "outputs": [],
   "source": [
    "DAEJOEN = All"
   ]
  },
  {
   "cell_type": "code",
   "execution_count": 42,
   "metadata": {
    "scrolled": true
   },
   "outputs": [],
   "source": [
    "# 서단보다 더 경도가 낮은 데이터\n",
    "#    (All[(All['HPPN_X']<127.14)])\n",
    "# 동단보다 더 경도가 높은 데이터\n",
    "#    (All[(All['HPPN_X']>127.33)])\n",
    "# 북단보다 더 위도가 높은 데이터\n",
    "#    (All[(All['HPPN_Y']>36.3)])\n",
    "# 남단보다 더 위도가 낮은 데이터\n",
    "#    (All[(All['HPPN_Y']<36.1)])\n",
    "\n",
    "# 서단 관련 삭제\n",
    "DAEJOEN = DAEJOEN.drop(DAEJOEN[(DAEJOEN['HPPN_X']<127.14)].index)\n",
    "\n",
    "# 동단 관련 삭제\n",
    "DAEJOEN = DAEJOEN.drop(DAEJOEN[(DAEJOEN['HPPN_X']>127.33)].index)\n",
    "\n",
    "# 남단 관련 삭제\n",
    "DAEJOEN = DAEJOEN.drop(DAEJOEN[(DAEJOEN['HPPN_Y']<36.10)].index)\n",
    "\n",
    "# 북단 관련 삭제\n",
    "DAEJOEN = DAEJOEN.drop(DAEJOEN[(DAEJOEN['HPPN_Y']>36.30)].index)\n",
    "\n",
    "print('대전지역 교통사고 건수 : ', len(DAEJOEN))"
   ]
  },
  {
   "cell_type": "markdown",
   "metadata": {},
   "source": [
    "### 세종"
   ]
  },
  {
   "cell_type": "code",
   "execution_count": 44,
   "metadata": {},
   "outputs": [],
   "source": [
    "SEJONG = All  "
   ]
  },
  {
   "cell_type": "code",
   "execution_count": 45,
   "metadata": {},
   "outputs": [],
   "source": [
    "# 서단보다 더 경도가 낮은 데이터\n",
    "(All[(All['HPPN_X']<127.1)])\n",
    "# 동단보다 더 경도가 높은 데이터\n",
    "(All[(All['HPPN_X']>127.23)])\n",
    "# 북단보다 더 위도가 높은 데이터\n",
    "(All[(All['HPPN_Y']>36.43)])\n",
    "# 남단보다 더 위도가 낮은 데이터\n",
    "(All[(All['HPPN_Y']<36.24)])\n",
    "\n",
    "# 서단 관련 삭제\n",
    "SEJONG = SEJONG.drop(SEJONG[(SEJONG['HPPN_X']<127.1)].index)\n",
    "# 동단 관련 삭제\n",
    "SEJONG = SEJONG.drop(SEJONG[(SEJONG['HPPN_X']>127.23)].index)\n",
    "# 남단 관련 삭제\n",
    "SEJONG = SEJONG.drop(SEJONG[(SEJONG['HPPN_Y']<36.24)].index)\n",
    "# 북단 관련 삭제\n",
    "SEJONG = SEJONG.drop(SEJONG[(SEJONG['HPPN_Y']>36.43)].index)\n",
    "\n",
    "print('세종지역 교통사고 건수 : ', len(SEJONG))"
   ]
  },
  {
   "cell_type": "markdown",
   "metadata": {},
   "source": [
    "### 충남, 대전, 세종 병합"
   ]
  },
  {
   "cell_type": "code",
   "execution_count": 47,
   "metadata": {},
   "outputs": [
    {
     "name": "stdout",
     "output_type": "stream",
     "text": [
      "중복 처리 전 전체 교통사고 건수:  194252\n"
     ]
    },
    {
     "data": {
      "text/html": [
       "<div>\n",
       "<style scoped>\n",
       "    .dataframe tbody tr th:only-of-type {\n",
       "        vertical-align: middle;\n",
       "    }\n",
       "\n",
       "    .dataframe tbody tr th {\n",
       "        vertical-align: top;\n",
       "    }\n",
       "\n",
       "    .dataframe thead th {\n",
       "        text-align: right;\n",
       "    }\n",
       "</style>\n",
       "<table border=\"1\" class=\"dataframe\">\n",
       "  <thead>\n",
       "    <tr style=\"text-align: right;\">\n",
       "      <th></th>\n",
       "      <th>NPA_CL</th>\n",
       "      <th>EVT_STAT_CD</th>\n",
       "      <th>EVT_CL_CD</th>\n",
       "      <th>HPPN_X</th>\n",
       "      <th>HPPN_Y</th>\n",
       "    </tr>\n",
       "  </thead>\n",
       "  <tbody>\n",
       "    <tr>\n",
       "      <th>458145</th>\n",
       "      <td>13</td>\n",
       "      <td>10</td>\n",
       "      <td>401</td>\n",
       "      <td>127.218892</td>\n",
       "      <td>36.426688</td>\n",
       "    </tr>\n",
       "    <tr>\n",
       "      <th>2019476</th>\n",
       "      <td>19</td>\n",
       "      <td>10</td>\n",
       "      <td>401</td>\n",
       "      <td>127.158229</td>\n",
       "      <td>36.361957</td>\n",
       "    </tr>\n",
       "    <tr>\n",
       "      <th>2096503</th>\n",
       "      <td>19</td>\n",
       "      <td>10</td>\n",
       "      <td>401</td>\n",
       "      <td>127.224226</td>\n",
       "      <td>36.403474</td>\n",
       "    </tr>\n",
       "    <tr>\n",
       "      <th>1338</th>\n",
       "      <td>19</td>\n",
       "      <td>10</td>\n",
       "      <td>401</td>\n",
       "      <td>127.143794</td>\n",
       "      <td>36.293962</td>\n",
       "    </tr>\n",
       "    <tr>\n",
       "      <th>1679</th>\n",
       "      <td>19</td>\n",
       "      <td>10</td>\n",
       "      <td>401</td>\n",
       "      <td>127.248420</td>\n",
       "      <td>36.283218</td>\n",
       "    </tr>\n",
       "    <tr>\n",
       "      <th>...</th>\n",
       "      <td>...</td>\n",
       "      <td>...</td>\n",
       "      <td>...</td>\n",
       "      <td>...</td>\n",
       "      <td>...</td>\n",
       "    </tr>\n",
       "    <tr>\n",
       "      <th>1177201</th>\n",
       "      <td>13</td>\n",
       "      <td>10</td>\n",
       "      <td>401</td>\n",
       "      <td>127.426272</td>\n",
       "      <td>36.375414</td>\n",
       "    </tr>\n",
       "    <tr>\n",
       "      <th>1177331</th>\n",
       "      <td>13</td>\n",
       "      <td>10</td>\n",
       "      <td>401</td>\n",
       "      <td>127.325422</td>\n",
       "      <td>36.392237</td>\n",
       "    </tr>\n",
       "    <tr>\n",
       "      <th>1177784</th>\n",
       "      <td>19</td>\n",
       "      <td>10</td>\n",
       "      <td>401</td>\n",
       "      <td>127.239511</td>\n",
       "      <td>36.288657</td>\n",
       "    </tr>\n",
       "    <tr>\n",
       "      <th>1177867</th>\n",
       "      <td>13</td>\n",
       "      <td>10</td>\n",
       "      <td>401</td>\n",
       "      <td>127.309846</td>\n",
       "      <td>36.228440</td>\n",
       "    </tr>\n",
       "    <tr>\n",
       "      <th>1178086</th>\n",
       "      <td>13</td>\n",
       "      <td>5</td>\n",
       "      <td>401</td>\n",
       "      <td>127.446090</td>\n",
       "      <td>36.320140</td>\n",
       "    </tr>\n",
       "  </tbody>\n",
       "</table>\n",
       "<p>7434 rows × 5 columns</p>\n",
       "</div>"
      ],
      "text/plain": [
       "         NPA_CL  EVT_STAT_CD  EVT_CL_CD      HPPN_X     HPPN_Y\n",
       "458145       13           10        401  127.218892  36.426688\n",
       "2019476      19           10        401  127.158229  36.361957\n",
       "2096503      19           10        401  127.224226  36.403474\n",
       "1338         19           10        401  127.143794  36.293962\n",
       "1679         19           10        401  127.248420  36.283218\n",
       "...         ...          ...        ...         ...        ...\n",
       "1177201      13           10        401  127.426272  36.375414\n",
       "1177331      13           10        401  127.325422  36.392237\n",
       "1177784      19           10        401  127.239511  36.288657\n",
       "1177867      13           10        401  127.309846  36.228440\n",
       "1178086      13            5        401  127.446090  36.320140\n",
       "\n",
       "[7434 rows x 5 columns]"
      ]
     },
     "execution_count": 47,
     "metadata": {},
     "output_type": "execute_result"
    }
   ],
   "source": [
    "# 병합\n",
    "CDS= pd.concat([SEJONG,DAEJOEN,Chungnam])\n",
    "print('중복 처리 전 전체 교통사고 건수: ', len(CDS))\n",
    "\n",
    "# 중복 값, 개수 확인\n",
    "CDS[CDS.duplicated(['HPPN_X','HPPN_Y'])==True]"
   ]
  },
  {
   "cell_type": "code",
   "execution_count": 48,
   "metadata": {},
   "outputs": [
    {
     "name": "stdout",
     "output_type": "stream",
     "text": [
      "중복 처리 후 전체 교통사고 건수 :  186818\n"
     ]
    }
   ],
   "source": [
    "# 중복 값 제거, (HPPN_X와 HPPN_Y둘다 같아야 제거)\n",
    "CDS = CDS.drop_duplicates(['HPPN_X','HPPN_Y'])\n",
    "\n",
    "print('중복 처리 후 전체 교통사고 건수 : ', len(CDS))"
   ]
  },
  {
   "cell_type": "markdown",
   "metadata": {},
   "source": [
    "### EDA"
   ]
  },
  {
   "cell_type": "markdown",
   "metadata": {},
   "source": [
    "##### 13 = 대전청\n",
    "##### 19 = 충남청\n",
    "##### 31 = 세종"
   ]
  },
  {
   "cell_type": "code",
   "execution_count": 49,
   "metadata": {},
   "outputs": [],
   "source": [
    "sample = CDS.head(10)"
   ]
  },
  {
   "cell_type": "markdown",
   "metadata": {},
   "source": [
    "import folium as f\n",
    "\n",
    "Daejeon = f.Map(location=[36.5847,126.8999],\n",
    "    tiles='OpenStreetMap',\n",
    "    zoom_start=10\n",
    ")\n",
    "Daejeon"
   ]
  },
  {
   "cell_type": "markdown",
   "metadata": {},
   "source": [
    "# 관할 경찰청과 사건상태 변환 함수\n",
    "name = ['없음', '접수중', '접수', '초기지령', '지령', '도착', '네비종결', '종결요청', '지령취소', '타청이첩', '종결요청']\n",
    "\n",
    "def TransName(sample):\n",
    "    for i in range(len(sample)):\n",
    "        if(sample.iloc[i]['EVT_STAT_CD']==1):\n",
    "            return name[1]\n",
    "        elif (sample.iloc[i]['EVT_STAT_CD']==2):\n",
    "            return name[2]\n",
    "        elif (sample.iloc[i]['EVT_STAT_CD']==3):\n",
    "            return name[3]\n",
    "        elif (sample.iloc[i]['EVT_STAT_CD']==4):\n",
    "            return name[4]\n",
    "        elif (sample.iloc[i]['EVT_STAT_CD']==5):\n",
    "            return name[5]\n",
    "        elif (sample.iloc[i]['EVT_STAT_CD']==6):\n",
    "            return name[6]\n",
    "        elif (sample.iloc[i]['EVT_STAT_CD']==7):\n",
    "            return name[7]\n",
    "        elif (sample.iloc[i]['EVT_STAT_CD']==8):\n",
    "            return name[8]\n",
    "        elif (sample.iloc[i]['EVT_STAT_CD']==9):\n",
    "            return name[9]\n",
    "        elif (sample.iloc[i]['EVT_STAT_CD']==10):\n",
    "            return name[10]\n",
    "        else :\n",
    "            print('해당없음')\n",
    "\n",
    "def TransPolice(sample):\n",
    "    for i in range(len(sample)):\n",
    "        if(sample.iloc[i]['NPA_CL']==1):\n",
    "            return '본청'\n",
    "        elif (sample.iloc[i]['NPA_CL']==8):\n",
    "            return '서울청'\n",
    "        elif (sample.iloc[i]['NPA_CL']==9):\n",
    "            return '부산청'\n",
    "        elif (sample.iloc[i]['NPA_CL']==10):\n",
    "            return '대구청'\n",
    "        elif (sample.iloc[i]['NPA_CL']==11):\n",
    "            return '인천청'\n",
    "        elif (sample.iloc[i]['NPA_CL']==12):\n",
    "            return '광주청'\n",
    "        elif (sample.iloc[i]['NPA_CL']==13):\n",
    "            return '대전청'\n",
    "        elif (sample.iloc[i]['NPA_CL']==14):\n",
    "            return '울산청'\n",
    "        elif (sample.iloc[i]['NPA_CL']==15):\n",
    "            return '경기남부청'\n",
    "        elif (sample.iloc[i]['NPA_CL']==16):\n",
    "            return '경기북부청'\n",
    "        elif (sample.iloc[i]['NPA_CL']==17):\n",
    "            return '강원청'\n",
    "        elif (sample.iloc[i]['NPA_CL']==18):\n",
    "            return '충북청'\n",
    "        elif (sample.iloc[i]['NPA_CL']==19):\n",
    "            return '충남청'\n",
    "        elif (sample.iloc[i]['NPA_CL']==20):\n",
    "            return '전북청'\n",
    "        elif (sample.iloc[i]['NPA_CL']==21):\n",
    "            return '전남청'\n",
    "        elif (sample.iloc[i]['NPA_CL']==22):\n",
    "            return '경북청'\n",
    "        elif (sample.iloc[i]['NPA_CL']==23):\n",
    "            return '경남청'\n",
    "        elif (sample.iloc[i]['NPA_CL']==24):\n",
    "            return '제주청'\n",
    "        elif (sample.iloc[i]['NPA_CL']==31):\n",
    "            return '세종청'\n",
    "        else :\n",
    "            print('해당없음')"
   ]
  },
  {
   "cell_type": "markdown",
   "metadata": {},
   "source": [
    "for i in range(len(sample)):\n",
    "    marker_Daejeon = f.Marker([sample.iloc[i]['HPPN_Y'],sample.iloc[i]['HPPN_X']],\n",
    "    #popup=sample.iloc[i]['EVT_STAT_CD'],\n",
    "    popup = \"{0}, {1}\".format(TransName(sample),TransPolice(sample)),\n",
    "    icon = f.Icon(color='blue',icon='star'))\n",
    "\n",
    "    marker_Daejeon.add_to(Daejeon)\n",
    "Daejeon"
   ]
  },
  {
   "cell_type": "markdown",
   "metadata": {},
   "source": [
    "https://m.blog.naver.com/rackhunson/222401975250"
   ]
  },
  {
   "cell_type": "markdown",
   "metadata": {},
   "source": [
    "## 대전, 세종, 충남 모두"
   ]
  },
  {
   "cell_type": "markdown",
   "metadata": {
    "scrolled": false
   },
   "source": [
    "from folium import Marker\n",
    "from folium.plugins import MarkerCluster\n",
    "\n",
    "# Draw a basemap\n",
    "m = f.Map(location=[36.65881035745041,126.67278633997991], tiles='openstreetmap', zoom_start=11)\n",
    "\n",
    "# Add  points to the map\n",
    "mc = MarkerCluster()\n",
    "for _, row in CDS.iterrows():\n",
    "    mc.add_child(    \n",
    "        Marker(location = [row['HPPN_Y'], row['HPPN_X']],\n",
    "        popup= \"{0}, {1}\".format(TransName(CDS),TransPolice(CDS)),\n",
    "    )\n",
    "    )\n",
    "    \n",
    "m.add_child(mc)\n",
    "m.add_child(f.LatLngPopup()) # 클릭시 위도, 경도 출력\n",
    "\n",
    "# Display the map\n",
    "m"
   ]
  },
  {
   "cell_type": "markdown",
   "metadata": {},
   "source": []
  },
  {
   "cell_type": "markdown",
   "metadata": {},
   "source": [
    "### 각 청에서 관리하는 교통사고 사건"
   ]
  },
  {
   "cell_type": "code",
   "execution_count": 56,
   "metadata": {},
   "outputs": [],
   "source": [
    "DJPC = CDS[CDS['NPA_CL']== 13]\n",
    "SJPC = CDS[CDS['NPA_CL']== 31]\n",
    "CHPC = CDS[CDS['NPA_CL']== 19]"
   ]
  },
  {
   "cell_type": "code",
   "execution_count": 57,
   "metadata": {},
   "outputs": [
    {
     "name": "stdout",
     "output_type": "stream",
     "text": [
      "대전청에서 관리하는 교통사고 사건 :  67301\n",
      "세종청에서 관리하는 교통사고 사건 :  7400\n",
      "충남청에서 관리하는 교통사고 사건 :  111590\n"
     ]
    }
   ],
   "source": [
    "print('대전청에서 관리하는 교통사고 사건 : ',len(DJPC))\n",
    "print('세종청에서 관리하는 교통사고 사건 : ',len(SJPC))\n",
    "print('충남청에서 관리하는 교통사고 사건 : ',len(CHPC))"
   ]
  },
  {
   "cell_type": "markdown",
   "metadata": {},
   "source": [
    "### 대전청에서 관리한 교통사고 사건"
   ]
  },
  {
   "cell_type": "markdown",
   "metadata": {},
   "source": [
    "m = f.Map(location=[36.3504119,127.3845475], tiles='openstreetmap', zoom_start=11)\n",
    "\n",
    "# Add  points to the map\n",
    "mc = MarkerCluster()\n",
    "for _, row in DJPC.iterrows():\n",
    "    mc.add_child(    \n",
    "        Marker(location = [row['HPPN_Y'], row['HPPN_X']],\n",
    "        popup= \"{0}, {1}\".format(TransName(DJPC),TransPolice(DJPC)),\n",
    "        )\n",
    "    )\n",
    "    \n",
    "m.add_child(mc)\n",
    "m.add_child(f.LatLngPopup()) # 클릭시 위도, 경도 출력\n",
    "\n",
    "# Display the map\n",
    "m"
   ]
  },
  {
   "cell_type": "markdown",
   "metadata": {},
   "source": [
    "### 세종청에서 관리한 교통사고 사건"
   ]
  },
  {
   "cell_type": "markdown",
   "metadata": {},
   "source": [
    "m = f.Map(location=[36.48,127.29], tiles='openstreetmap', zoom_start=11)\n",
    "\n",
    "# Add  points to the map\n",
    "mc = MarkerCluster()\n",
    "for _, row in SJPC.iterrows():\n",
    "    mc.add_child(    \n",
    "        Marker(location = [row['HPPN_Y'], row['HPPN_X']],\n",
    "              popup= \"{0}, {1}\".format(TransName(SJPC),TransPolice(SJPC)),\n",
    "              )\n",
    "    )\n",
    "    \n",
    "m.add_child(mc)\n",
    "m.add_child(f.LatLngPopup()) # 클릭시 위도, 경도 출력\n",
    "\n",
    "# Display the map\n",
    "m"
   ]
  },
  {
   "cell_type": "markdown",
   "metadata": {},
   "source": [
    "### 충남청에서 관리한 교통사고 사건"
   ]
  },
  {
   "cell_type": "markdown",
   "metadata": {
    "scrolled": false
   },
   "source": [
    "m = f.Map(location=[36.65881035745041,126.67278633997991], tiles='openstreetmap', zoom_start=11)\n",
    "\n",
    "# Add  points to the map\n",
    "mc = MarkerCluster()\n",
    "for _, row in CHPC.iterrows():\n",
    "    mc.add_child(    \n",
    "        Marker(location = [row['HPPN_Y'], row['HPPN_X']],\n",
    "              popup= \"{0}, {1}\".format(TransName(CHPC),TransPolice(CHPC)),\n",
    "              )\n",
    "    )\n",
    "    \n",
    "m.add_child(mc)\n",
    "m.add_child(f.LatLngPopup()) # 클릭시 위도, 경도 출력\n",
    "\n",
    "\n",
    "\n",
    "# Display the map\n",
    "m"
   ]
  }
 ],
 "metadata": {
  "kernelspec": {
   "display_name": "jh",
   "language": "python",
   "name": "jh"
  },
  "language_info": {
   "codemirror_mode": {
    "name": "ipython",
    "version": 3
   },
   "file_extension": ".py",
   "mimetype": "text/x-python",
   "name": "python",
   "nbconvert_exporter": "python",
   "pygments_lexer": "ipython3",
   "version": "3.6.13"
  },
  "vscode": {
   "interpreter": {
    "hash": "de785b5fb224d24975b02fa6d5a4eb196741122ef3064302f94970be82b8e9bc"
   }
  }
 },
 "nbformat": 4,
 "nbformat_minor": 2
}
